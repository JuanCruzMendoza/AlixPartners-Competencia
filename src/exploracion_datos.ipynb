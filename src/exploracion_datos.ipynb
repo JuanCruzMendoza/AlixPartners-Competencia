{
 "cells": [
  {
   "cell_type": "code",
   "execution_count": 43,
   "id": "216da119",
   "metadata": {},
   "outputs": [],
   "source": [
    "# Imports\n",
    "import pandas as pd\n",
    "import matplotlib.pyplot as plt\n",
    "from sklearn.linear_model import LinearRegression\n",
    "import numpy as np"
   ]
  },
  {
   "cell_type": "code",
   "execution_count": 2,
   "id": "082aa590",
   "metadata": {},
   "outputs": [],
   "source": [
    "customer_data = pd.read_csv(\"../data/raw/eci_customer_data.csv\")\n",
    "product_groups_data = pd.read_csv(\"../data/raw/eci_product_groups.csv\")\n",
    "product_master_data = pd.read_csv(\"../data/raw/eci_product_master.csv\")\n",
    "stores_clusters_data = pd.read_csv(\"../data/raw/eci_stores_clusters.csv\")\n",
    "transactions_data = pd.read_csv(\"../data/raw/eci_transactions.csv\")"
   ]
  },
  {
   "cell_type": "markdown",
   "id": "798c7245",
   "metadata": {},
   "source": [
    "### Transactions"
   ]
  },
  {
   "cell_type": "code",
   "execution_count": 8,
   "id": "79f1826e",
   "metadata": {},
   "outputs": [
    {
     "data": {
      "text/html": [
       "<div>\n",
       "<style scoped>\n",
       "    .dataframe tbody tr th:only-of-type {\n",
       "        vertical-align: middle;\n",
       "    }\n",
       "\n",
       "    .dataframe tbody tr th {\n",
       "        vertical-align: top;\n",
       "    }\n",
       "\n",
       "    .dataframe thead th {\n",
       "        text-align: right;\n",
       "    }\n",
       "</style>\n",
       "<table border=\"1\" class=\"dataframe\">\n",
       "  <thead>\n",
       "    <tr style=\"text-align: right;\">\n",
       "      <th></th>\n",
       "      <th>TRANSACTION_ID</th>\n",
       "      <th>DATE</th>\n",
       "      <th>STORE_ID</th>\n",
       "      <th>SKU</th>\n",
       "      <th>QUANTITY</th>\n",
       "      <th>PRICE</th>\n",
       "      <th>TOTAL_SALES</th>\n",
       "      <th>SUBGROUP</th>\n",
       "      <th>STORE_SUBGROUP_DATE_ID</th>\n",
       "    </tr>\n",
       "  </thead>\n",
       "  <tbody>\n",
       "    <tr>\n",
       "      <th>0</th>\n",
       "      <td>17185</td>\n",
       "      <td>2021-01-01</td>\n",
       "      <td>S00148</td>\n",
       "      <td>CLOMEJA001</td>\n",
       "      <td>1.0</td>\n",
       "      <td>52.80</td>\n",
       "      <td>52.80</td>\n",
       "      <td>Jackets</td>\n",
       "      <td>S00148_Jackets_2021-01-01</td>\n",
       "    </tr>\n",
       "    <tr>\n",
       "      <th>1</th>\n",
       "      <td>4108</td>\n",
       "      <td>2021-01-01</td>\n",
       "      <td>S00035</td>\n",
       "      <td>CLOCHIN014</td>\n",
       "      <td>1.0</td>\n",
       "      <td>55.25</td>\n",
       "      <td>55.25</td>\n",
       "      <td>Infants</td>\n",
       "      <td>S00035_Infants_2021-01-01</td>\n",
       "    </tr>\n",
       "    <tr>\n",
       "      <th>2</th>\n",
       "      <td>2400</td>\n",
       "      <td>2021-01-01</td>\n",
       "      <td>S00020</td>\n",
       "      <td>BEAHASH005</td>\n",
       "      <td>1.0</td>\n",
       "      <td>40.19</td>\n",
       "      <td>40.19</td>\n",
       "      <td>Shampoo</td>\n",
       "      <td>S00020_Shampoo_2021-01-01</td>\n",
       "    </tr>\n",
       "    <tr>\n",
       "      <th>3</th>\n",
       "      <td>7978</td>\n",
       "      <td>2021-01-01</td>\n",
       "      <td>S00068</td>\n",
       "      <td>TOYGABO004</td>\n",
       "      <td>1.0</td>\n",
       "      <td>35.41</td>\n",
       "      <td>35.41</td>\n",
       "      <td>Board Games</td>\n",
       "      <td>S00068_Board Games_2021-01-01</td>\n",
       "    </tr>\n",
       "    <tr>\n",
       "      <th>4</th>\n",
       "      <td>6946</td>\n",
       "      <td>2021-01-01</td>\n",
       "      <td>S00059</td>\n",
       "      <td>BEAHASH006</td>\n",
       "      <td>1.0</td>\n",
       "      <td>38.28</td>\n",
       "      <td>38.28</td>\n",
       "      <td>Shampoo</td>\n",
       "      <td>S00059_Shampoo_2021-01-01</td>\n",
       "    </tr>\n",
       "  </tbody>\n",
       "</table>\n",
       "</div>"
      ],
      "text/plain": [
       "   TRANSACTION_ID        DATE STORE_ID         SKU  QUANTITY  PRICE  \\\n",
       "0           17185  2021-01-01   S00148  CLOMEJA001       1.0  52.80   \n",
       "1            4108  2021-01-01   S00035  CLOCHIN014       1.0  55.25   \n",
       "2            2400  2021-01-01   S00020  BEAHASH005       1.0  40.19   \n",
       "3            7978  2021-01-01   S00068  TOYGABO004       1.0  35.41   \n",
       "4            6946  2021-01-01   S00059  BEAHASH006       1.0  38.28   \n",
       "\n",
       "   TOTAL_SALES     SUBGROUP         STORE_SUBGROUP_DATE_ID  \n",
       "0        52.80      Jackets      S00148_Jackets_2021-01-01  \n",
       "1        55.25      Infants      S00035_Infants_2021-01-01  \n",
       "2        40.19      Shampoo      S00020_Shampoo_2021-01-01  \n",
       "3        35.41  Board Games  S00068_Board Games_2021-01-01  \n",
       "4        38.28      Shampoo      S00059_Shampoo_2021-01-01  "
      ]
     },
     "execution_count": 8,
     "metadata": {},
     "output_type": "execute_result"
    }
   ],
   "source": [
    "transactions_data.head()"
   ]
  },
  {
   "cell_type": "code",
   "execution_count": 15,
   "id": "7e98930d",
   "metadata": {},
   "outputs": [
    {
     "data": {
      "text/html": [
       "<div>\n",
       "<style scoped>\n",
       "    .dataframe tbody tr th:only-of-type {\n",
       "        vertical-align: middle;\n",
       "    }\n",
       "\n",
       "    .dataframe tbody tr th {\n",
       "        vertical-align: top;\n",
       "    }\n",
       "\n",
       "    .dataframe thead th {\n",
       "        text-align: right;\n",
       "    }\n",
       "</style>\n",
       "<table border=\"1\" class=\"dataframe\">\n",
       "  <thead>\n",
       "    <tr style=\"text-align: right;\">\n",
       "      <th></th>\n",
       "      <th>TRANSACTION_ID</th>\n",
       "      <th>QUANTITY</th>\n",
       "      <th>PRICE</th>\n",
       "      <th>TOTAL_SALES</th>\n",
       "    </tr>\n",
       "  </thead>\n",
       "  <tbody>\n",
       "    <tr>\n",
       "      <th>count</th>\n",
       "      <td>19004759.00</td>\n",
       "      <td>18909672.00</td>\n",
       "      <td>19004759.00</td>\n",
       "      <td>19004759.00</td>\n",
       "    </tr>\n",
       "    <tr>\n",
       "      <th>mean</th>\n",
       "      <td>9502380.00</td>\n",
       "      <td>1.44</td>\n",
       "      <td>68.69</td>\n",
       "      <td>97.37</td>\n",
       "    </tr>\n",
       "    <tr>\n",
       "      <th>std</th>\n",
       "      <td>5486201.51</td>\n",
       "      <td>1.01</td>\n",
       "      <td>84.06</td>\n",
       "      <td>155.90</td>\n",
       "    </tr>\n",
       "    <tr>\n",
       "      <th>min</th>\n",
       "      <td>1.00</td>\n",
       "      <td>1.00</td>\n",
       "      <td>4.02</td>\n",
       "      <td>4.02</td>\n",
       "    </tr>\n",
       "    <tr>\n",
       "      <th>25%</th>\n",
       "      <td>4751190.50</td>\n",
       "      <td>1.00</td>\n",
       "      <td>22.94</td>\n",
       "      <td>25.50</td>\n",
       "    </tr>\n",
       "    <tr>\n",
       "      <th>50%</th>\n",
       "      <td>9502380.00</td>\n",
       "      <td>1.00</td>\n",
       "      <td>41.24</td>\n",
       "      <td>48.01</td>\n",
       "    </tr>\n",
       "    <tr>\n",
       "      <th>75%</th>\n",
       "      <td>14253569.50</td>\n",
       "      <td>2.00</td>\n",
       "      <td>74.02</td>\n",
       "      <td>93.02</td>\n",
       "    </tr>\n",
       "    <tr>\n",
       "      <th>max</th>\n",
       "      <td>19004759.00</td>\n",
       "      <td>85.00</td>\n",
       "      <td>431.87</td>\n",
       "      <td>8369.26</td>\n",
       "    </tr>\n",
       "  </tbody>\n",
       "</table>\n",
       "</div>"
      ],
      "text/plain": [
       "       TRANSACTION_ID     QUANTITY        PRICE  TOTAL_SALES\n",
       "count     19004759.00  18909672.00  19004759.00  19004759.00\n",
       "mean       9502380.00         1.44        68.69        97.37\n",
       "std        5486201.51         1.01        84.06       155.90\n",
       "min              1.00         1.00         4.02         4.02\n",
       "25%        4751190.50         1.00        22.94        25.50\n",
       "50%        9502380.00         1.00        41.24        48.01\n",
       "75%       14253569.50         2.00        74.02        93.02\n",
       "max       19004759.00        85.00       431.87      8369.26"
      ]
     },
     "execution_count": 15,
     "metadata": {},
     "output_type": "execute_result"
    }
   ],
   "source": [
    "transactions_data.describe().round(2)"
   ]
  },
  {
   "cell_type": "code",
   "execution_count": null,
   "id": "e15f6d6c",
   "metadata": {},
   "outputs": [
    {
     "data": {
      "text/plain": [
       "array(['2021-01-01', '2021-01-02', '2021-01-03', ..., '2023-12-29',\n",
       "       '2023-12-30', '2023-12-31'], dtype=object)"
      ]
     },
     "execution_count": 34,
     "metadata": {},
     "output_type": "execute_result"
    }
   ],
   "source": [
    "# Formato de fecha: AA-MM-DD\n",
    "transactions_data[\"DATE\"].unique()"
   ]
  },
  {
   "cell_type": "code",
   "execution_count": null,
   "id": "214c30b2",
   "metadata": {},
   "outputs": [
    {
     "name": "stdout",
     "output_type": "stream",
     "text": [
      "TRANSACTION_ID                0\n",
      "DATE                          0\n",
      "STORE_ID                      0\n",
      "SKU                           0\n",
      "QUANTITY                  95087\n",
      "PRICE                         0\n",
      "TOTAL_SALES                   0\n",
      "SUBGROUP                      0\n",
      "STORE_SUBGROUP_DATE_ID        0\n",
      "dtype: int64\n"
     ]
    }
   ],
   "source": [
    "nan_counts_transaction = transactions_data.isna().sum()\n",
    "print(nan_counts_transaction)"
   ]
  },
  {
   "cell_type": "code",
   "execution_count": null,
   "id": "804b4cca",
   "metadata": {},
   "outputs": [],
   "source": [
    "# Si la columna de Quantity es NaN, llenamos los valores de Quantitiy como Total_sales / Price\n",
    "transactions_data['QUANTITY'] = transactions_data.apply(\n",
    "    lambda row: row['TOTAL_SALES'] / row['PRICE'] if pd.isna(row['QUANTITY']) else row['QUANTITY'], axis=1\n",
    ")"
   ]
  },
  {
   "cell_type": "code",
   "execution_count": 26,
   "id": "13c82c07",
   "metadata": {},
   "outputs": [],
   "source": [
    "# Guardamos el DataFrame procesado\n",
    "transactions_data.to_csv(\"../data/procesados/eci_transactions_data_procesado.csv\", index=False)"
   ]
  },
  {
   "cell_type": "code",
   "execution_count": null,
   "id": "6787d23a",
   "metadata": {},
   "outputs": [],
   "source": [
    "# Ejemplo demanda de un producto (CLOMEJA001)\n",
    "jackets = transactions_data[transactions_data[\"SKU\"] == \"CLOMEJA001\"].copy()\n",
    "jackets['DATE'] = pd.to_datetime(jackets['DATE'])\n",
    "\n",
    "# Agrupá por año y mes\n",
    "jackets_mes = jackets.groupby(jackets['DATE'].dt.to_period('M'))[['PRICE', 'QUANTITY']].mean().reset_index()"
   ]
  },
  {
   "cell_type": "code",
   "execution_count": 45,
   "id": "5b887e70",
   "metadata": {},
   "outputs": [],
   "source": [
    "# Regresion lineal\n",
    "modelo_jackets = LinearRegression()\n",
    "X = jackets_mes[['QUANTITY']]\n",
    "y = jackets_mes['PRICE']\n",
    "modelo_jackets.fit(X, y)\n",
    "# Predicciones\n",
    "pred_jackets = modelo_jackets.predict(X)"
   ]
  },
  {
   "cell_type": "code",
   "execution_count": 46,
   "id": "684c24c2",
   "metadata": {},
   "outputs": [
    {
     "data": {
      "text/plain": [
       "Text(0, 0.5, 'Precio Promedio Mensual')"
      ]
     },
     "execution_count": 46,
     "metadata": {},
     "output_type": "execute_result"
    },
    {
     "data": {
      "image/png": "[encoded data removed]",
      "text/plain": [
       "<Figure size 1200x600 with 1 Axes>"
      ]
     },
     "metadata": {},
     "output_type": "display_data"
    }
   ],
   "source": [
    "# Visualizar demanda de producto junto con predicciones del modelo\n",
    "\n",
    "\n",
    "plt.figure(figsize=(12, 6))\n",
    "plt.scatter(X, y, marker='o', linestyle='-')\n",
    "plt.plot(X, pred_jackets, color='red', linewidth=2, label='Predicción del Modelo')\n",
    "plt.legend()\n",
    "plt.title('Demanda de producto CLOMEJA001')\n",
    "plt.xlabel('Cantidad Promedio Mensual')\n",
    "plt.ylabel('Precio Promedio Mensual')"
   ]
  },
  {
   "cell_type": "markdown",
   "id": "6ece645f",
   "metadata": {},
   "source": [
    "### Clientes"
   ]
  },
  {
   "cell_type": "code",
   "execution_count": 3,
   "id": "039b9e1d",
   "metadata": {},
   "outputs": [
    {
     "data": {
      "text/html": [
       "<div>\n",
       "<style scoped>\n",
       "    .dataframe tbody tr th:only-of-type {\n",
       "        vertical-align: middle;\n",
       "    }\n",
       "\n",
       "    .dataframe tbody tr th {\n",
       "        vertical-align: top;\n",
       "    }\n",
       "\n",
       "    .dataframe thead th {\n",
       "        text-align: right;\n",
       "    }\n",
       "</style>\n",
       "<table border=\"1\" class=\"dataframe\">\n",
       "  <thead>\n",
       "    <tr style=\"text-align: right;\">\n",
       "      <th></th>\n",
       "      <th>client_id</th>\n",
       "      <th>phone_number</th>\n",
       "      <th>email_address</th>\n",
       "      <th>city</th>\n",
       "      <th>state</th>\n",
       "      <th>zip_code</th>\n",
       "      <th>education_level</th>\n",
       "      <th>occupation</th>\n",
       "      <th>loyalty_member</th>\n",
       "      <th>loyalty_number</th>\n",
       "      <th>loyalty_points</th>\n",
       "    </tr>\n",
       "  </thead>\n",
       "  <tbody>\n",
       "    <tr>\n",
       "      <th>0</th>\n",
       "      <td>500001</td>\n",
       "      <td>NaN</td>\n",
       "      <td>n.edwards+spam@outlook.com</td>\n",
       "      <td>Spokane</td>\n",
       "      <td>WA</td>\n",
       "      <td>99201</td>\n",
       "      <td>High School</td>\n",
       "      <td>NaN</td>\n",
       "      <td>No</td>\n",
       "      <td>NaN</td>\n",
       "      <td>339</td>\n",
       "    </tr>\n",
       "    <tr>\n",
       "      <th>1</th>\n",
       "      <td>500002</td>\n",
       "      <td>(412) 698-7960</td>\n",
       "      <td>lisa_cook@yahoo.com</td>\n",
       "      <td>Pittsburgh</td>\n",
       "      <td>PA</td>\n",
       "      <td>15222</td>\n",
       "      <td>High School</td>\n",
       "      <td>Sales Representative</td>\n",
       "      <td>Yes</td>\n",
       "      <td>LP525082</td>\n",
       "      <td>406</td>\n",
       "    </tr>\n",
       "    <tr>\n",
       "      <th>2</th>\n",
       "      <td>500003</td>\n",
       "      <td>(303) 491-3774</td>\n",
       "      <td>NaN</td>\n",
       "      <td>Fort Collins</td>\n",
       "      <td>CO</td>\n",
       "      <td>80526</td>\n",
       "      <td>College Graduate</td>\n",
       "      <td>Analyst</td>\n",
       "      <td>True</td>\n",
       "      <td>950139</td>\n",
       "      <td>14</td>\n",
       "    </tr>\n",
       "    <tr>\n",
       "      <th>3</th>\n",
       "      <td>500004</td>\n",
       "      <td>(803) 255-0104</td>\n",
       "      <td>betty-campbell@gmail.com</td>\n",
       "      <td>Charleston</td>\n",
       "      <td>SC</td>\n",
       "      <td>29401</td>\n",
       "      <td>Some College</td>\n",
       "      <td>Supervisor</td>\n",
       "      <td>No</td>\n",
       "      <td>NaN</td>\n",
       "      <td>NaN</td>\n",
       "    </tr>\n",
       "    <tr>\n",
       "      <th>4</th>\n",
       "      <td>500005</td>\n",
       "      <td>(303) 596-8987</td>\n",
       "      <td>NaN</td>\n",
       "      <td>Aurora</td>\n",
       "      <td>CO</td>\n",
       "      <td>80012</td>\n",
       "      <td>Associates</td>\n",
       "      <td>NaN</td>\n",
       "      <td>Yes</td>\n",
       "      <td>NaN</td>\n",
       "      <td>NaN</td>\n",
       "    </tr>\n",
       "  </tbody>\n",
       "</table>\n",
       "</div>"
      ],
      "text/plain": [
       "   client_id    phone_number               email_address          city state  \\\n",
       "0     500001             NaN  n.edwards+spam@outlook.com       Spokane    WA   \n",
       "1     500002  (412) 698-7960         lisa_cook@yahoo.com    Pittsburgh    PA   \n",
       "2     500003  (303) 491-3774                         NaN  Fort Collins    CO   \n",
       "3     500004  (803) 255-0104    betty-campbell@gmail.com    Charleston    SC   \n",
       "4     500005  (303) 596-8987                         NaN        Aurora    CO   \n",
       "\n",
       "  zip_code   education_level            occupation loyalty_member  \\\n",
       "0    99201       High School                   NaN             No   \n",
       "1    15222       High School  Sales Representative            Yes   \n",
       "2    80526  College Graduate               Analyst           True   \n",
       "3    29401      Some College            Supervisor             No   \n",
       "4    80012        Associates                   NaN            Yes   \n",
       "\n",
       "  loyalty_number loyalty_points  \n",
       "0            NaN            339  \n",
       "1       LP525082            406  \n",
       "2         950139             14  \n",
       "3            NaN            NaN  \n",
       "4            NaN            NaN  "
      ]
     },
     "execution_count": 3,
     "metadata": {},
     "output_type": "execute_result"
    }
   ],
   "source": [
    "customer_data.head()"
   ]
  },
  {
   "cell_type": "code",
   "execution_count": 6,
   "id": "8bfa3ae4",
   "metadata": {},
   "outputs": [
    {
     "data": {
      "text/plain": [
       "801923"
      ]
     },
     "execution_count": 6,
     "metadata": {},
     "output_type": "execute_result"
    }
   ],
   "source": [
    "# Cantidad de clientes\n",
    "customer_data[\"client_id\"].nunique()"
   ]
  },
  {
   "cell_type": "markdown",
   "id": "c2446157",
   "metadata": {},
   "source": [
    "### Productos"
   ]
  },
  {
   "cell_type": "code",
   "execution_count": 7,
   "id": "0ebd4d2f",
   "metadata": {},
   "outputs": [
    {
     "data": {
      "text/html": [
       "<div>\n",
       "<style scoped>\n",
       "    .dataframe tbody tr th:only-of-type {\n",
       "        vertical-align: middle;\n",
       "    }\n",
       "\n",
       "    .dataframe tbody tr th {\n",
       "        vertical-align: top;\n",
       "    }\n",
       "\n",
       "    .dataframe thead th {\n",
       "        text-align: right;\n",
       "    }\n",
       "</style>\n",
       "<table border=\"1\" class=\"dataframe\">\n",
       "  <thead>\n",
       "    <tr style=\"text-align: right;\">\n",
       "      <th></th>\n",
       "      <th>sku</th>\n",
       "      <th>product_name</th>\n",
       "      <th>price_group_id</th>\n",
       "      <th>price_group_name</th>\n",
       "      <th>group_type</th>\n",
       "    </tr>\n",
       "  </thead>\n",
       "  <tbody>\n",
       "    <tr>\n",
       "      <th>0</th>\n",
       "      <td>BOOEDTE001</td>\n",
       "      <td>PageTurn Essential Textbooks</td>\n",
       "      <td>BACK_TO_SCHOOL_01</td>\n",
       "      <td>Back to School Essentials</td>\n",
       "      <td>Seasonal</td>\n",
       "    </tr>\n",
       "    <tr>\n",
       "      <th>1</th>\n",
       "      <td>BOOEDTE002</td>\n",
       "      <td>Bookworm Advanced Textbooks</td>\n",
       "      <td>BACK_TO_SCHOOL_01</td>\n",
       "      <td>Back to School Essentials</td>\n",
       "      <td>Seasonal</td>\n",
       "    </tr>\n",
       "    <tr>\n",
       "      <th>2</th>\n",
       "      <td>BOOEDTE004</td>\n",
       "      <td>PageTurn Essential Textbooks</td>\n",
       "      <td>BACK_TO_SCHOOL_01</td>\n",
       "      <td>Back to School Essentials</td>\n",
       "      <td>Seasonal</td>\n",
       "    </tr>\n",
       "    <tr>\n",
       "      <th>3</th>\n",
       "      <td>CLOMESH002</td>\n",
       "      <td>DressRight Shirts Collection</td>\n",
       "      <td>BACK_TO_SCHOOL_01</td>\n",
       "      <td>Back to School Essentials</td>\n",
       "      <td>Seasonal</td>\n",
       "    </tr>\n",
       "    <tr>\n",
       "      <th>4</th>\n",
       "      <td>CLOMESH005</td>\n",
       "      <td>StyleX Relaxed Shirts</td>\n",
       "      <td>BACK_TO_SCHOOL_01</td>\n",
       "      <td>Back to School Essentials</td>\n",
       "      <td>Seasonal</td>\n",
       "    </tr>\n",
       "  </tbody>\n",
       "</table>\n",
       "</div>"
      ],
      "text/plain": [
       "   sku          product_name                        price_group_id      \\\n",
       "0  BOOEDTE001   PageTurn Essential Textbooks        BACK_TO_SCHOOL_01    \n",
       "1  BOOEDTE002   Bookworm Advanced Textbooks         BACK_TO_SCHOOL_01    \n",
       "2  BOOEDTE004   PageTurn Essential Textbooks        BACK_TO_SCHOOL_01    \n",
       "3  CLOMESH002   DressRight Shirts Collection        BACK_TO_SCHOOL_01    \n",
       "4  CLOMESH005   StyleX Relaxed Shirts               BACK_TO_SCHOOL_01    \n",
       "\n",
       "    price_group_name            group_type  \n",
       "0   Back to School Essentials     Seasonal  \n",
       "1   Back to School Essentials     Seasonal  \n",
       "2   Back to School Essentials     Seasonal  \n",
       "3   Back to School Essentials     Seasonal  \n",
       "4   Back to School Essentials     Seasonal  "
      ]
     },
     "execution_count": 7,
     "metadata": {},
     "output_type": "execute_result"
    }
   ],
   "source": [
    "product_groups_data.head()"
   ]
  },
  {
   "cell_type": "code",
   "execution_count": 8,
   "id": "5f4be042",
   "metadata": {},
   "outputs": [
    {
     "data": {
      "text/plain": [
       "80"
      ]
     },
     "execution_count": 8,
     "metadata": {},
     "output_type": "execute_result"
    }
   ],
   "source": [
    "len(product_groups_data)"
   ]
  },
  {
   "cell_type": "code",
   "execution_count": 18,
   "id": "a4ab7871",
   "metadata": {},
   "outputs": [
    {
     "data": {
      "text/plain": [
       "sku                                   0\n",
       " product_name                         0\n",
       " price_group_id                       0\n",
       " price_group_name                     0\n",
       " group_type                           0\n",
       "dtype: int64"
      ]
     },
     "execution_count": 18,
     "metadata": {},
     "output_type": "execute_result"
    }
   ],
   "source": [
    "product_groups_data.isna().sum()"
   ]
  },
  {
   "cell_type": "code",
   "execution_count": 9,
   "id": "9e5eb4c6",
   "metadata": {},
   "outputs": [
    {
     "data": {
      "text/html": [
       "<div>\n",
       "<style scoped>\n",
       "    .dataframe tbody tr th:only-of-type {\n",
       "        vertical-align: middle;\n",
       "    }\n",
       "\n",
       "    .dataframe tbody tr th {\n",
       "        vertical-align: top;\n",
       "    }\n",
       "\n",
       "    .dataframe thead th {\n",
       "        text-align: right;\n",
       "    }\n",
       "</style>\n",
       "<table border=\"1\" class=\"dataframe\">\n",
       "  <thead>\n",
       "    <tr style=\"text-align: right;\">\n",
       "      <th></th>\n",
       "      <th>sku</th>\n",
       "      <th>product_name</th>\n",
       "      <th>category</th>\n",
       "      <th>group</th>\n",
       "      <th>subgroup</th>\n",
       "      <th>brand</th>\n",
       "      <th>base_price</th>\n",
       "      <th>initial_ticket_price</th>\n",
       "      <th>costos</th>\n",
       "    </tr>\n",
       "  </thead>\n",
       "  <tbody>\n",
       "    <tr>\n",
       "      <th>0</th>\n",
       "      <td>ELECOLA001</td>\n",
       "      <td>TechPro Laptops Smart 2025</td>\n",
       "      <td>Electronics</td>\n",
       "      <td>Computing</td>\n",
       "      <td>Laptops</td>\n",
       "      <td>TechPro</td>\n",
       "      <td>284.94</td>\n",
       "      <td>355.14</td>\n",
       "      <td>225.84</td>\n",
       "    </tr>\n",
       "    <tr>\n",
       "      <th>1</th>\n",
       "      <td>ELECOLA002</td>\n",
       "      <td>Electra Laptops Ultra Pro</td>\n",
       "      <td>Electronics</td>\n",
       "      <td>Computing</td>\n",
       "      <td>Laptops</td>\n",
       "      <td>Electra</td>\n",
       "      <td>311.83</td>\n",
       "      <td>352.74</td>\n",
       "      <td>209.99</td>\n",
       "    </tr>\n",
       "    <tr>\n",
       "      <th>2</th>\n",
       "      <td>ELECOLA003</td>\n",
       "      <td>CircuitCity Laptops Air 2024</td>\n",
       "      <td>Electronics</td>\n",
       "      <td>Computing</td>\n",
       "      <td>Laptops</td>\n",
       "      <td>CircuitCity</td>\n",
       "      <td>246.96</td>\n",
       "      <td>301.35</td>\n",
       "      <td>192.61</td>\n",
       "    </tr>\n",
       "    <tr>\n",
       "      <th>3</th>\n",
       "      <td>ELECOLA004</td>\n",
       "      <td>TechPro Laptops Elite 2025</td>\n",
       "      <td>Electronics</td>\n",
       "      <td>Computing</td>\n",
       "      <td>Laptops</td>\n",
       "      <td>TechPro</td>\n",
       "      <td>324.96</td>\n",
       "      <td>420.49</td>\n",
       "      <td>212.23</td>\n",
       "    </tr>\n",
       "    <tr>\n",
       "      <th>4</th>\n",
       "      <td>ELECOLA005</td>\n",
       "      <td>CircuitCity Laptops Pro S</td>\n",
       "      <td>Electronics</td>\n",
       "      <td>Computing</td>\n",
       "      <td>Laptops</td>\n",
       "      <td>CircuitCity</td>\n",
       "      <td>339.88</td>\n",
       "      <td>386.23</td>\n",
       "      <td>231.75</td>\n",
       "    </tr>\n",
       "  </tbody>\n",
       "</table>\n",
       "</div>"
      ],
      "text/plain": [
       "          sku                  product_name     category      group subgroup  \\\n",
       "0  ELECOLA001    TechPro Laptops Smart 2025  Electronics  Computing  Laptops   \n",
       "1  ELECOLA002     Electra Laptops Ultra Pro  Electronics  Computing  Laptops   \n",
       "2  ELECOLA003  CircuitCity Laptops Air 2024  Electronics  Computing  Laptops   \n",
       "3  ELECOLA004    TechPro Laptops Elite 2025  Electronics  Computing  Laptops   \n",
       "4  ELECOLA005     CircuitCity Laptops Pro S  Electronics  Computing  Laptops   \n",
       "\n",
       "         brand  base_price  initial_ticket_price  costos  \n",
       "0      TechPro      284.94                355.14  225.84  \n",
       "1      Electra      311.83                352.74  209.99  \n",
       "2  CircuitCity      246.96                301.35  192.61  \n",
       "3      TechPro      324.96                420.49  212.23  \n",
       "4  CircuitCity      339.88                386.23  231.75  "
      ]
     },
     "execution_count": 9,
     "metadata": {},
     "output_type": "execute_result"
    }
   ],
   "source": [
    "product_master_data.head()"
   ]
  },
  {
   "cell_type": "code",
   "execution_count": 14,
   "id": "ed4c7f98",
   "metadata": {},
   "outputs": [
    {
     "data": {
      "text/html": [
       "<div>\n",
       "<style scoped>\n",
       "    .dataframe tbody tr th:only-of-type {\n",
       "        vertical-align: middle;\n",
       "    }\n",
       "\n",
       "    .dataframe tbody tr th {\n",
       "        vertical-align: top;\n",
       "    }\n",
       "\n",
       "    .dataframe thead th {\n",
       "        text-align: right;\n",
       "    }\n",
       "</style>\n",
       "<table border=\"1\" class=\"dataframe\">\n",
       "  <thead>\n",
       "    <tr style=\"text-align: right;\">\n",
       "      <th></th>\n",
       "      <th>base_price</th>\n",
       "      <th>initial_ticket_price</th>\n",
       "      <th>costos</th>\n",
       "    </tr>\n",
       "  </thead>\n",
       "  <tbody>\n",
       "    <tr>\n",
       "      <th>count</th>\n",
       "      <td>861.00</td>\n",
       "      <td>861.00</td>\n",
       "      <td>861.00</td>\n",
       "    </tr>\n",
       "    <tr>\n",
       "      <th>mean</th>\n",
       "      <td>70.97</td>\n",
       "      <td>85.10</td>\n",
       "      <td>44.63</td>\n",
       "    </tr>\n",
       "    <tr>\n",
       "      <th>std</th>\n",
       "      <td>85.53</td>\n",
       "      <td>102.75</td>\n",
       "      <td>63.73</td>\n",
       "    </tr>\n",
       "    <tr>\n",
       "      <th>min</th>\n",
       "      <td>8.02</td>\n",
       "      <td>8.88</td>\n",
       "      <td>5.76</td>\n",
       "    </tr>\n",
       "    <tr>\n",
       "      <th>25%</th>\n",
       "      <td>24.30</td>\n",
       "      <td>28.72</td>\n",
       "      <td>11.25</td>\n",
       "    </tr>\n",
       "    <tr>\n",
       "      <th>50%</th>\n",
       "      <td>43.00</td>\n",
       "      <td>50.58</td>\n",
       "      <td>20.04</td>\n",
       "    </tr>\n",
       "    <tr>\n",
       "      <th>75%</th>\n",
       "      <td>77.95</td>\n",
       "      <td>93.29</td>\n",
       "      <td>45.93</td>\n",
       "    </tr>\n",
       "    <tr>\n",
       "      <th>max</th>\n",
       "      <td>358.79</td>\n",
       "      <td>452.69</td>\n",
       "      <td>281.26</td>\n",
       "    </tr>\n",
       "  </tbody>\n",
       "</table>\n",
       "</div>"
      ],
      "text/plain": [
       "       base_price  initial_ticket_price  costos\n",
       "count      861.00                861.00  861.00\n",
       "mean        70.97                 85.10   44.63\n",
       "std         85.53                102.75   63.73\n",
       "min          8.02                  8.88    5.76\n",
       "25%         24.30                 28.72   11.25\n",
       "50%         43.00                 50.58   20.04\n",
       "75%         77.95                 93.29   45.93\n",
       "max        358.79                452.69  281.26"
      ]
     },
     "execution_count": 14,
     "metadata": {},
     "output_type": "execute_result"
    }
   ],
   "source": [
    "product_master_data.describe().round(2)"
   ]
  },
  {
   "cell_type": "code",
   "execution_count": 19,
   "id": "e3145331",
   "metadata": {},
   "outputs": [
    {
     "data": {
      "text/plain": [
       "sku                     0\n",
       "product_name            0\n",
       "category                0\n",
       "group                   0\n",
       "subgroup                0\n",
       "brand                   0\n",
       "base_price              0\n",
       "initial_ticket_price    0\n",
       "costos                  0\n",
       "dtype: int64"
      ]
     },
     "execution_count": 19,
     "metadata": {},
     "output_type": "execute_result"
    }
   ],
   "source": [
    "product_master_data.isna().sum()"
   ]
  },
  {
   "cell_type": "markdown",
   "id": "f2b49e0b",
   "metadata": {},
   "source": [
    "### Stores"
   ]
  },
  {
   "cell_type": "code",
   "execution_count": 11,
   "id": "fc95f3ee",
   "metadata": {},
   "outputs": [
    {
     "data": {
      "text/html": [
       "<div>\n",
       "<style scoped>\n",
       "    .dataframe tbody tr th:only-of-type {\n",
       "        vertical-align: middle;\n",
       "    }\n",
       "\n",
       "    .dataframe tbody tr th {\n",
       "        vertical-align: top;\n",
       "    }\n",
       "\n",
       "    .dataframe thead th {\n",
       "        text-align: right;\n",
       "    }\n",
       "</style>\n",
       "<table border=\"1\" class=\"dataframe\">\n",
       "  <thead>\n",
       "    <tr style=\"text-align: right;\">\n",
       "      <th></th>\n",
       "      <th>STORE_ID</th>\n",
       "      <th>BRAND</th>\n",
       "      <th>STORE_NAME</th>\n",
       "      <th>CLUSTER</th>\n",
       "    </tr>\n",
       "  </thead>\n",
       "  <tbody>\n",
       "    <tr>\n",
       "      <th>0</th>\n",
       "      <td>S00001</td>\n",
       "      <td>PrimeGoods</td>\n",
       "      <td>PrimeGoods - Hillsboro</td>\n",
       "      <td>Cluster_West_Coast</td>\n",
       "    </tr>\n",
       "    <tr>\n",
       "      <th>1</th>\n",
       "      <td>S00002</td>\n",
       "      <td>MegaShop</td>\n",
       "      <td>MegaShop Indianapolis Eastside</td>\n",
       "      <td>Midwest_Cluster</td>\n",
       "    </tr>\n",
       "    <tr>\n",
       "      <th>2</th>\n",
       "      <td>STORE0003</td>\n",
       "      <td>MarketExpress</td>\n",
       "      <td>MarketExpress - Las Vegas</td>\n",
       "      <td>Mountain_Cluster</td>\n",
       "    </tr>\n",
       "    <tr>\n",
       "      <th>3</th>\n",
       "      <td>STORE0004</td>\n",
       "      <td>MegaShop</td>\n",
       "      <td>MegaShop - Oklahoma City</td>\n",
       "      <td>Texas_Cluster</td>\n",
       "    </tr>\n",
       "    <tr>\n",
       "      <th>4</th>\n",
       "      <td>S00005</td>\n",
       "      <td>PrimeGoods</td>\n",
       "      <td>PrimeGoods - Charlotte</td>\n",
       "      <td>NC_Cluster</td>\n",
       "    </tr>\n",
       "  </tbody>\n",
       "</table>\n",
       "</div>"
      ],
      "text/plain": [
       "    STORE_ID          BRAND                      STORE_NAME  \\\n",
       "0     S00001     PrimeGoods          PrimeGoods - Hillsboro   \n",
       "1     S00002       MegaShop  MegaShop Indianapolis Eastside   \n",
       "2  STORE0003  MarketExpress       MarketExpress - Las Vegas   \n",
       "3  STORE0004       MegaShop        MegaShop - Oklahoma City   \n",
       "4     S00005     PrimeGoods          PrimeGoods - Charlotte   \n",
       "\n",
       "              CLUSTER  \n",
       "0  Cluster_West_Coast  \n",
       "1     Midwest_Cluster  \n",
       "2    Mountain_Cluster  \n",
       "3       Texas_Cluster  \n",
       "4          NC_Cluster  "
      ]
     },
     "execution_count": 11,
     "metadata": {},
     "output_type": "execute_result"
    }
   ],
   "source": [
    "stores_clusters_data.head()"
   ]
  },
  {
   "cell_type": "code",
   "execution_count": 12,
   "id": "4d59d1c2",
   "metadata": {},
   "outputs": [
    {
     "data": {
      "text/html": [
       "<div>\n",
       "<style scoped>\n",
       "    .dataframe tbody tr th:only-of-type {\n",
       "        vertical-align: middle;\n",
       "    }\n",
       "\n",
       "    .dataframe tbody tr th {\n",
       "        vertical-align: top;\n",
       "    }\n",
       "\n",
       "    .dataframe thead th {\n",
       "        text-align: right;\n",
       "    }\n",
       "</style>\n",
       "<table border=\"1\" class=\"dataframe\">\n",
       "  <thead>\n",
       "    <tr style=\"text-align: right;\">\n",
       "      <th></th>\n",
       "      <th>STORE_ID</th>\n",
       "      <th>BRAND</th>\n",
       "      <th>STORE_NAME</th>\n",
       "      <th>CLUSTER</th>\n",
       "    </tr>\n",
       "  </thead>\n",
       "  <tbody>\n",
       "    <tr>\n",
       "      <th>count</th>\n",
       "      <td>157</td>\n",
       "      <td>157</td>\n",
       "      <td>157</td>\n",
       "      <td>140</td>\n",
       "    </tr>\n",
       "    <tr>\n",
       "      <th>unique</th>\n",
       "      <td>157</td>\n",
       "      <td>9</td>\n",
       "      <td>144</td>\n",
       "      <td>13</td>\n",
       "    </tr>\n",
       "    <tr>\n",
       "      <th>top</th>\n",
       "      <td>S00001</td>\n",
       "      <td>EssentialsPlus</td>\n",
       "      <td>EssentialsPlus - Spartanburg</td>\n",
       "      <td>Cluster_West_Coast</td>\n",
       "    </tr>\n",
       "    <tr>\n",
       "      <th>freq</th>\n",
       "      <td>1</td>\n",
       "      <td>25</td>\n",
       "      <td>3</td>\n",
       "      <td>16</td>\n",
       "    </tr>\n",
       "  </tbody>\n",
       "</table>\n",
       "</div>"
      ],
      "text/plain": [
       "       STORE_ID           BRAND                    STORE_NAME  \\\n",
       "count       157             157                           157   \n",
       "unique      157               9                           144   \n",
       "top      S00001  EssentialsPlus  EssentialsPlus - Spartanburg   \n",
       "freq          1              25                             3   \n",
       "\n",
       "                   CLUSTER  \n",
       "count                  140  \n",
       "unique                  13  \n",
       "top     Cluster_West_Coast  \n",
       "freq                    16  "
      ]
     },
     "execution_count": 12,
     "metadata": {},
     "output_type": "execute_result"
    }
   ],
   "source": [
    "stores_clusters_data.describe()"
   ]
  },
  {
   "cell_type": "code",
   "execution_count": 21,
   "id": "e11901ce",
   "metadata": {},
   "outputs": [
    {
     "data": {
      "text/plain": [
       "STORE_ID       0\n",
       "BRAND          0\n",
       "STORE_NAME     0\n",
       "CLUSTER       17\n",
       "dtype: int64"
      ]
     },
     "execution_count": 21,
     "metadata": {},
     "output_type": "execute_result"
    }
   ],
   "source": [
    "stores_clusters_data.isna().sum()"
   ]
  }
 ],
 "metadata": {
  "kernelspec": {
   "display_name": "Python 3",
   "language": "python",
   "name": "python3"
  },
  "language_info": {
   "codemirror_mode": {
    "name": "ipython",
    "version": 3
   },
   "file_extension": ".py",
   "mimetype": "text/x-python",
   "name": "python",
   "nbconvert_exporter": "python",
   "pygments_lexer": "ipython3",
   "version": "3.12.11"
  }
 },
 "nbformat": 4,
 "nbformat_minor": 5
}
