{
  "cells": [
    {
      "cell_type": "markdown",
      "id": "c829a1e6",
      "metadata": {
        "id": "c829a1e6"
      },
      "source": [
        "## Setup"
      ]
    },
    {
      "cell_type": "code",
      "execution_count": null,
      "id": "e91017e4",
      "metadata": {
        "id": "e91017e4"
      },
      "outputs": [],
      "source": [
        "# Imports\n",
        "import pandas as pd\n",
        "import numpy as np\n",
        "from sklearn.metrics import r2_score\n",
        "from datetime import timedelta\n",
        "import random\n",
        "import pickle\n",
        "import matplotlib.pyplot as plt\n",
        "import lightgbm as lgb"
      ]
    },
    {
      "cell_type": "code",
      "execution_count": null,
      "id": "K-Aups0R_d9H",
      "metadata": {
        "id": "K-Aups0R_d9H"
      },
      "outputs": [],
      "source": [
        "import warnings\n",
        "warnings.simplefilter(action='ignore', category=FutureWarning)"
      ]
    },
    {
      "cell_type": "code",
      "execution_count": null,
      "id": "49abaa5e",
      "metadata": {},
      "outputs": [],
      "source": [
        "# Cambiamos el directorio para importar las funciones de func_aux\n",
        "import sys\n",
        "import os\n",
        "from pathlib import Path\n",
        "sys.path.append(str(Path(os.getcwd()).absolute().parent))"
      ]
    },
    {
      "cell_type": "code",
      "execution_count": null,
      "id": "a2c4759d",
      "metadata": {},
      "outputs": [],
      "source": [
        "# Importamos las funciones auxiliares\n",
        "from src.funcs_aux import *"
      ]
    },
    {
      "cell_type": "code",
      "execution_count": null,
      "id": "9294b306",
      "metadata": {},
      "outputs": [],
      "source": [
        "# Importamos los datos pre-procesados\n",
        "datos_unidos = pd.read_csv(\"../data/procesados/datos_unidos.csv\")"
      ]
    },
    {
      "cell_type": "code",
      "execution_count": null,
      "id": "8ba4409f",
      "metadata": {
        "colab": {
          "base_uri": "https://localhost:8080/"
        },
        "id": "8ba4409f",
        "outputId": "f8c21a62-6b43-4885-bdf5-7c144b674286"
      },
      "outputs": [],
      "source": [
        "datos_unidos.columns"
      ]
    },
    {
      "cell_type": "code",
      "execution_count": null,
      "id": "bb67579e",
      "metadata": {
        "id": "bb67579e"
      },
      "outputs": [],
      "source": [
        "cols_categoricas = ['SKU', 'STORE_ID', 'REGION',\n",
        "       'CITY', 'STATE', 'STORE_TYPE',  'CATEGORY', 'GROUP', 'SUBGROUP', 'GROUP_TYPE',\n",
        "       'PRICE_GROUP_ID', 'BRAND',\n",
        "       \"DAY_OF_WEEK\", \"WEEK\", \"DAY\", \"MONTH\"]"
      ]
    },
    {
      "cell_type": "code",
      "execution_count": null,
      "id": "cda2426d",
      "metadata": {
        "id": "cda2426d"
      },
      "outputs": [],
      "source": [
        "# Ordenamos y cambiamos los tipos de datos para optimizar memoria\n",
        "datos_unidos.sort_values(by=[\"DATE\", \"STORE_ID\", \"SKU\"], inplace=True)\n",
        "\n",
        "for col in cols_categoricas:\n",
        "    datos_unidos[col] = datos_unidos[col].astype(\"category\")\n",
        "\n",
        "datos_unidos[\"DATE\"] = datos_unidos[\"DATE\"].astype(\"datetime64[ns]\")"
      ]
    },
    {
      "cell_type": "code",
      "execution_count": null,
      "id": "eHnkV-D4YzlH",
      "metadata": {
        "id": "eHnkV-D4YzlH"
      },
      "outputs": [],
      "source": [
        "# Completamos el dataset con todas las combinaciones de SKU, STORE_ID y DATE, de manera que el modelo pueda ver los días sin ventas\n",
        "datos_unidos = completar_dataset(datos_unidos)\n",
        "\n",
        "# Completamos las columnas faltantes\n",
        "datos_unidos[\"YEAR\"] = datos_unidos[\"DATE\"].dt.year\n",
        "datos_unidos[\"MONTH\"] = datos_unidos[\"DATE\"].dt.month\n",
        "datos_unidos[\"DAY\"] = datos_unidos[\"DATE\"].dt.day\n",
        "datos_unidos[\"DAY_OF_WEEK\"] = datos_unidos[\"DATE\"].dt.day_name()\n",
        "datos_unidos[\"WEEK\"] = datos_unidos[\"DATE\"].dt.isocalendar().week\n",
        "datos_unidos[\"CLOSEDATE\"] = datos_unidos[\"CLOSEDATE\"].astype(\"datetime64[ns]\")\n",
        "datos_unidos[\"OPENDATE\"] = datos_unidos[\"OPENDATE\"].astype(\"datetime64[ns]\")\n",
        "datos_unidos[\"MONTH_CLOSE\"] = datos_unidos[\"CLOSEDATE\"].dt.month\n",
        "datos_unidos[\"YEAR_CLOSE\"] = datos_unidos[\"CLOSEDATE\"].dt.year\n",
        "datos_unidos[\"MONTH_OPEN\"] = datos_unidos[\"OPENDATE\"].dt.month\n",
        "datos_unidos[\"YEAR_OPEN\"] = datos_unidos[\"OPENDATE\"].dt.year"
      ]
    },
    {
      "cell_type": "code",
      "execution_count": null,
      "id": "mlLkA9MJokaJ",
      "metadata": {
        "id": "mlLkA9MJokaJ"
      },
      "outputs": [],
      "source": [
        "for col in cols_categoricas:\n",
        "    datos_unidos[col] = datos_unidos[col].astype(\"category\")"
      ]
    },
    {
      "cell_type": "code",
      "execution_count": null,
      "id": "UDNA7z-Rn9PX",
      "metadata": {
        "colab": {
          "base_uri": "https://localhost:8080/",
          "height": 0
        },
        "id": "UDNA7z-Rn9PX",
        "outputId": "173ff674-83d9-4216-dd2f-c5380ec3ba3d"
      },
      "outputs": [],
      "source": [
        "# Nos aseguramos que no haya valores nulos\n",
        "datos_unidos.isna().sum()"
      ]
    },
    {
      "cell_type": "markdown",
      "id": "c9d6e6b0",
      "metadata": {
        "id": "c9d6e6b0"
      },
      "source": [
        "## Feature aggregation"
      ]
    },
    {
      "cell_type": "markdown",
      "id": "1d9e886c",
      "metadata": {
        "id": "1d9e886c"
      },
      "source": [
        "Haremos el promedio y desviación estándar de las ventas por subgrupo y por categoría, de manera que el modelo pueda entender mejor los cambios de ventas por épocas del año de grupos más grandes de productos."
      ]
    },
    {
      "cell_type": "code",
      "execution_count": null,
      "id": "0ca3fb1e",
      "metadata": {
        "id": "0ca3fb1e"
      },
      "outputs": [],
      "source": [
        "rolling_sales(datos_unidos, group=\"SUBGROUP\", windows=[7, 30, 90], std=False)\n",
        "rolling_sales(datos_unidos, group=\"SKU\", windows=[7, 30, 90], std=False)\n",
        "rolling_sales(datos_unidos, group=\"STORE_ID\", windows=[30, 90], std=False)"
      ]
    },
    {
      "cell_type": "markdown",
      "id": "I4q0J_OI-gbB",
      "metadata": {
        "id": "I4q0J_OI-gbB"
      },
      "source": [
        "Haremos lo mismo, pero por los cambios porcentuales del precio por SKU y por SUBGROUP, de manera que el modelo pueda entender la estacionalidad también de los precios"
      ]
    },
    {
      "cell_type": "code",
      "execution_count": null,
      "id": "1196923b",
      "metadata": {
        "id": "1196923b"
      },
      "outputs": [],
      "source": [
        "datos_unidos = rolling_price_pct(datos_unidos=datos_unidos, group=\"SKU\", windows=[30,90], std=False)\n",
        "datos_unidos = rolling_price_pct(datos_unidos=datos_unidos, group=\"SUBGROUP\", windows=[30,90], std=False)"
      ]
    },
    {
      "cell_type": "markdown",
      "id": "d237e544",
      "metadata": {
        "id": "d237e544"
      },
      "source": [
        "## Walk-forward validation LightGBM"
      ]
    },
    {
      "cell_type": "code",
      "execution_count": null,
      "id": "5d2af0de",
      "metadata": {
        "colab": {
          "base_uri": "https://localhost:8080/"
        },
        "id": "5d2af0de",
        "outputId": "98734c91-7197-458d-a23e-9256b8a2a2fe"
      },
      "outputs": [],
      "source": [
        "cols = list(datos_unidos.columns)\n",
        "features = [col for col in cols if col not in [\"DATE\", \"TOTAL_SALES\",\n",
        "                                               'INITIAL_TICKET_PRICE', 'BASE_PRICE', \"COSTOS\",\n",
        "                                               \"OPENDATE\", \"CLOSEDATE\", \"QUANTITY\", \"STORE_SUBGROUP_DATE_ID\"] ]\n",
        "\n",
        "print(features)"
      ]
    },
    {
      "cell_type": "markdown",
      "id": "3c1793d7",
      "metadata": {},
      "source": [
        "A continuación, hacemos un walk-forward validation con LightGBM: entrenamos primero el modelo con 365 días de datos, predecimos las ventas de los próximos 7 días, sumamos 30 días de datos y repetimos el proceso, guardando la métrica R2 calculada de los datos de test.\n",
        "\n",
        "Además, para agilizar el proceso, utiliza 7 días de los datos de entrenamiento como data validation, de manera que pueda detenerse si pasan muchos rounds sin mejorar la performance sobre estos datos."
      ]
    },
    {
      "cell_type": "code",
      "execution_count": null,
      "id": "b771c231",
      "metadata": {
        "colab": {
          "base_uri": "https://localhost:8080/"
        },
        "collapsed": true,
        "id": "b771c231",
        "outputId": "5ab545e9-cc86-49c7-f781-ee123b629dea"
      },
      "outputs": [],
      "source": [
        "results_lgb = walk_forward_lightgbm(\n",
        "    df=datos_unidos,\n",
        "    features=features,\n",
        "    target_col=\"TOTAL_SALES\",\n",
        "    date_col=\"DATE\",\n",
        "    categorical_cols=cols_categoricas,\n",
        "    train_days=365,\n",
        "    step_days=180,\n",
        "    forecast_days=14,\n",
        "    params={\n",
        "        \"objective\": \"regression\",\n",
        "        \"metric\": \"rmse\",\n",
        "        \"verbosity\": 2,\n",
        "        \"learning_rate\": 0.01,\n",
        "        \"num_leaves\": 1500,\n",
        "        \"max_depth\": 50,\n",
        "        \"min_data_in_leaf\": 1000,\n",
        "        \"feature_fraction\": 1,\n",
        "        \"bagging_fraction\": 1,\n",
        "        \"bagging_freq\": 0,\n",
        "        \"early_stopping_round\": 50,\n",
        "        \"num_boost_round\":1000\n",
        "    }\n",
        ")"
      ]
    },
    {
      "cell_type": "code",
      "execution_count": null,
      "id": "4c2a0b55",
      "metadata": {
        "id": "4c2a0b55"
      },
      "outputs": [],
      "source": [
        "results_lgb.mean()"
      ]
    },
    {
      "cell_type": "markdown",
      "id": "31f5444b",
      "metadata": {},
      "source": [
        "Vale aclarar que el fine-tuning de los hiperparámetros lo hicimos manualmente, debido a que el anterior walk-forward demora bastante tiempo."
      ]
    },
    {
      "cell_type": "markdown",
      "id": "3f0c5f8b",
      "metadata": {
        "id": "3f0c5f8b"
      },
      "source": [
        "## Deploy"
      ]
    },
    {
      "cell_type": "markdown",
      "id": "bbf221b5",
      "metadata": {},
      "source": [
        "En esta sección, entrenaremos el modelo con todos los datos disponibles y utilizaremos los hiperparámetros que mejor performance tuiveron en el walk-forward validation. \n",
        "\n",
        "Después, contruiremos un dataframe template con todas las combinaciones de DATE, SKU y STORE_ID de la próxima semana. \n",
        "\n",
        "Por último, valiéndonos de la librería de Optuna, usaremos optimización bayesiana para encontrar la mejor configuración de precios que maximiza las ganancias de la próxima semana, según las predicciones de nuestro modelo."
      ]
    },
    {
      "cell_type": "markdown",
      "id": "e075ff73",
      "metadata": {
        "id": "e075ff73"
      },
      "source": [
        "### Training"
      ]
    },
    {
      "cell_type": "code",
      "execution_count": null,
      "id": "7a3a460f",
      "metadata": {
        "colab": {
          "base_uri": "https://localhost:8080/"
        },
        "id": "7a3a460f",
        "outputId": "292116a2-b44e-4e5e-9753-ee0f8a83e384"
      },
      "outputs": [],
      "source": [
        "cols = list(datos_unidos.columns)\n",
        "features = [col for col in cols if col not in [\"DATE\", \"TOTAL_SALES\",\n",
        "                                               'INITIAL_TICKET_PRICE', 'BASE_PRICE', \"COSTOS\",\n",
        "                                               \"OPENDATE\", \"CLOSEDATE\", \"QUANTITY\", \"STORE_SUBGROUP_DATE_ID\"] ]\n",
        "\n",
        "print(features)"
      ]
    },
    {
      "cell_type": "code",
      "execution_count": null,
      "id": "dd0a4513",
      "metadata": {
        "id": "dd0a4513"
      },
      "outputs": [],
      "source": [
        "params={\n",
        "        \"objective\": \"regression\",\n",
        "        \"metric\": \"rmse\",\n",
        "        \"verbosity\": 2,\n",
        "        \"learning_rate\": 0.01,\n",
        "        \"num_leaves\": 100,\n",
        "        \"max_depth\": 50,\n",
        "        \"min_data_in_leaf\": 100,\n",
        "        \"feature_fraction\": 1,\n",
        "        \"bagging_fraction\": 1,\n",
        "        \"bagging_freq\": 0,\n",
        "        \"num_boost_round\":100\n",
        "    }"
      ]
    },
    {
      "cell_type": "code",
      "execution_count": null,
      "id": "db3d748f",
      "metadata": {
        "id": "db3d748f"
      },
      "outputs": [],
      "source": [
        "data_train = lgb.Dataset(datos_unidos[features], datos_unidos[\"TOTAL_SALES\"], categorical_feature=cols_categoricas)"
      ]
    },
    {
      "cell_type": "code",
      "execution_count": null,
      "id": "f7e5cd49",
      "metadata": {
        "colab": {
          "base_uri": "https://localhost:8080/"
        },
        "id": "f7e5cd49",
        "outputId": "4a3e6077-6550-4824-fa69-82eb935b214a"
      },
      "outputs": [],
      "source": [
        "model_lgb = lgb.train(params, data_train)"
      ]
    },
    {
      "cell_type": "markdown",
      "id": "87543e0e",
      "metadata": {
        "id": "87543e0e"
      },
      "source": [
        "### Template dataframe"
      ]
    },
    {
      "cell_type": "markdown",
      "id": "c9e13115",
      "metadata": {
        "id": "c9e13115"
      },
      "source": [
        "Primero, creamos un dataframe base con todos los productos y tiendas para los 7 días, de manera que el modelo pueda predecir las ventas de cada combinación"
      ]
    },
    {
      "cell_type": "code",
      "execution_count": null,
      "id": "WcuLH-0jtCpO",
      "metadata": {
        "id": "WcuLH-0jtCpO"
      },
      "outputs": [],
      "source": [
        "columnas_extraidas = ['SKU', 'STORE_ID', 'REGION',\n",
        "       'CITY', 'STATE', 'STORE_TYPE', 'CATEGORY', 'GROUP', 'SUBGROUP', 'GROUP_TYPE',\n",
        "       'PRICE_GROUP_ID', 'BRAND', 'YEAR_OPEN', 'YEAR_CLOSE', 'MONTH_OPEN', 'MONTH_CLOSE']"
      ]
    },
    {
      "cell_type": "code",
      "execution_count": null,
      "id": "45e6b542",
      "metadata": {
        "id": "45e6b542"
      },
      "outputs": [],
      "source": [
        "template = crear_template(datos_unidos, columnas_extraidas=columnas_extraidas, cols_categoricas=cols_categoricas)"
      ]
    },
    {
      "cell_type": "code",
      "execution_count": null,
      "id": "PGTw5Q4I0pMM",
      "metadata": {
        "colab": {
          "base_uri": "https://localhost:8080/"
        },
        "id": "PGTw5Q4I0pMM",
        "outputId": "93609117-224c-4c1e-a31e-cfd4a54383ca"
      },
      "outputs": [],
      "source": [
        "len(template)"
      ]
    },
    {
      "cell_type": "code",
      "execution_count": null,
      "id": "96dca1a5",
      "metadata": {
        "id": "96dca1a5"
      },
      "outputs": [],
      "source": [
        "# Para las columnas con categorias que pueden no aparecer en template\n",
        "for col in [\"STORE_ID\", \"MONTH\", \"WEEK\"]:\n",
        "    type_stores = pd.api.types.CategoricalDtype(categories=datos_unidos[col].unique())\n",
        "    template[col] = template[col].astype(type_stores)"
      ]
    },
    {
      "cell_type": "code",
      "execution_count": null,
      "id": "7d7143cb",
      "metadata": {
        "id": "7d7143cb"
      },
      "outputs": [],
      "source": [
        "template = template.sort_values(by=[\"DATE\", \"STORE_ID\", \"SKU\"])"
      ]
    },
    {
      "cell_type": "code",
      "execution_count": null,
      "id": "b42fab6f",
      "metadata": {
        "id": "b42fab6f"
      },
      "outputs": [],
      "source": [
        "# Para los rolling features, simplificamos el proceso y tomamos los últimos días de los datos de entrenamiento\n",
        "template = rolling_sales_template(df=datos_unidos, template=template, group= \"SUBGROUP\", windows=[7, 30, 90], std=False)\n",
        "template = rolling_sales_template(df=datos_unidos, template=template, group= \"SKU\", windows=[7, 30, 90], std=False)\n",
        "template = rolling_sales_template(df=datos_unidos, template=template, group= \"STORE_ID\", windows=[30, 90], std=False)\n",
        "template = rolling_price_template(datos_unidos, template, \"SUBGROUP\", windows=[30,90], std=False)\n",
        "template = rolling_price_template(datos_unidos, template, \"SKU\", windows=[30,90], std=False)"
      ]
    },
    {
      "cell_type": "code",
      "execution_count": null,
      "id": "46de75b0",
      "metadata": {
        "colab": {
          "base_uri": "https://localhost:8080/"
        },
        "id": "46de75b0",
        "outputId": "450b04a6-f877-4aa8-89ab-a43af0664d9d"
      },
      "outputs": [],
      "source": [
        "template.columns"
      ]
    },
    {
      "cell_type": "markdown",
      "id": "e9b0a0c8",
      "metadata": {
        "id": "e9b0a0c8"
      },
      "source": [
        "### Optimizacion de precios"
      ]
    },
    {
      "cell_type": "markdown",
      "id": "3c083756",
      "metadata": {},
      "source": [
        "Para optimizar los precios, ya calculamos una grid de precios posibles por SKU en el analisis de datos, quitando aquellos precios que distaban demasiado de la distribución normal de precios, y quedándonos con el máximo y mínimo de las transacciones del último mes.\n",
        "\n",
        "Aún así, también probamos utilizando el máximo y mínimo histórico del producto, agregando además posibles descuentos, pero los resultados fueron peores."
      ]
    },
    {
      "cell_type": "code",
      "execution_count": null,
      "id": "drjjvC7GLLMg",
      "metadata": {
        "id": "drjjvC7GLLMg"
      },
      "outputs": [],
      "source": [
        "with open(\"resultados_optimizacion/price_grid_normalizado.pkl\", \"rb\") as f:\n",
        "    price_grid = pickle.load(f)"
      ]
    },
    {
      "cell_type": "markdown",
      "id": "01783b1d",
      "metadata": {},
      "source": [
        "Ahora, utilizando las predicciones del modelo, intentamos encontrar qué configuración de precios maximiza TOTAL_SALES. \n",
        "\n",
        "Para simplificar la posterior implementación de la estrategia de precios, decidimos que cada precio de SKU se mantenga durante toda la semana en todas las tiendas"
      ]
    },
    {
      "cell_type": "code",
      "execution_count": null,
      "id": "94965f80",
      "metadata": {
        "colab": {
          "base_uri": "https://localhost:8080/",
          "height": 1000,
          "referenced_widgets": [
            "88cb6b3286fb4d51b9d9b7a62492d89c",
            "e60ad66831064bc3a93b10ad4b38266b",
            "91ec00df316742278209145f1b923942",
            "a98fb3610b374029b43146b66817e1d7",
            "83ad33a097bf446fa84ef2ab13388a71",
            "e3c0627651ab4b39b4a1573f69df2419",
            "cbf603be34e94f17b6c9c9de7b1e038b",
            "5c6df718149e4d7e8756bbed1851903b",
            "460fe2c7fad0423ab42f09ac5bafd237",
            "b15eb159ee874627a40b793c44971705",
            "9ef19ca4eb2d489b9e94f4bee02e6009"
          ]
        },
        "id": "94965f80",
        "outputId": "03f579d4-27cb-4766-f5f0-76289e149ff1"
      },
      "outputs": [],
      "source": [
        "df_best, y_best, mejor_sales, mejor_gain, precios_finales, study = optimizacion_precios_optuna(template=template, model=model_lgb, price_grid=price_grid,\n",
        "                                                                                      features=features, target=\"TOTAL_SALES\", file_name=\"mejor_config_optuna\",\n",
        "                                                                                      n_trials=10, seed=42)"
      ]
    },
    {
      "cell_type": "code",
      "execution_count": null,
      "id": "c23SGjX9ZwbJ",
      "metadata": {
        "colab": {
          "base_uri": "https://localhost:8080/"
        },
        "id": "c23SGjX9ZwbJ",
        "outputId": "1ff075ba-a2a5-4e6e-9184-44d24132dcb4"
      },
      "outputs": [],
      "source": [
        "# TOTAL_SALES de la mejor configuración encontrada\n",
        "print(mejor_sales)"
      ]
    },
    {
      "cell_type": "code",
      "execution_count": null,
      "id": "vGRviLgHZzNT",
      "metadata": {
        "colab": {
          "base_uri": "https://localhost:8080/"
        },
        "id": "vGRviLgHZzNT",
        "outputId": "2b42ba1b-bbd4-4d5c-e2b3-3cbdfbb31259"
      },
      "outputs": [],
      "source": [
        "# Ganancia total de la mejor configuración encontrada (TOTAL_SALES - COSTOS)\n",
        "print(mejor_gain)"
      ]
    },
    {
      "cell_type": "markdown",
      "id": "8070c21a",
      "metadata": {},
      "source": [
        "También probamos maximizar la ganancia en lugar de TOTAL_SALES (se puede pasar como parámetro target=\"GAIN\"), pero los resultados fueron los mismos."
      ]
    },
    {
      "cell_type": "markdown",
      "id": "abb5c48b",
      "metadata": {},
      "source": [
        "Además, intentamos optimizar cambiando los precios por región (es decir, las tiendas de diferentes regiones pueden tener distintas configuraciones de precios), aunque otra vez vimos los mismos resultados."
      ]
    },
    {
      "cell_type": "code",
      "execution_count": null,
      "id": "b9f23e6b",
      "metadata": {},
      "outputs": [],
      "source": [
        "df_best, y_best, mejor_sales, mejor_gain, precios_finales, study = optimizacion_precios_region_optuna(template=template, model=model_lgb, price_grid=price_grid,\n",
        "                                                                                      features=features, target=\"TOTAL_SALES\", file_name=\"mejor_config_optuna\",\n",
        "                                                                                      n_trials=1000, seed=42)"
      ]
    },
    {
      "cell_type": "markdown",
      "id": "839e5a22",
      "metadata": {
        "id": "839e5a22"
      },
      "source": [
        "### Guardar resultado"
      ]
    },
    {
      "cell_type": "markdown",
      "id": "8dc59049",
      "metadata": {},
      "source": [
        "Finalmente, guardamos las predicciones de la próxima semana con los precios optimizados con el formato de Kaggle. \n",
        "\n",
        "Tuvimos que agregar manualmente el subgrupo \"Basketball\" siempre con TOTAL_SALES = 0, dado que en los datos disponibles nunca se hizo una transacción de alguno de sus productos, pero igualmente aparecía en el catágolo."
      ]
    },
    {
      "cell_type": "code",
      "execution_count": null,
      "id": "50bce61d",
      "metadata": {
        "id": "50bce61d"
      },
      "outputs": [],
      "source": [
        "df_result = crear_csv_kaggle(df_best, dummy_subgroup=\"Basketball\")"
      ]
    },
    {
      "cell_type": "code",
      "execution_count": null,
      "id": "a7ecca3a",
      "metadata": {
        "id": "a7ecca3a"
      },
      "outputs": [],
      "source": [
        "df_result.to_csv(\"resultados_optimizacion/mejor_df_completo.csv\", index=False)"
      ]
    },
    {
      "cell_type": "markdown",
      "id": "972093a9",
      "metadata": {},
      "source": [
        "## Interpretación del modelo"
      ]
    },
    {
      "cell_type": "markdown",
      "id": "8e4bd763",
      "metadata": {},
      "source": [
        "Gracias a que el modelo utilizado está basado en árboles de decisión, es muy interpretable y podemos ver qué features fueron más relevantes"
      ]
    },
    {
      "cell_type": "code",
      "execution_count": null,
      "id": "8d954595",
      "metadata": {},
      "outputs": [],
      "source": [
        "# Extraer importancias\n",
        "importancia = model_lgb.feature_importance(importance_type=\"gain\")\n",
        "features = model_lgb.feature_name()\n",
        "df_importancia = pd.DataFrame({\n",
        "    \"feature\": features,\n",
        "    \"importance\": importancia / importancia.sum() * 100 \n",
        "}).sort_values(\"importance\", ascending=False).head(20)\n",
        "\n",
        "# Graficar en horizontal\n",
        "ax = df_importancia.plot.barh(x=\"feature\", y=\"importance\", legend=False, figsize=(8,6))\n",
        "plt.xlabel(\"Importancia (%)\")\n",
        "\n",
        "# Agregar porcentajes al lado\n",
        "for i, v in enumerate(df_importancia[\"importance\"]):\n",
        "    ax.text(v + 0.5, i, f\"{v:.1f}%\", va=\"center\")\n",
        "\n",
        "plt.title(\"Importancia de los features\")\n",
        "plt.grid()\n",
        "plt.savefig(\"importancia_features.png\", bbox_inches='tight', dpi=300)\n",
        "plt.show()"
      ]
    }
  ],
  "metadata": {
    "accelerator": "TPU",
    "colab": {
      "collapsed_sections": [
        "c9d6e6b0"
      ],
      "gpuType": "V6E1",
      "provenance": []
    },
    "kernelspec": {
      "display_name": "Python 3",
      "name": "python3"
    },
    "language_info": {
      "codemirror_mode": {
        "name": "ipython",
        "version": 3
      },
      "file_extension": ".py",
      "mimetype": "text/x-python",
      "name": "python",
      "nbconvert_exporter": "python",
      "pygments_lexer": "ipython3",
      "version": "3.12.11"
    },
    "widgets": {
      "application/vnd.jupyter.widget-state+json": {
        "460fe2c7fad0423ab42f09ac5bafd237": {
          "model_module": "@jupyter-widgets/controls",
          "model_module_version": "1.5.0",
          "model_name": "ProgressStyleModel",
          "state": {
            "_model_module": "@jupyter-widgets/controls",
            "_model_module_version": "1.5.0",
            "_model_name": "ProgressStyleModel",
            "_view_count": null,
            "_view_module": "@jupyter-widgets/base",
            "_view_module_version": "1.2.0",
            "_view_name": "StyleView",
            "bar_color": null,
            "description_width": ""
          }
        },
        "5c6df718149e4d7e8756bbed1851903b": {
          "model_module": "@jupyter-widgets/base",
          "model_module_version": "1.2.0",
          "model_name": "LayoutModel",
          "state": {
            "_model_module": "@jupyter-widgets/base",
            "_model_module_version": "1.2.0",
            "_model_name": "LayoutModel",
            "_view_count": null,
            "_view_module": "@jupyter-widgets/base",
            "_view_module_version": "1.2.0",
            "_view_name": "LayoutView",
            "align_content": null,
            "align_items": null,
            "align_self": null,
            "border": null,
            "bottom": null,
            "display": null,
            "flex": null,
            "flex_flow": null,
            "grid_area": null,
            "grid_auto_columns": null,
            "grid_auto_flow": null,
            "grid_auto_rows": null,
            "grid_column": null,
            "grid_gap": null,
            "grid_row": null,
            "grid_template_areas": null,
            "grid_template_columns": null,
            "grid_template_rows": null,
            "height": null,
            "justify_content": null,
            "justify_items": null,
            "left": null,
            "margin": null,
            "max_height": null,
            "max_width": null,
            "min_height": null,
            "min_width": null,
            "object_fit": null,
            "object_position": null,
            "order": null,
            "overflow": null,
            "overflow_x": null,
            "overflow_y": null,
            "padding": null,
            "right": null,
            "top": null,
            "visibility": null,
            "width": null
          }
        },
        "83ad33a097bf446fa84ef2ab13388a71": {
          "model_module": "@jupyter-widgets/base",
          "model_module_version": "1.2.0",
          "model_name": "LayoutModel",
          "state": {
            "_model_module": "@jupyter-widgets/base",
            "_model_module_version": "1.2.0",
            "_model_name": "LayoutModel",
            "_view_count": null,
            "_view_module": "@jupyter-widgets/base",
            "_view_module_version": "1.2.0",
            "_view_name": "LayoutView",
            "align_content": null,
            "align_items": null,
            "align_self": null,
            "border": null,
            "bottom": null,
            "display": null,
            "flex": null,
            "flex_flow": null,
            "grid_area": null,
            "grid_auto_columns": null,
            "grid_auto_flow": null,
            "grid_auto_rows": null,
            "grid_column": null,
            "grid_gap": null,
            "grid_row": null,
            "grid_template_areas": null,
            "grid_template_columns": null,
            "grid_template_rows": null,
            "height": null,
            "justify_content": null,
            "justify_items": null,
            "left": null,
            "margin": null,
            "max_height": null,
            "max_width": null,
            "min_height": null,
            "min_width": null,
            "object_fit": null,
            "object_position": null,
            "order": null,
            "overflow": null,
            "overflow_x": null,
            "overflow_y": null,
            "padding": null,
            "right": null,
            "top": null,
            "visibility": null,
            "width": null
          }
        },
        "88cb6b3286fb4d51b9d9b7a62492d89c": {
          "model_module": "@jupyter-widgets/controls",
          "model_module_version": "1.5.0",
          "model_name": "HBoxModel",
          "state": {
            "_dom_classes": [],
            "_model_module": "@jupyter-widgets/controls",
            "_model_module_version": "1.5.0",
            "_model_name": "HBoxModel",
            "_view_count": null,
            "_view_module": "@jupyter-widgets/controls",
            "_view_module_version": "1.5.0",
            "_view_name": "HBoxView",
            "box_style": "",
            "children": [
              "IPY_MODEL_e60ad66831064bc3a93b10ad4b38266b",
              "IPY_MODEL_91ec00df316742278209145f1b923942",
              "IPY_MODEL_a98fb3610b374029b43146b66817e1d7"
            ],
            "layout": "IPY_MODEL_83ad33a097bf446fa84ef2ab13388a71"
          }
        },
        "91ec00df316742278209145f1b923942": {
          "model_module": "@jupyter-widgets/controls",
          "model_module_version": "1.5.0",
          "model_name": "FloatProgressModel",
          "state": {
            "_dom_classes": [],
            "_model_module": "@jupyter-widgets/controls",
            "_model_module_version": "1.5.0",
            "_model_name": "FloatProgressModel",
            "_view_count": null,
            "_view_module": "@jupyter-widgets/controls",
            "_view_module_version": "1.5.0",
            "_view_name": "ProgressView",
            "bar_style": "success",
            "description": "",
            "description_tooltip": null,
            "layout": "IPY_MODEL_5c6df718149e4d7e8756bbed1851903b",
            "max": 1000,
            "min": 0,
            "orientation": "horizontal",
            "style": "IPY_MODEL_460fe2c7fad0423ab42f09ac5bafd237",
            "value": 1000
          }
        },
        "9ef19ca4eb2d489b9e94f4bee02e6009": {
          "model_module": "@jupyter-widgets/controls",
          "model_module_version": "1.5.0",
          "model_name": "DescriptionStyleModel",
          "state": {
            "_model_module": "@jupyter-widgets/controls",
            "_model_module_version": "1.5.0",
            "_model_name": "DescriptionStyleModel",
            "_view_count": null,
            "_view_module": "@jupyter-widgets/base",
            "_view_module_version": "1.2.0",
            "_view_name": "StyleView",
            "description_width": ""
          }
        },
        "a98fb3610b374029b43146b66817e1d7": {
          "model_module": "@jupyter-widgets/controls",
          "model_module_version": "1.5.0",
          "model_name": "HTMLModel",
          "state": {
            "_dom_classes": [],
            "_model_module": "@jupyter-widgets/controls",
            "_model_module_version": "1.5.0",
            "_model_name": "HTMLModel",
            "_view_count": null,
            "_view_module": "@jupyter-widgets/controls",
            "_view_module_version": "1.5.0",
            "_view_name": "HTMLView",
            "description": "",
            "description_tooltip": null,
            "layout": "IPY_MODEL_b15eb159ee874627a40b793c44971705",
            "placeholder": "​",
            "style": "IPY_MODEL_9ef19ca4eb2d489b9e94f4bee02e6009",
            "value": " 1000/1000 [3:39:41&lt;00:00,  2.48s/it]"
          }
        },
        "b15eb159ee874627a40b793c44971705": {
          "model_module": "@jupyter-widgets/base",
          "model_module_version": "1.2.0",
          "model_name": "LayoutModel",
          "state": {
            "_model_module": "@jupyter-widgets/base",
            "_model_module_version": "1.2.0",
            "_model_name": "LayoutModel",
            "_view_count": null,
            "_view_module": "@jupyter-widgets/base",
            "_view_module_version": "1.2.0",
            "_view_name": "LayoutView",
            "align_content": null,
            "align_items": null,
            "align_self": null,
            "border": null,
            "bottom": null,
            "display": null,
            "flex": null,
            "flex_flow": null,
            "grid_area": null,
            "grid_auto_columns": null,
            "grid_auto_flow": null,
            "grid_auto_rows": null,
            "grid_column": null,
            "grid_gap": null,
            "grid_row": null,
            "grid_template_areas": null,
            "grid_template_columns": null,
            "grid_template_rows": null,
            "height": null,
            "justify_content": null,
            "justify_items": null,
            "left": null,
            "margin": null,
            "max_height": null,
            "max_width": null,
            "min_height": null,
            "min_width": null,
            "object_fit": null,
            "object_position": null,
            "order": null,
            "overflow": null,
            "overflow_x": null,
            "overflow_y": null,
            "padding": null,
            "right": null,
            "top": null,
            "visibility": null,
            "width": null
          }
        },
        "cbf603be34e94f17b6c9c9de7b1e038b": {
          "model_module": "@jupyter-widgets/controls",
          "model_module_version": "1.5.0",
          "model_name": "DescriptionStyleModel",
          "state": {
            "_model_module": "@jupyter-widgets/controls",
            "_model_module_version": "1.5.0",
            "_model_name": "DescriptionStyleModel",
            "_view_count": null,
            "_view_module": "@jupyter-widgets/base",
            "_view_module_version": "1.2.0",
            "_view_name": "StyleView",
            "description_width": ""
          }
        },
        "e3c0627651ab4b39b4a1573f69df2419": {
          "model_module": "@jupyter-widgets/base",
          "model_module_version": "1.2.0",
          "model_name": "LayoutModel",
          "state": {
            "_model_module": "@jupyter-widgets/base",
            "_model_module_version": "1.2.0",
            "_model_name": "LayoutModel",
            "_view_count": null,
            "_view_module": "@jupyter-widgets/base",
            "_view_module_version": "1.2.0",
            "_view_name": "LayoutView",
            "align_content": null,
            "align_items": null,
            "align_self": null,
            "border": null,
            "bottom": null,
            "display": null,
            "flex": null,
            "flex_flow": null,
            "grid_area": null,
            "grid_auto_columns": null,
            "grid_auto_flow": null,
            "grid_auto_rows": null,
            "grid_column": null,
            "grid_gap": null,
            "grid_row": null,
            "grid_template_areas": null,
            "grid_template_columns": null,
            "grid_template_rows": null,
            "height": null,
            "justify_content": null,
            "justify_items": null,
            "left": null,
            "margin": null,
            "max_height": null,
            "max_width": null,
            "min_height": null,
            "min_width": null,
            "object_fit": null,
            "object_position": null,
            "order": null,
            "overflow": null,
            "overflow_x": null,
            "overflow_y": null,
            "padding": null,
            "right": null,
            "top": null,
            "visibility": null,
            "width": null
          }
        },
        "e60ad66831064bc3a93b10ad4b38266b": {
          "model_module": "@jupyter-widgets/controls",
          "model_module_version": "1.5.0",
          "model_name": "HTMLModel",
          "state": {
            "_dom_classes": [],
            "_model_module": "@jupyter-widgets/controls",
            "_model_module_version": "1.5.0",
            "_model_name": "HTMLModel",
            "_view_count": null,
            "_view_module": "@jupyter-widgets/controls",
            "_view_module_version": "1.5.0",
            "_view_name": "HTMLView",
            "description": "",
            "description_tooltip": null,
            "layout": "IPY_MODEL_e3c0627651ab4b39b4a1573f69df2419",
            "placeholder": "​",
            "style": "IPY_MODEL_cbf603be34e94f17b6c9c9de7b1e038b",
            "value": "Best trial: 747. Best value: 1.20665e+07: 100%"
          }
        }
      }
    }
  },
  "nbformat": 4,
  "nbformat_minor": 5
}
