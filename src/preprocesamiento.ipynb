{
 "cells": [
  {
   "cell_type": "markdown",
   "id": "d21bba42",
   "metadata": {},
   "source": [
    "## Setup"
   ]
  },
  {
   "cell_type": "code",
   "execution_count": 1,
   "id": "216da119",
   "metadata": {},
   "outputs": [],
   "source": [
    "# Imports\n",
    "import pandas as pd\n",
    "import matplotlib.pyplot as plt\n",
    "import numpy as np"
   ]
  },
  {
   "cell_type": "code",
   "execution_count": 2,
   "id": "082aa590",
   "metadata": {},
   "outputs": [],
   "source": [
    "customer_data = pd.read_csv(\"../data/raw/eci_customer_data.csv\")\n",
    "product_groups_data = pd.read_csv(\"../data/raw/eci_product_groups.csv\")\n",
    "product_master_data = pd.read_csv(\"../data/raw/eci_product_master.csv\")\n",
    "stores_clusters_data = pd.read_csv(\"../data/raw/eci_stores_clusters.csv\")\n",
    "stores_data = pd.read_csv(\"../data/raw/eci_stores.csv\")\n",
    "transactions_data = pd.read_csv(\"../data/raw/eci_transactions.csv\")"
   ]
  },
  {
   "cell_type": "markdown",
   "id": "96baa866",
   "metadata": {},
   "source": [
    "## Exploracion de datos / Data imputation"
   ]
  },
  {
   "cell_type": "markdown",
   "id": "798c7245",
   "metadata": {},
   "source": [
    "### Transactions"
   ]
  },
  {
   "cell_type": "code",
   "execution_count": 4,
   "id": "79f1826e",
   "metadata": {},
   "outputs": [
    {
     "data": {
      "application/vnd.microsoft.datawrangler.viewer.v0+json": {
       "columns": [
        {
         "name": "index",
         "rawType": "int64",
         "type": "integer"
        },
        {
         "name": "TRANSACTION_ID",
         "rawType": "int64",
         "type": "integer"
        },
        {
         "name": "DATE",
         "rawType": "object",
         "type": "string"
        },
        {
         "name": "STORE_ID",
         "rawType": "object",
         "type": "string"
        },
        {
         "name": "SKU",
         "rawType": "object",
         "type": "string"
        },
        {
         "name": "QUANTITY",
         "rawType": "float64",
         "type": "float"
        },
        {
         "name": "PRICE",
         "rawType": "float64",
         "type": "float"
        },
        {
         "name": "TOTAL_SALES",
         "rawType": "float64",
         "type": "float"
        },
        {
         "name": "SUBGROUP",
         "rawType": "object",
         "type": "string"
        },
        {
         "name": "STORE_SUBGROUP_DATE_ID",
         "rawType": "object",
         "type": "string"
        }
       ],
       "ref": "463d08ea-fc1b-4f14-8104-1e83e3080da8",
       "rows": [
        [
         "0",
         "17185",
         "2021-01-01",
         "S00148",
         "CLOMEJA001",
         "1.0",
         "52.8",
         "52.8",
         "Jackets",
         "S00148_Jackets_2021-01-01"
        ],
        [
         "1",
         "4108",
         "2021-01-01",
         "S00035",
         "CLOCHIN014",
         "1.0",
         "55.25",
         "55.25",
         "Infants",
         "S00035_Infants_2021-01-01"
        ],
        [
         "2",
         "2400",
         "2021-01-01",
         "S00020",
         "BEAHASH005",
         "1.0",
         "40.19",
         "40.19",
         "Shampoo",
         "S00020_Shampoo_2021-01-01"
        ],
        [
         "3",
         "7978",
         "2021-01-01",
         "S00068",
         "TOYGABO004",
         "1.0",
         "35.41",
         "35.41",
         "Board Games",
         "S00068_Board Games_2021-01-01"
        ],
        [
         "4",
         "6946",
         "2021-01-01",
         "S00059",
         "BEAHASH006",
         "1.0",
         "38.28",
         "38.28",
         "Shampoo",
         "S00059_Shampoo_2021-01-01"
        ]
       ],
       "shape": {
        "columns": 9,
        "rows": 5
       }
      },
      "text/html": [
       "<div>\n",
       "<style scoped>\n",
       "    .dataframe tbody tr th:only-of-type {\n",
       "        vertical-align: middle;\n",
       "    }\n",
       "\n",
       "    .dataframe tbody tr th {\n",
       "        vertical-align: top;\n",
       "    }\n",
       "\n",
       "    .dataframe thead th {\n",
       "        text-align: right;\n",
       "    }\n",
       "</style>\n",
       "<table border=\"1\" class=\"dataframe\">\n",
       "  <thead>\n",
       "    <tr style=\"text-align: right;\">\n",
       "      <th></th>\n",
       "      <th>TRANSACTION_ID</th>\n",
       "      <th>DATE</th>\n",
       "      <th>STORE_ID</th>\n",
       "      <th>SKU</th>\n",
       "      <th>QUANTITY</th>\n",
       "      <th>PRICE</th>\n",
       "      <th>TOTAL_SALES</th>\n",
       "      <th>SUBGROUP</th>\n",
       "      <th>STORE_SUBGROUP_DATE_ID</th>\n",
       "    </tr>\n",
       "  </thead>\n",
       "  <tbody>\n",
       "    <tr>\n",
       "      <th>0</th>\n",
       "      <td>17185</td>\n",
       "      <td>2021-01-01</td>\n",
       "      <td>S00148</td>\n",
       "      <td>CLOMEJA001</td>\n",
       "      <td>1.0</td>\n",
       "      <td>52.80</td>\n",
       "      <td>52.80</td>\n",
       "      <td>Jackets</td>\n",
       "      <td>S00148_Jackets_2021-01-01</td>\n",
       "    </tr>\n",
       "    <tr>\n",
       "      <th>1</th>\n",
       "      <td>4108</td>\n",
       "      <td>2021-01-01</td>\n",
       "      <td>S00035</td>\n",
       "      <td>CLOCHIN014</td>\n",
       "      <td>1.0</td>\n",
       "      <td>55.25</td>\n",
       "      <td>55.25</td>\n",
       "      <td>Infants</td>\n",
       "      <td>S00035_Infants_2021-01-01</td>\n",
       "    </tr>\n",
       "    <tr>\n",
       "      <th>2</th>\n",
       "      <td>2400</td>\n",
       "      <td>2021-01-01</td>\n",
       "      <td>S00020</td>\n",
       "      <td>BEAHASH005</td>\n",
       "      <td>1.0</td>\n",
       "      <td>40.19</td>\n",
       "      <td>40.19</td>\n",
       "      <td>Shampoo</td>\n",
       "      <td>S00020_Shampoo_2021-01-01</td>\n",
       "    </tr>\n",
       "    <tr>\n",
       "      <th>3</th>\n",
       "      <td>7978</td>\n",
       "      <td>2021-01-01</td>\n",
       "      <td>S00068</td>\n",
       "      <td>TOYGABO004</td>\n",
       "      <td>1.0</td>\n",
       "      <td>35.41</td>\n",
       "      <td>35.41</td>\n",
       "      <td>Board Games</td>\n",
       "      <td>S00068_Board Games_2021-01-01</td>\n",
       "    </tr>\n",
       "    <tr>\n",
       "      <th>4</th>\n",
       "      <td>6946</td>\n",
       "      <td>2021-01-01</td>\n",
       "      <td>S00059</td>\n",
       "      <td>BEAHASH006</td>\n",
       "      <td>1.0</td>\n",
       "      <td>38.28</td>\n",
       "      <td>38.28</td>\n",
       "      <td>Shampoo</td>\n",
       "      <td>S00059_Shampoo_2021-01-01</td>\n",
       "    </tr>\n",
       "  </tbody>\n",
       "</table>\n",
       "</div>"
      ],
      "text/plain": [
       "   TRANSACTION_ID        DATE STORE_ID         SKU  QUANTITY  PRICE  \\\n",
       "0           17185  2021-01-01   S00148  CLOMEJA001       1.0  52.80   \n",
       "1            4108  2021-01-01   S00035  CLOCHIN014       1.0  55.25   \n",
       "2            2400  2021-01-01   S00020  BEAHASH005       1.0  40.19   \n",
       "3            7978  2021-01-01   S00068  TOYGABO004       1.0  35.41   \n",
       "4            6946  2021-01-01   S00059  BEAHASH006       1.0  38.28   \n",
       "\n",
       "   TOTAL_SALES     SUBGROUP         STORE_SUBGROUP_DATE_ID  \n",
       "0        52.80      Jackets      S00148_Jackets_2021-01-01  \n",
       "1        55.25      Infants      S00035_Infants_2021-01-01  \n",
       "2        40.19      Shampoo      S00020_Shampoo_2021-01-01  \n",
       "3        35.41  Board Games  S00068_Board Games_2021-01-01  \n",
       "4        38.28      Shampoo      S00059_Shampoo_2021-01-01  "
      ]
     },
     "execution_count": 4,
     "metadata": {},
     "output_type": "execute_result"
    }
   ],
   "source": [
    "transactions_data.head()"
   ]
  },
  {
   "cell_type": "code",
   "execution_count": 3,
   "id": "c3f9845a",
   "metadata": {},
   "outputs": [],
   "source": [
    "# Convertimos la columna DATE a tipo datetime\n",
    "transactions_data[\"DATE\"] = pd.to_datetime(transactions_data[\"DATE\"], format=\"%Y-%m-%d\")"
   ]
  },
  {
   "cell_type": "code",
   "execution_count": 4,
   "id": "7e98930d",
   "metadata": {},
   "outputs": [
    {
     "data": {
      "text/html": [
       "<div>\n",
       "<style scoped>\n",
       "    .dataframe tbody tr th:only-of-type {\n",
       "        vertical-align: middle;\n",
       "    }\n",
       "\n",
       "    .dataframe tbody tr th {\n",
       "        vertical-align: top;\n",
       "    }\n",
       "\n",
       "    .dataframe thead th {\n",
       "        text-align: right;\n",
       "    }\n",
       "</style>\n",
       "<table border=\"1\" class=\"dataframe\">\n",
       "  <thead>\n",
       "    <tr style=\"text-align: right;\">\n",
       "      <th></th>\n",
       "      <th>TRANSACTION_ID</th>\n",
       "      <th>DATE</th>\n",
       "      <th>QUANTITY</th>\n",
       "      <th>PRICE</th>\n",
       "      <th>TOTAL_SALES</th>\n",
       "    </tr>\n",
       "  </thead>\n",
       "  <tbody>\n",
       "    <tr>\n",
       "      <th>count</th>\n",
       "      <td>19004759.00</td>\n",
       "      <td>19004759</td>\n",
       "      <td>18909672.00</td>\n",
       "      <td>19004759.00</td>\n",
       "      <td>19004759.00</td>\n",
       "    </tr>\n",
       "    <tr>\n",
       "      <th>mean</th>\n",
       "      <td>9502380.00</td>\n",
       "      <td>2022-06-22 20:26:04.793325568</td>\n",
       "      <td>1.44</td>\n",
       "      <td>68.69</td>\n",
       "      <td>97.37</td>\n",
       "    </tr>\n",
       "    <tr>\n",
       "      <th>min</th>\n",
       "      <td>1.00</td>\n",
       "      <td>2021-01-01 00:00:00</td>\n",
       "      <td>1.00</td>\n",
       "      <td>4.02</td>\n",
       "      <td>4.02</td>\n",
       "    </tr>\n",
       "    <tr>\n",
       "      <th>25%</th>\n",
       "      <td>4751190.50</td>\n",
       "      <td>2021-09-23 00:00:00</td>\n",
       "      <td>1.00</td>\n",
       "      <td>22.94</td>\n",
       "      <td>25.50</td>\n",
       "    </tr>\n",
       "    <tr>\n",
       "      <th>50%</th>\n",
       "      <td>9502380.00</td>\n",
       "      <td>2022-06-21 00:00:00</td>\n",
       "      <td>1.00</td>\n",
       "      <td>41.24</td>\n",
       "      <td>48.01</td>\n",
       "    </tr>\n",
       "    <tr>\n",
       "      <th>75%</th>\n",
       "      <td>14253569.50</td>\n",
       "      <td>2023-03-16 00:00:00</td>\n",
       "      <td>2.00</td>\n",
       "      <td>74.02</td>\n",
       "      <td>93.02</td>\n",
       "    </tr>\n",
       "    <tr>\n",
       "      <th>max</th>\n",
       "      <td>19004759.00</td>\n",
       "      <td>2023-12-31 00:00:00</td>\n",
       "      <td>85.00</td>\n",
       "      <td>431.87</td>\n",
       "      <td>8369.26</td>\n",
       "    </tr>\n",
       "    <tr>\n",
       "      <th>std</th>\n",
       "      <td>5486201.51</td>\n",
       "      <td>NaN</td>\n",
       "      <td>1.01</td>\n",
       "      <td>84.06</td>\n",
       "      <td>155.90</td>\n",
       "    </tr>\n",
       "  </tbody>\n",
       "</table>\n",
       "</div>"
      ],
      "text/plain": [
       "       TRANSACTION_ID                           DATE     QUANTITY  \\\n",
       "count     19004759.00                       19004759  18909672.00   \n",
       "mean       9502380.00  2022-06-22 20:26:04.793325568         1.44   \n",
       "min              1.00            2021-01-01 00:00:00         1.00   \n",
       "25%        4751190.50            2021-09-23 00:00:00         1.00   \n",
       "50%        9502380.00            2022-06-21 00:00:00         1.00   \n",
       "75%       14253569.50            2023-03-16 00:00:00         2.00   \n",
       "max       19004759.00            2023-12-31 00:00:00        85.00   \n",
       "std        5486201.51                            NaN         1.01   \n",
       "\n",
       "             PRICE  TOTAL_SALES  \n",
       "count  19004759.00  19004759.00  \n",
       "mean         68.69        97.37  \n",
       "min           4.02         4.02  \n",
       "25%          22.94        25.50  \n",
       "50%          41.24        48.01  \n",
       "75%          74.02        93.02  \n",
       "max         431.87      8369.26  \n",
       "std          84.06       155.90  "
      ]
     },
     "execution_count": 4,
     "metadata": {},
     "output_type": "execute_result"
    }
   ],
   "source": [
    "# Tenemos data desde 2021-01-01 hasta 2023-12-31 (3 años)\n",
    "transactions_data.describe().round(2)"
   ]
  },
  {
   "cell_type": "code",
   "execution_count": 7,
   "id": "214c30b2",
   "metadata": {},
   "outputs": [
    {
     "data": {
      "application/vnd.microsoft.datawrangler.viewer.v0+json": {
       "columns": [
        {
         "name": "index",
         "rawType": "object",
         "type": "string"
        },
        {
         "name": "0",
         "rawType": "int64",
         "type": "integer"
        }
       ],
       "ref": "b3a7f54d-83ee-4a41-834b-54f6f7485207",
       "rows": [
        [
         "TRANSACTION_ID",
         "0"
        ],
        [
         "DATE",
         "0"
        ],
        [
         "STORE_ID",
         "0"
        ],
        [
         "SKU",
         "0"
        ],
        [
         "QUANTITY",
         "95087"
        ],
        [
         "PRICE",
         "0"
        ],
        [
         "TOTAL_SALES",
         "0"
        ],
        [
         "SUBGROUP",
         "0"
        ],
        [
         "STORE_SUBGROUP_DATE_ID",
         "0"
        ]
       ],
       "shape": {
        "columns": 1,
        "rows": 9
       }
      },
      "text/plain": [
       "TRANSACTION_ID                0\n",
       "DATE                          0\n",
       "STORE_ID                      0\n",
       "SKU                           0\n",
       "QUANTITY                  95087\n",
       "PRICE                         0\n",
       "TOTAL_SALES                   0\n",
       "SUBGROUP                      0\n",
       "STORE_SUBGROUP_DATE_ID        0\n",
       "dtype: int64"
      ]
     },
     "execution_count": 7,
     "metadata": {},
     "output_type": "execute_result"
    }
   ],
   "source": [
    "transactions_data.isna().sum()"
   ]
  },
  {
   "cell_type": "code",
   "execution_count": 5,
   "id": "804b4cca",
   "metadata": {},
   "outputs": [],
   "source": [
    "# Si la columna de Quantity es NaN, llenamos los valores de Quantitiy como Total_sales / Price\n",
    "transactions_data['QUANTITY'] = transactions_data.apply(\n",
    "    lambda row: row['TOTAL_SALES'] / row['PRICE'] if pd.isna(row['QUANTITY']) else row['QUANTITY'], axis=1\n",
    ")"
   ]
  },
  {
   "cell_type": "markdown",
   "id": "6ece645f",
   "metadata": {},
   "source": [
    "### Clientes"
   ]
  },
  {
   "cell_type": "code",
   "execution_count": 9,
   "id": "039b9e1d",
   "metadata": {},
   "outputs": [
    {
     "data": {
      "application/vnd.microsoft.datawrangler.viewer.v0+json": {
       "columns": [
        {
         "name": "index",
         "rawType": "int64",
         "type": "integer"
        },
        {
         "name": "client_id",
         "rawType": "int64",
         "type": "integer"
        },
        {
         "name": "phone_number",
         "rawType": "object",
         "type": "unknown"
        },
        {
         "name": "email_address",
         "rawType": "object",
         "type": "unknown"
        },
        {
         "name": "city",
         "rawType": "object",
         "type": "string"
        },
        {
         "name": "state",
         "rawType": "object",
         "type": "string"
        },
        {
         "name": "zip_code",
         "rawType": "object",
         "type": "string"
        },
        {
         "name": "education_level",
         "rawType": "object",
         "type": "string"
        },
        {
         "name": "occupation",
         "rawType": "object",
         "type": "unknown"
        },
        {
         "name": "loyalty_member",
         "rawType": "object",
         "type": "string"
        },
        {
         "name": "loyalty_number",
         "rawType": "object",
         "type": "unknown"
        },
        {
         "name": "loyalty_points",
         "rawType": "object",
         "type": "unknown"
        }
       ],
       "ref": "65ac44fb-aafb-4c4c-b530-bc3da0baf6d7",
       "rows": [
        [
         "0",
         "500001",
         null,
         "n.edwards+spam@outlook.com",
         "Spokane",
         "WA",
         "99201",
         "High School",
         null,
         "No",
         null,
         "339"
        ],
        [
         "1",
         "500002",
         "(412) 698-7960",
         "lisa_cook@yahoo.com",
         "Pittsburgh",
         "PA",
         "15222",
         "High School",
         "Sales Representative",
         "Yes",
         "LP525082",
         "406"
        ],
        [
         "2",
         "500003",
         "(303) 491-3774",
         null,
         "Fort Collins",
         "CO",
         "80526",
         "College Graduate",
         "Analyst",
         "True",
         "950139",
         "14"
        ],
        [
         "3",
         "500004",
         "(803) 255-0104",
         "betty-campbell@gmail.com",
         "Charleston",
         "SC",
         "29401",
         "Some College",
         "Supervisor",
         "No",
         null,
         null
        ],
        [
         "4",
         "500005",
         "(303) 596-8987",
         null,
         "Aurora",
         "CO",
         "80012",
         "Associates",
         null,
         "Yes",
         null,
         null
        ]
       ],
       "shape": {
        "columns": 11,
        "rows": 5
       }
      },
      "text/html": [
       "<div>\n",
       "<style scoped>\n",
       "    .dataframe tbody tr th:only-of-type {\n",
       "        vertical-align: middle;\n",
       "    }\n",
       "\n",
       "    .dataframe tbody tr th {\n",
       "        vertical-align: top;\n",
       "    }\n",
       "\n",
       "    .dataframe thead th {\n",
       "        text-align: right;\n",
       "    }\n",
       "</style>\n",
       "<table border=\"1\" class=\"dataframe\">\n",
       "  <thead>\n",
       "    <tr style=\"text-align: right;\">\n",
       "      <th></th>\n",
       "      <th>client_id</th>\n",
       "      <th>phone_number</th>\n",
       "      <th>email_address</th>\n",
       "      <th>city</th>\n",
       "      <th>state</th>\n",
       "      <th>zip_code</th>\n",
       "      <th>education_level</th>\n",
       "      <th>occupation</th>\n",
       "      <th>loyalty_member</th>\n",
       "      <th>loyalty_number</th>\n",
       "      <th>loyalty_points</th>\n",
       "    </tr>\n",
       "  </thead>\n",
       "  <tbody>\n",
       "    <tr>\n",
       "      <th>0</th>\n",
       "      <td>500001</td>\n",
       "      <td>NaN</td>\n",
       "      <td>n.edwards+spam@outlook.com</td>\n",
       "      <td>Spokane</td>\n",
       "      <td>WA</td>\n",
       "      <td>99201</td>\n",
       "      <td>High School</td>\n",
       "      <td>NaN</td>\n",
       "      <td>No</td>\n",
       "      <td>NaN</td>\n",
       "      <td>339</td>\n",
       "    </tr>\n",
       "    <tr>\n",
       "      <th>1</th>\n",
       "      <td>500002</td>\n",
       "      <td>(412) 698-7960</td>\n",
       "      <td>lisa_cook@yahoo.com</td>\n",
       "      <td>Pittsburgh</td>\n",
       "      <td>PA</td>\n",
       "      <td>15222</td>\n",
       "      <td>High School</td>\n",
       "      <td>Sales Representative</td>\n",
       "      <td>Yes</td>\n",
       "      <td>LP525082</td>\n",
       "      <td>406</td>\n",
       "    </tr>\n",
       "    <tr>\n",
       "      <th>2</th>\n",
       "      <td>500003</td>\n",
       "      <td>(303) 491-3774</td>\n",
       "      <td>NaN</td>\n",
       "      <td>Fort Collins</td>\n",
       "      <td>CO</td>\n",
       "      <td>80526</td>\n",
       "      <td>College Graduate</td>\n",
       "      <td>Analyst</td>\n",
       "      <td>True</td>\n",
       "      <td>950139</td>\n",
       "      <td>14</td>\n",
       "    </tr>\n",
       "    <tr>\n",
       "      <th>3</th>\n",
       "      <td>500004</td>\n",
       "      <td>(803) 255-0104</td>\n",
       "      <td>betty-campbell@gmail.com</td>\n",
       "      <td>Charleston</td>\n",
       "      <td>SC</td>\n",
       "      <td>29401</td>\n",
       "      <td>Some College</td>\n",
       "      <td>Supervisor</td>\n",
       "      <td>No</td>\n",
       "      <td>NaN</td>\n",
       "      <td>NaN</td>\n",
       "    </tr>\n",
       "    <tr>\n",
       "      <th>4</th>\n",
       "      <td>500005</td>\n",
       "      <td>(303) 596-8987</td>\n",
       "      <td>NaN</td>\n",
       "      <td>Aurora</td>\n",
       "      <td>CO</td>\n",
       "      <td>80012</td>\n",
       "      <td>Associates</td>\n",
       "      <td>NaN</td>\n",
       "      <td>Yes</td>\n",
       "      <td>NaN</td>\n",
       "      <td>NaN</td>\n",
       "    </tr>\n",
       "  </tbody>\n",
       "</table>\n",
       "</div>"
      ],
      "text/plain": [
       "   client_id    phone_number               email_address          city state  \\\n",
       "0     500001             NaN  n.edwards+spam@outlook.com       Spokane    WA   \n",
       "1     500002  (412) 698-7960         lisa_cook@yahoo.com    Pittsburgh    PA   \n",
       "2     500003  (303) 491-3774                         NaN  Fort Collins    CO   \n",
       "3     500004  (803) 255-0104    betty-campbell@gmail.com    Charleston    SC   \n",
       "4     500005  (303) 596-8987                         NaN        Aurora    CO   \n",
       "\n",
       "  zip_code   education_level            occupation loyalty_member  \\\n",
       "0    99201       High School                   NaN             No   \n",
       "1    15222       High School  Sales Representative            Yes   \n",
       "2    80526  College Graduate               Analyst           True   \n",
       "3    29401      Some College            Supervisor             No   \n",
       "4    80012        Associates                   NaN            Yes   \n",
       "\n",
       "  loyalty_number loyalty_points  \n",
       "0            NaN            339  \n",
       "1       LP525082            406  \n",
       "2         950139             14  \n",
       "3            NaN            NaN  \n",
       "4            NaN            NaN  "
      ]
     },
     "execution_count": 9,
     "metadata": {},
     "output_type": "execute_result"
    }
   ],
   "source": [
    "customer_data.head()"
   ]
  },
  {
   "cell_type": "code",
   "execution_count": 6,
   "id": "8bfa3ae4",
   "metadata": {},
   "outputs": [
    {
     "data": {
      "text/plain": [
       "801923"
      ]
     },
     "execution_count": 6,
     "metadata": {},
     "output_type": "execute_result"
    }
   ],
   "source": [
    "# Cantidad de clientes\n",
    "customer_data[\"client_id\"].nunique()"
   ]
  },
  {
   "cell_type": "markdown",
   "id": "c2446157",
   "metadata": {},
   "source": [
    "### Productos"
   ]
  },
  {
   "cell_type": "code",
   "execution_count": 11,
   "id": "0ebd4d2f",
   "metadata": {},
   "outputs": [
    {
     "data": {
      "application/vnd.microsoft.datawrangler.viewer.v0+json": {
       "columns": [
        {
         "name": "index",
         "rawType": "int64",
         "type": "integer"
        },
        {
         "name": "sku       ",
         "rawType": "object",
         "type": "string"
        },
        {
         "name": " product_name                     ",
         "rawType": "object",
         "type": "string"
        },
        {
         "name": " price_group_id    ",
         "rawType": "object",
         "type": "string"
        },
        {
         "name": " price_group_name          ",
         "rawType": "object",
         "type": "string"
        },
        {
         "name": " group_type",
         "rawType": "object",
         "type": "string"
        }
       ],
       "ref": "a32c10f6-96af-40c0-af87-8ad8d7567a30",
       "rows": [
        [
         "0",
         "BOOEDTE001",
         " PageTurn Essential Textbooks     ",
         " BACK_TO_SCHOOL_01 ",
         " Back to School Essentials ",
         " Seasonal"
        ],
        [
         "1",
         "BOOEDTE002",
         " Bookworm Advanced Textbooks      ",
         " BACK_TO_SCHOOL_01 ",
         " Back to School Essentials ",
         " Seasonal"
        ],
        [
         "2",
         "BOOEDTE004",
         " PageTurn Essential Textbooks     ",
         " BACK_TO_SCHOOL_01 ",
         " Back to School Essentials ",
         " Seasonal"
        ],
        [
         "3",
         "CLOMESH002",
         " DressRight Shirts Collection     ",
         " BACK_TO_SCHOOL_01 ",
         " Back to School Essentials ",
         " Seasonal"
        ],
        [
         "4",
         "CLOMESH005",
         " StyleX Relaxed Shirts            ",
         " BACK_TO_SCHOOL_01 ",
         " Back to School Essentials ",
         " Seasonal"
        ]
       ],
       "shape": {
        "columns": 5,
        "rows": 5
       }
      },
      "text/html": [
       "<div>\n",
       "<style scoped>\n",
       "    .dataframe tbody tr th:only-of-type {\n",
       "        vertical-align: middle;\n",
       "    }\n",
       "\n",
       "    .dataframe tbody tr th {\n",
       "        vertical-align: top;\n",
       "    }\n",
       "\n",
       "    .dataframe thead th {\n",
       "        text-align: right;\n",
       "    }\n",
       "</style>\n",
       "<table border=\"1\" class=\"dataframe\">\n",
       "  <thead>\n",
       "    <tr style=\"text-align: right;\">\n",
       "      <th></th>\n",
       "      <th>sku</th>\n",
       "      <th>product_name</th>\n",
       "      <th>price_group_id</th>\n",
       "      <th>price_group_name</th>\n",
       "      <th>group_type</th>\n",
       "    </tr>\n",
       "  </thead>\n",
       "  <tbody>\n",
       "    <tr>\n",
       "      <th>0</th>\n",
       "      <td>BOOEDTE001</td>\n",
       "      <td>PageTurn Essential Textbooks</td>\n",
       "      <td>BACK_TO_SCHOOL_01</td>\n",
       "      <td>Back to School Essentials</td>\n",
       "      <td>Seasonal</td>\n",
       "    </tr>\n",
       "    <tr>\n",
       "      <th>1</th>\n",
       "      <td>BOOEDTE002</td>\n",
       "      <td>Bookworm Advanced Textbooks</td>\n",
       "      <td>BACK_TO_SCHOOL_01</td>\n",
       "      <td>Back to School Essentials</td>\n",
       "      <td>Seasonal</td>\n",
       "    </tr>\n",
       "    <tr>\n",
       "      <th>2</th>\n",
       "      <td>BOOEDTE004</td>\n",
       "      <td>PageTurn Essential Textbooks</td>\n",
       "      <td>BACK_TO_SCHOOL_01</td>\n",
       "      <td>Back to School Essentials</td>\n",
       "      <td>Seasonal</td>\n",
       "    </tr>\n",
       "    <tr>\n",
       "      <th>3</th>\n",
       "      <td>CLOMESH002</td>\n",
       "      <td>DressRight Shirts Collection</td>\n",
       "      <td>BACK_TO_SCHOOL_01</td>\n",
       "      <td>Back to School Essentials</td>\n",
       "      <td>Seasonal</td>\n",
       "    </tr>\n",
       "    <tr>\n",
       "      <th>4</th>\n",
       "      <td>CLOMESH005</td>\n",
       "      <td>StyleX Relaxed Shirts</td>\n",
       "      <td>BACK_TO_SCHOOL_01</td>\n",
       "      <td>Back to School Essentials</td>\n",
       "      <td>Seasonal</td>\n",
       "    </tr>\n",
       "  </tbody>\n",
       "</table>\n",
       "</div>"
      ],
      "text/plain": [
       "   sku          product_name                        price_group_id      \\\n",
       "0  BOOEDTE001   PageTurn Essential Textbooks        BACK_TO_SCHOOL_01    \n",
       "1  BOOEDTE002   Bookworm Advanced Textbooks         BACK_TO_SCHOOL_01    \n",
       "2  BOOEDTE004   PageTurn Essential Textbooks        BACK_TO_SCHOOL_01    \n",
       "3  CLOMESH002   DressRight Shirts Collection        BACK_TO_SCHOOL_01    \n",
       "4  CLOMESH005   StyleX Relaxed Shirts               BACK_TO_SCHOOL_01    \n",
       "\n",
       "    price_group_name            group_type  \n",
       "0   Back to School Essentials     Seasonal  \n",
       "1   Back to School Essentials     Seasonal  \n",
       "2   Back to School Essentials     Seasonal  \n",
       "3   Back to School Essentials     Seasonal  \n",
       "4   Back to School Essentials     Seasonal  "
      ]
     },
     "execution_count": 11,
     "metadata": {},
     "output_type": "execute_result"
    }
   ],
   "source": [
    "product_groups_data.head()"
   ]
  },
  {
   "cell_type": "code",
   "execution_count": 12,
   "id": "a3bba01d",
   "metadata": {},
   "outputs": [
    {
     "data": {
      "application/vnd.microsoft.datawrangler.viewer.v0+json": {
       "columns": [
        {
         "name": "index",
         "rawType": "object",
         "type": "string"
        },
        {
         "name": "0",
         "rawType": "int64",
         "type": "integer"
        }
       ],
       "ref": "99e3f5e3-443b-441e-a893-1e0cbe6e7eda",
       "rows": [
        [
         "sku       ",
         "0"
        ],
        [
         " product_name                     ",
         "0"
        ],
        [
         " price_group_id    ",
         "0"
        ],
        [
         " price_group_name          ",
         "0"
        ],
        [
         " group_type",
         "0"
        ]
       ],
       "shape": {
        "columns": 1,
        "rows": 5
       }
      },
      "text/plain": [
       "sku                                   0\n",
       " product_name                         0\n",
       " price_group_id                       0\n",
       " price_group_name                     0\n",
       " group_type                           0\n",
       "dtype: int64"
      ]
     },
     "execution_count": 12,
     "metadata": {},
     "output_type": "execute_result"
    }
   ],
   "source": [
    "product_groups_data.isna().sum()"
   ]
  },
  {
   "cell_type": "code",
   "execution_count": 9,
   "id": "b7377ee1",
   "metadata": {},
   "outputs": [],
   "source": [
    "# Renombro columnas para que coincidan con las de transactions_data\n",
    "product_master_data.rename(columns={\"sku\": \"SKU\"}, inplace=True)\n",
    "product_groups_data.rename(columns={\"sku\": \"SKU\"}, inplace=True)"
   ]
  },
  {
   "cell_type": "code",
   "execution_count": 14,
   "id": "5f4be042",
   "metadata": {},
   "outputs": [
    {
     "data": {
      "text/plain": [
       "80"
      ]
     },
     "execution_count": 14,
     "metadata": {},
     "output_type": "execute_result"
    }
   ],
   "source": [
    "len(product_groups_data)"
   ]
  },
  {
   "cell_type": "code",
   "execution_count": 10,
   "id": "c7489338",
   "metadata": {},
   "outputs": [
    {
     "data": {
      "text/plain": [
       "73"
      ]
     },
     "execution_count": 10,
     "metadata": {},
     "output_type": "execute_result"
    }
   ],
   "source": [
    "product_groups_data[\"SKU\"].nunique()"
   ]
  },
  {
   "cell_type": "code",
   "execution_count": 11,
   "id": "4f370277",
   "metadata": {},
   "outputs": [
    {
     "data": {
      "text/html": [
       "<div>\n",
       "<style scoped>\n",
       "    .dataframe tbody tr th:only-of-type {\n",
       "        vertical-align: middle;\n",
       "    }\n",
       "\n",
       "    .dataframe tbody tr th {\n",
       "        vertical-align: top;\n",
       "    }\n",
       "\n",
       "    .dataframe thead th {\n",
       "        text-align: right;\n",
       "    }\n",
       "</style>\n",
       "<table border=\"1\" class=\"dataframe\">\n",
       "  <thead>\n",
       "    <tr style=\"text-align: right;\">\n",
       "      <th></th>\n",
       "      <th>SKU</th>\n",
       "      <th>product_name</th>\n",
       "      <th>price_group_id</th>\n",
       "      <th>price_group_name</th>\n",
       "      <th>group_type</th>\n",
       "    </tr>\n",
       "  </thead>\n",
       "  <tbody>\n",
       "    <tr>\n",
       "      <th>7</th>\n",
       "      <td>ELECOLA006</td>\n",
       "      <td>Electra Laptops Edge XL</td>\n",
       "      <td>BACK_TO_SCHOOL_01</td>\n",
       "      <td>Back to School Essentials</td>\n",
       "      <td>Seasonal</td>\n",
       "    </tr>\n",
       "    <tr>\n",
       "      <th>31</th>\n",
       "      <td>ELECOLA006</td>\n",
       "      <td>Electra Laptops Edge XL</td>\n",
       "      <td>COMP_SETUP_01</td>\n",
       "      <td>Computer Setup Essentials</td>\n",
       "      <td>Bundle</td>\n",
       "    </tr>\n",
       "    <tr>\n",
       "      <th>51</th>\n",
       "      <td>ELECOLA006</td>\n",
       "      <td>Electra Laptops Edge XL</td>\n",
       "      <td>MOBILE_DEVICES_01</td>\n",
       "      <td>Personal Computing Devices</td>\n",
       "      <td>Substitute</td>\n",
       "    </tr>\n",
       "    <tr>\n",
       "      <th>8</th>\n",
       "      <td>ELECOLA009</td>\n",
       "      <td>ByteWare Laptops Smart 2025</td>\n",
       "      <td>BACK_TO_SCHOOL_01</td>\n",
       "      <td>Back to School Essentials</td>\n",
       "      <td>Seasonal</td>\n",
       "    </tr>\n",
       "    <tr>\n",
       "      <th>52</th>\n",
       "      <td>ELECOLA009</td>\n",
       "      <td>ByteWare Laptops Smart 2025</td>\n",
       "      <td>MOBILE_DEVICES_01</td>\n",
       "      <td>Personal Computing Devices</td>\n",
       "      <td>Substitute</td>\n",
       "    </tr>\n",
       "    <tr>\n",
       "      <th>34</th>\n",
       "      <td>ELEMOAC008</td>\n",
       "      <td>ByteWare Accessories Air 2025</td>\n",
       "      <td>COMP_SETUP_01</td>\n",
       "      <td>Computer Setup Essentials</td>\n",
       "      <td>Bundle</td>\n",
       "    </tr>\n",
       "    <tr>\n",
       "      <th>48</th>\n",
       "      <td>ELEMOAC008</td>\n",
       "      <td>ByteWare Accessories Air 2025</td>\n",
       "      <td>GIFT_UNDER_50_01</td>\n",
       "      <td>Gift Ideas Under $50</td>\n",
       "      <td>Promotional</td>\n",
       "    </tr>\n",
       "    <tr>\n",
       "      <th>35</th>\n",
       "      <td>ELEMOAC009</td>\n",
       "      <td>TechPro Accessories Air X</td>\n",
       "      <td>COMP_SETUP_01</td>\n",
       "      <td>Computer Setup Essentials</td>\n",
       "      <td>Bundle</td>\n",
       "    </tr>\n",
       "    <tr>\n",
       "      <th>49</th>\n",
       "      <td>ELEMOAC009</td>\n",
       "      <td>TechPro Accessories Air X</td>\n",
       "      <td>GIFT_UNDER_50_01</td>\n",
       "      <td>Gift Ideas Under $50</td>\n",
       "      <td>Promotional</td>\n",
       "    </tr>\n",
       "    <tr>\n",
       "      <th>38</th>\n",
       "      <td>SPOFIEQ004</td>\n",
       "      <td>FitZone Sport Equipment</td>\n",
       "      <td>FITNESS_COMBO_01</td>\n",
       "      <td>Complete Fitness Package</td>\n",
       "      <td>Bundle</td>\n",
       "    </tr>\n",
       "    <tr>\n",
       "      <th>74</th>\n",
       "      <td>SPOFIEQ004</td>\n",
       "      <td>FitZone Sport Equipment</td>\n",
       "      <td>WELLNESS_BUNDLE_01</td>\n",
       "      <td>Wellness &amp; Self-Care</td>\n",
       "      <td>Lifestyle</td>\n",
       "    </tr>\n",
       "    <tr>\n",
       "      <th>40</th>\n",
       "      <td>SPOFISU004</td>\n",
       "      <td>FitZone Pro Supplements</td>\n",
       "      <td>FITNESS_COMBO_01</td>\n",
       "      <td>Complete Fitness Package</td>\n",
       "      <td>Bundle</td>\n",
       "    </tr>\n",
       "    <tr>\n",
       "      <th>78</th>\n",
       "      <td>SPOFISU004</td>\n",
       "      <td>FitZone Pro Supplements</td>\n",
       "      <td>WELLNESS_BUNDLE_01</td>\n",
       "      <td>Wellness &amp; Self-Care</td>\n",
       "      <td>Lifestyle</td>\n",
       "    </tr>\n",
       "  </tbody>\n",
       "</table>\n",
       "</div>"
      ],
      "text/plain": [
       "           SKU                   product_name      price_group_id  \\\n",
       "7   ELECOLA006        Electra Laptops Edge XL   BACK_TO_SCHOOL_01   \n",
       "31  ELECOLA006        Electra Laptops Edge XL       COMP_SETUP_01   \n",
       "51  ELECOLA006        Electra Laptops Edge XL   MOBILE_DEVICES_01   \n",
       "8   ELECOLA009    ByteWare Laptops Smart 2025   BACK_TO_SCHOOL_01   \n",
       "52  ELECOLA009    ByteWare Laptops Smart 2025   MOBILE_DEVICES_01   \n",
       "34  ELEMOAC008  ByteWare Accessories Air 2025       COMP_SETUP_01   \n",
       "48  ELEMOAC008  ByteWare Accessories Air 2025    GIFT_UNDER_50_01   \n",
       "35  ELEMOAC009      TechPro Accessories Air X       COMP_SETUP_01   \n",
       "49  ELEMOAC009      TechPro Accessories Air X    GIFT_UNDER_50_01   \n",
       "38  SPOFIEQ004        FitZone Sport Equipment    FITNESS_COMBO_01   \n",
       "74  SPOFIEQ004        FitZone Sport Equipment  WELLNESS_BUNDLE_01   \n",
       "40  SPOFISU004        FitZone Pro Supplements    FITNESS_COMBO_01   \n",
       "78  SPOFISU004        FitZone Pro Supplements  WELLNESS_BUNDLE_01   \n",
       "\n",
       "              price_group_name   group_type  \n",
       "7    Back to School Essentials     Seasonal  \n",
       "31   Computer Setup Essentials       Bundle  \n",
       "51  Personal Computing Devices   Substitute  \n",
       "8    Back to School Essentials     Seasonal  \n",
       "52  Personal Computing Devices   Substitute  \n",
       "34   Computer Setup Essentials       Bundle  \n",
       "48        Gift Ideas Under $50  Promotional  \n",
       "35   Computer Setup Essentials       Bundle  \n",
       "49        Gift Ideas Under $50  Promotional  \n",
       "38    Complete Fitness Package       Bundle  \n",
       "74        Wellness & Self-Care    Lifestyle  \n",
       "40    Complete Fitness Package       Bundle  \n",
       "78        Wellness & Self-Care    Lifestyle  "
      ]
     },
     "execution_count": 11,
     "metadata": {},
     "output_type": "execute_result"
    }
   ],
   "source": [
    "# Hay repetidos, que se deben a que un producto puede pertenecer a varios grupos\n",
    "product_groups_data[product_groups_data[\"SKU\"].duplicated(keep=False)].sort_values(\"SKU\")"
   ]
  },
  {
   "cell_type": "code",
   "execution_count": 12,
   "id": "dfd46230",
   "metadata": {},
   "outputs": [],
   "source": [
    "# Dado que no se diferencian en las transacciones, los eliminamos por simplicidad\n",
    "product_groups_data.drop_duplicates(subset=[\"SKU\"], inplace=True)"
   ]
  },
  {
   "cell_type": "code",
   "execution_count": 18,
   "id": "9e5eb4c6",
   "metadata": {},
   "outputs": [
    {
     "data": {
      "application/vnd.microsoft.datawrangler.viewer.v0+json": {
       "columns": [
        {
         "name": "index",
         "rawType": "int64",
         "type": "integer"
        },
        {
         "name": "SKU",
         "rawType": "object",
         "type": "string"
        },
        {
         "name": "product_name",
         "rawType": "object",
         "type": "string"
        },
        {
         "name": "category",
         "rawType": "object",
         "type": "string"
        },
        {
         "name": "group",
         "rawType": "object",
         "type": "string"
        },
        {
         "name": "subgroup",
         "rawType": "object",
         "type": "string"
        },
        {
         "name": "brand",
         "rawType": "object",
         "type": "string"
        },
        {
         "name": "base_price",
         "rawType": "float64",
         "type": "float"
        },
        {
         "name": "initial_ticket_price",
         "rawType": "float64",
         "type": "float"
        },
        {
         "name": "costos",
         "rawType": "float64",
         "type": "float"
        }
       ],
       "ref": "13e6700d-364b-4efc-8e1a-c24e3a6bce1f",
       "rows": [
        [
         "0",
         "ELECOLA001",
         "TechPro Laptops Smart 2025",
         "Electronics",
         "Computing",
         "Laptops",
         "TechPro",
         "284.94",
         "355.14",
         "225.84"
        ],
        [
         "1",
         "ELECOLA002",
         "Electra Laptops Ultra Pro",
         "Electronics",
         "Computing",
         "Laptops",
         "Electra",
         "311.83",
         "352.74",
         "209.99"
        ],
        [
         "2",
         "ELECOLA003",
         "CircuitCity Laptops Air 2024",
         "Electronics",
         "Computing",
         "Laptops",
         "CircuitCity",
         "246.96",
         "301.35",
         "192.61"
        ],
        [
         "3",
         "ELECOLA004",
         "TechPro Laptops Elite 2025",
         "Electronics",
         "Computing",
         "Laptops",
         "TechPro",
         "324.96",
         "420.49",
         "212.23"
        ],
        [
         "4",
         "ELECOLA005",
         "CircuitCity Laptops Pro S",
         "Electronics",
         "Computing",
         "Laptops",
         "CircuitCity",
         "339.88",
         "386.23",
         "231.75"
        ]
       ],
       "shape": {
        "columns": 9,
        "rows": 5
       }
      },
      "text/html": [
       "<div>\n",
       "<style scoped>\n",
       "    .dataframe tbody tr th:only-of-type {\n",
       "        vertical-align: middle;\n",
       "    }\n",
       "\n",
       "    .dataframe tbody tr th {\n",
       "        vertical-align: top;\n",
       "    }\n",
       "\n",
       "    .dataframe thead th {\n",
       "        text-align: right;\n",
       "    }\n",
       "</style>\n",
       "<table border=\"1\" class=\"dataframe\">\n",
       "  <thead>\n",
       "    <tr style=\"text-align: right;\">\n",
       "      <th></th>\n",
       "      <th>SKU</th>\n",
       "      <th>product_name</th>\n",
       "      <th>category</th>\n",
       "      <th>group</th>\n",
       "      <th>subgroup</th>\n",
       "      <th>brand</th>\n",
       "      <th>base_price</th>\n",
       "      <th>initial_ticket_price</th>\n",
       "      <th>costos</th>\n",
       "    </tr>\n",
       "  </thead>\n",
       "  <tbody>\n",
       "    <tr>\n",
       "      <th>0</th>\n",
       "      <td>ELECOLA001</td>\n",
       "      <td>TechPro Laptops Smart 2025</td>\n",
       "      <td>Electronics</td>\n",
       "      <td>Computing</td>\n",
       "      <td>Laptops</td>\n",
       "      <td>TechPro</td>\n",
       "      <td>284.94</td>\n",
       "      <td>355.14</td>\n",
       "      <td>225.84</td>\n",
       "    </tr>\n",
       "    <tr>\n",
       "      <th>1</th>\n",
       "      <td>ELECOLA002</td>\n",
       "      <td>Electra Laptops Ultra Pro</td>\n",
       "      <td>Electronics</td>\n",
       "      <td>Computing</td>\n",
       "      <td>Laptops</td>\n",
       "      <td>Electra</td>\n",
       "      <td>311.83</td>\n",
       "      <td>352.74</td>\n",
       "      <td>209.99</td>\n",
       "    </tr>\n",
       "    <tr>\n",
       "      <th>2</th>\n",
       "      <td>ELECOLA003</td>\n",
       "      <td>CircuitCity Laptops Air 2024</td>\n",
       "      <td>Electronics</td>\n",
       "      <td>Computing</td>\n",
       "      <td>Laptops</td>\n",
       "      <td>CircuitCity</td>\n",
       "      <td>246.96</td>\n",
       "      <td>301.35</td>\n",
       "      <td>192.61</td>\n",
       "    </tr>\n",
       "    <tr>\n",
       "      <th>3</th>\n",
       "      <td>ELECOLA004</td>\n",
       "      <td>TechPro Laptops Elite 2025</td>\n",
       "      <td>Electronics</td>\n",
       "      <td>Computing</td>\n",
       "      <td>Laptops</td>\n",
       "      <td>TechPro</td>\n",
       "      <td>324.96</td>\n",
       "      <td>420.49</td>\n",
       "      <td>212.23</td>\n",
       "    </tr>\n",
       "    <tr>\n",
       "      <th>4</th>\n",
       "      <td>ELECOLA005</td>\n",
       "      <td>CircuitCity Laptops Pro S</td>\n",
       "      <td>Electronics</td>\n",
       "      <td>Computing</td>\n",
       "      <td>Laptops</td>\n",
       "      <td>CircuitCity</td>\n",
       "      <td>339.88</td>\n",
       "      <td>386.23</td>\n",
       "      <td>231.75</td>\n",
       "    </tr>\n",
       "  </tbody>\n",
       "</table>\n",
       "</div>"
      ],
      "text/plain": [
       "          SKU                  product_name     category      group subgroup  \\\n",
       "0  ELECOLA001    TechPro Laptops Smart 2025  Electronics  Computing  Laptops   \n",
       "1  ELECOLA002     Electra Laptops Ultra Pro  Electronics  Computing  Laptops   \n",
       "2  ELECOLA003  CircuitCity Laptops Air 2024  Electronics  Computing  Laptops   \n",
       "3  ELECOLA004    TechPro Laptops Elite 2025  Electronics  Computing  Laptops   \n",
       "4  ELECOLA005     CircuitCity Laptops Pro S  Electronics  Computing  Laptops   \n",
       "\n",
       "         brand  base_price  initial_ticket_price  costos  \n",
       "0      TechPro      284.94                355.14  225.84  \n",
       "1      Electra      311.83                352.74  209.99  \n",
       "2  CircuitCity      246.96                301.35  192.61  \n",
       "3      TechPro      324.96                420.49  212.23  \n",
       "4  CircuitCity      339.88                386.23  231.75  "
      ]
     },
     "execution_count": 18,
     "metadata": {},
     "output_type": "execute_result"
    }
   ],
   "source": [
    "product_master_data.head()"
   ]
  },
  {
   "cell_type": "code",
   "execution_count": 13,
   "id": "e3145331",
   "metadata": {},
   "outputs": [
    {
     "data": {
      "text/plain": [
       "SKU                     0\n",
       "product_name            0\n",
       "category                0\n",
       "group                   0\n",
       "subgroup                0\n",
       "brand                   0\n",
       "base_price              0\n",
       "initial_ticket_price    0\n",
       "costos                  0\n",
       "dtype: int64"
      ]
     },
     "execution_count": 13,
     "metadata": {},
     "output_type": "execute_result"
    }
   ],
   "source": [
    "product_master_data.isna().sum()"
   ]
  },
  {
   "cell_type": "code",
   "execution_count": 14,
   "id": "9c122238",
   "metadata": {},
   "outputs": [
    {
     "data": {
      "text/plain": [
       "Index(['SKU', 'product_name', 'price_group_id', 'price_group_name',\n",
       "       'group_type'],\n",
       "      dtype='object')"
      ]
     },
     "execution_count": 14,
     "metadata": {},
     "output_type": "execute_result"
    }
   ],
   "source": [
    "# Notar el formato de las columnas de product_groups_data\n",
    "product_groups_data.columns"
   ]
  },
  {
   "cell_type": "code",
   "execution_count": 15,
   "id": "d7ac3003",
   "metadata": {},
   "outputs": [],
   "source": [
    "# Unimos los datos de productos con los grupos de productos\n",
    "productos = pd.merge(product_master_data, product_groups_data, on=\"SKU\", how=\"left\")"
   ]
  },
  {
   "cell_type": "code",
   "execution_count": 16,
   "id": "384020b5",
   "metadata": {},
   "outputs": [
    {
     "data": {
      "text/plain": [
       "SKU                       0\n",
       "product_name_x            0\n",
       "category                  0\n",
       "group                     0\n",
       "subgroup                  0\n",
       "brand                     0\n",
       "base_price                0\n",
       "initial_ticket_price      0\n",
       "costos                    0\n",
       "product_name_y          788\n",
       "price_group_id          788\n",
       "price_group_name        788\n",
       "group_type              788\n",
       "dtype: int64"
      ]
     },
     "execution_count": 16,
     "metadata": {},
     "output_type": "execute_result"
    }
   ],
   "source": [
    "# Hay muchos productos que no tienen grupo asignado\n",
    "productos.isna().sum()"
   ]
  },
  {
   "cell_type": "code",
   "execution_count": 18,
   "id": "b04a8201",
   "metadata": {},
   "outputs": [],
   "source": [
    "# Asignamos Comun a los productos que no tienen grupo asignado (price_group_id y group_type, el resto no las utilizamos)\n",
    "productos[\"price_group_id\"] = productos['price_group_id'].fillna('Comun')\n",
    "productos['group_type']= productos['group_type'].fillna('Comun')\n"
   ]
  },
  {
   "cell_type": "code",
   "execution_count": 19,
   "id": "4787e31f",
   "metadata": {},
   "outputs": [
    {
     "data": {
      "text/plain": [
       "74"
      ]
     },
     "execution_count": 19,
     "metadata": {},
     "output_type": "execute_result"
    }
   ],
   "source": [
    "# Notar que hay 74 subproductos, pero en las transacciones solo aparecen 73. En concreto, no aparece 'Basketball'\n",
    "productos[\"subgroup\"].nunique()"
   ]
  },
  {
   "cell_type": "markdown",
   "id": "f2b49e0b",
   "metadata": {},
   "source": [
    "### Stores"
   ]
  },
  {
   "cell_type": "code",
   "execution_count": 20,
   "id": "fc95f3ee",
   "metadata": {},
   "outputs": [
    {
     "data": {
      "text/html": [
       "<div>\n",
       "<style scoped>\n",
       "    .dataframe tbody tr th:only-of-type {\n",
       "        vertical-align: middle;\n",
       "    }\n",
       "\n",
       "    .dataframe tbody tr th {\n",
       "        vertical-align: top;\n",
       "    }\n",
       "\n",
       "    .dataframe thead th {\n",
       "        text-align: right;\n",
       "    }\n",
       "</style>\n",
       "<table border=\"1\" class=\"dataframe\">\n",
       "  <thead>\n",
       "    <tr style=\"text-align: right;\">\n",
       "      <th></th>\n",
       "      <th>STORE_ID</th>\n",
       "      <th>BRAND</th>\n",
       "      <th>STORE_NAME</th>\n",
       "      <th>CLUSTER</th>\n",
       "    </tr>\n",
       "  </thead>\n",
       "  <tbody>\n",
       "    <tr>\n",
       "      <th>0</th>\n",
       "      <td>S00001</td>\n",
       "      <td>PrimeGoods</td>\n",
       "      <td>PrimeGoods - Hillsboro</td>\n",
       "      <td>Cluster_West_Coast</td>\n",
       "    </tr>\n",
       "    <tr>\n",
       "      <th>1</th>\n",
       "      <td>S00002</td>\n",
       "      <td>MegaShop</td>\n",
       "      <td>MegaShop Indianapolis Eastside</td>\n",
       "      <td>Midwest_Cluster</td>\n",
       "    </tr>\n",
       "    <tr>\n",
       "      <th>2</th>\n",
       "      <td>STORE0003</td>\n",
       "      <td>MarketExpress</td>\n",
       "      <td>MarketExpress - Las Vegas</td>\n",
       "      <td>Mountain_Cluster</td>\n",
       "    </tr>\n",
       "    <tr>\n",
       "      <th>3</th>\n",
       "      <td>STORE0004</td>\n",
       "      <td>MegaShop</td>\n",
       "      <td>MegaShop - Oklahoma City</td>\n",
       "      <td>Texas_Cluster</td>\n",
       "    </tr>\n",
       "    <tr>\n",
       "      <th>4</th>\n",
       "      <td>S00005</td>\n",
       "      <td>PrimeGoods</td>\n",
       "      <td>PrimeGoods - Charlotte</td>\n",
       "      <td>NC_Cluster</td>\n",
       "    </tr>\n",
       "  </tbody>\n",
       "</table>\n",
       "</div>"
      ],
      "text/plain": [
       "    STORE_ID          BRAND                      STORE_NAME  \\\n",
       "0     S00001     PrimeGoods          PrimeGoods - Hillsboro   \n",
       "1     S00002       MegaShop  MegaShop Indianapolis Eastside   \n",
       "2  STORE0003  MarketExpress       MarketExpress - Las Vegas   \n",
       "3  STORE0004       MegaShop        MegaShop - Oklahoma City   \n",
       "4     S00005     PrimeGoods          PrimeGoods - Charlotte   \n",
       "\n",
       "              CLUSTER  \n",
       "0  Cluster_West_Coast  \n",
       "1     Midwest_Cluster  \n",
       "2    Mountain_Cluster  \n",
       "3       Texas_Cluster  \n",
       "4          NC_Cluster  "
      ]
     },
     "execution_count": 20,
     "metadata": {},
     "output_type": "execute_result"
    }
   ],
   "source": [
    "stores_clusters_data.head()"
   ]
  },
  {
   "cell_type": "code",
   "execution_count": 26,
   "id": "4d59d1c2",
   "metadata": {},
   "outputs": [
    {
     "data": {
      "application/vnd.microsoft.datawrangler.viewer.v0+json": {
       "columns": [
        {
         "name": "index",
         "rawType": "object",
         "type": "string"
        },
        {
         "name": "STORE_ID",
         "rawType": "object",
         "type": "unknown"
        },
        {
         "name": "BRAND",
         "rawType": "object",
         "type": "unknown"
        },
        {
         "name": "STORE_NAME",
         "rawType": "object",
         "type": "unknown"
        },
        {
         "name": "CLUSTER",
         "rawType": "object",
         "type": "unknown"
        }
       ],
       "ref": "8ac1ee58-d6c5-4694-91fe-cae0ab49f8c4",
       "rows": [
        [
         "count",
         "157",
         "157",
         "157",
         "140"
        ],
        [
         "unique",
         "157",
         "9",
         "144",
         "13"
        ],
        [
         "top",
         "S00001",
         "EssentialsPlus",
         "EssentialsPlus - Spartanburg",
         "Cluster_West_Coast"
        ],
        [
         "freq",
         "1",
         "25",
         "3",
         "16"
        ]
       ],
       "shape": {
        "columns": 4,
        "rows": 4
       }
      },
      "text/html": [
       "<div>\n",
       "<style scoped>\n",
       "    .dataframe tbody tr th:only-of-type {\n",
       "        vertical-align: middle;\n",
       "    }\n",
       "\n",
       "    .dataframe tbody tr th {\n",
       "        vertical-align: top;\n",
       "    }\n",
       "\n",
       "    .dataframe thead th {\n",
       "        text-align: right;\n",
       "    }\n",
       "</style>\n",
       "<table border=\"1\" class=\"dataframe\">\n",
       "  <thead>\n",
       "    <tr style=\"text-align: right;\">\n",
       "      <th></th>\n",
       "      <th>STORE_ID</th>\n",
       "      <th>BRAND</th>\n",
       "      <th>STORE_NAME</th>\n",
       "      <th>CLUSTER</th>\n",
       "    </tr>\n",
       "  </thead>\n",
       "  <tbody>\n",
       "    <tr>\n",
       "      <th>count</th>\n",
       "      <td>157</td>\n",
       "      <td>157</td>\n",
       "      <td>157</td>\n",
       "      <td>140</td>\n",
       "    </tr>\n",
       "    <tr>\n",
       "      <th>unique</th>\n",
       "      <td>157</td>\n",
       "      <td>9</td>\n",
       "      <td>144</td>\n",
       "      <td>13</td>\n",
       "    </tr>\n",
       "    <tr>\n",
       "      <th>top</th>\n",
       "      <td>S00001</td>\n",
       "      <td>EssentialsPlus</td>\n",
       "      <td>EssentialsPlus - Spartanburg</td>\n",
       "      <td>Cluster_West_Coast</td>\n",
       "    </tr>\n",
       "    <tr>\n",
       "      <th>freq</th>\n",
       "      <td>1</td>\n",
       "      <td>25</td>\n",
       "      <td>3</td>\n",
       "      <td>16</td>\n",
       "    </tr>\n",
       "  </tbody>\n",
       "</table>\n",
       "</div>"
      ],
      "text/plain": [
       "       STORE_ID           BRAND                    STORE_NAME  \\\n",
       "count       157             157                           157   \n",
       "unique      157               9                           144   \n",
       "top      S00001  EssentialsPlus  EssentialsPlus - Spartanburg   \n",
       "freq          1              25                             3   \n",
       "\n",
       "                   CLUSTER  \n",
       "count                  140  \n",
       "unique                  13  \n",
       "top     Cluster_West_Coast  \n",
       "freq                    16  "
      ]
     },
     "execution_count": 26,
     "metadata": {},
     "output_type": "execute_result"
    }
   ],
   "source": [
    "stores_clusters_data.describe()"
   ]
  },
  {
   "cell_type": "code",
   "execution_count": 21,
   "id": "0d569eb5",
   "metadata": {},
   "outputs": [
    {
     "data": {
      "text/plain": [
       "STORE_ID       0\n",
       "BRAND          0\n",
       "STORE_NAME     0\n",
       "CLUSTER       17\n",
       "dtype: int64"
      ]
     },
     "execution_count": 21,
     "metadata": {},
     "output_type": "execute_result"
    }
   ],
   "source": [
    "# Aunque Cluster tenga NaN, no es necesario el dato dado que ya sabemos el estado y la ciudad de cada tienda\n",
    "stores_clusters_data.isna().sum()"
   ]
  },
  {
   "cell_type": "code",
   "execution_count": 22,
   "id": "03f7d0a7",
   "metadata": {},
   "outputs": [
    {
     "data": {
      "text/plain": [
       "np.int64(157)"
      ]
     },
     "execution_count": 22,
     "metadata": {},
     "output_type": "execute_result"
    }
   ],
   "source": [
    "# Notar que hay diferentes formatos de STORE_ID, pero coinciden con los de stores_data y los de transactions_data\n",
    "(stores_clusters_data[\"STORE_ID\"].unique() == stores_data[\"STORE_ID\"].unique()).sum()"
   ]
  },
  {
   "cell_type": "code",
   "execution_count": 23,
   "id": "627c017c",
   "metadata": {},
   "outputs": [
    {
     "data": {
      "text/html": [
       "<div>\n",
       "<style scoped>\n",
       "    .dataframe tbody tr th:only-of-type {\n",
       "        vertical-align: middle;\n",
       "    }\n",
       "\n",
       "    .dataframe tbody tr th {\n",
       "        vertical-align: top;\n",
       "    }\n",
       "\n",
       "    .dataframe thead th {\n",
       "        text-align: right;\n",
       "    }\n",
       "</style>\n",
       "<table border=\"1\" class=\"dataframe\">\n",
       "  <thead>\n",
       "    <tr style=\"text-align: right;\">\n",
       "      <th></th>\n",
       "      <th>STORE_ID</th>\n",
       "      <th>BRAND</th>\n",
       "      <th>STORE_NAME</th>\n",
       "      <th>ADDRESS1</th>\n",
       "      <th>ADDRESS2</th>\n",
       "      <th>CITY</th>\n",
       "      <th>STATE</th>\n",
       "      <th>ZIP</th>\n",
       "      <th>OPENDATE</th>\n",
       "      <th>CLOSEDATE</th>\n",
       "      <th>STORE_TYPE</th>\n",
       "      <th>REGION</th>\n",
       "    </tr>\n",
       "  </thead>\n",
       "  <tbody>\n",
       "    <tr>\n",
       "      <th>0</th>\n",
       "      <td>S00001</td>\n",
       "      <td>PrimeGoods</td>\n",
       "      <td>PrimeGoods - Hillsboro</td>\n",
       "      <td>5735 NE Washington Pl</td>\n",
       "      <td>NaN</td>\n",
       "      <td>Hillsboro</td>\n",
       "      <td>OR</td>\n",
       "      <td>74820</td>\n",
       "      <td>2015-01-10 00:00:00</td>\n",
       "      <td>NaN</td>\n",
       "      <td>Express</td>\n",
       "      <td>West</td>\n",
       "    </tr>\n",
       "    <tr>\n",
       "      <th>1</th>\n",
       "      <td>S00002</td>\n",
       "      <td>MegaShop</td>\n",
       "      <td>MegaShop Indianapolis Eastside</td>\n",
       "      <td>3557  Cedar Ct</td>\n",
       "      <td>Unit 89</td>\n",
       "      <td>Indianapolis</td>\n",
       "      <td>IN</td>\n",
       "      <td>33483-1775</td>\n",
       "      <td>2012-03-23 00:00:00</td>\n",
       "      <td>NaN</td>\n",
       "      <td>Express</td>\n",
       "      <td>Midwest</td>\n",
       "    </tr>\n",
       "    <tr>\n",
       "      <th>2</th>\n",
       "      <td>STORE0003</td>\n",
       "      <td>MarketExpress</td>\n",
       "      <td>MarketExpress - Las Vegas</td>\n",
       "      <td>7870 W Church Ave</td>\n",
       "      <td>NaN</td>\n",
       "      <td>Las Vegas</td>\n",
       "      <td>NV</td>\n",
       "      <td>49099</td>\n",
       "      <td>2021-09-23 00:00:00</td>\n",
       "      <td>NaN</td>\n",
       "      <td>Outlet</td>\n",
       "      <td>West</td>\n",
       "    </tr>\n",
       "    <tr>\n",
       "      <th>3</th>\n",
       "      <td>STORE0004</td>\n",
       "      <td>MegaShop</td>\n",
       "      <td>MegaShop - Oklahoma City</td>\n",
       "      <td>3105 N Washington Pl</td>\n",
       "      <td>NaN</td>\n",
       "      <td>Oklahoma City</td>\n",
       "      <td>OK</td>\n",
       "      <td>80592</td>\n",
       "      <td>06/30/2015</td>\n",
       "      <td>NaN</td>\n",
       "      <td>Mall</td>\n",
       "      <td>Southwest</td>\n",
       "    </tr>\n",
       "    <tr>\n",
       "      <th>4</th>\n",
       "      <td>S00005</td>\n",
       "      <td>PrimeGoods</td>\n",
       "      <td>PrimeGoods - Charlotte</td>\n",
       "      <td>8756 SW Maple Ln</td>\n",
       "      <td>Suite 848</td>\n",
       "      <td>Charlotte</td>\n",
       "      <td>NC</td>\n",
       "      <td>32299</td>\n",
       "      <td>2019-06-10 00:00:00</td>\n",
       "      <td>NaN</td>\n",
       "      <td>Express</td>\n",
       "      <td>Southeast</td>\n",
       "    </tr>\n",
       "  </tbody>\n",
       "</table>\n",
       "</div>"
      ],
      "text/plain": [
       "    STORE_ID          BRAND                      STORE_NAME  \\\n",
       "0     S00001     PrimeGoods          PrimeGoods - Hillsboro   \n",
       "1     S00002       MegaShop  MegaShop Indianapolis Eastside   \n",
       "2  STORE0003  MarketExpress       MarketExpress - Las Vegas   \n",
       "3  STORE0004       MegaShop        MegaShop - Oklahoma City   \n",
       "4     S00005     PrimeGoods          PrimeGoods - Charlotte   \n",
       "\n",
       "                ADDRESS1   ADDRESS2           CITY STATE         ZIP  \\\n",
       "0  5735 NE Washington Pl        NaN      Hillsboro    OR       74820   \n",
       "1         3557  Cedar Ct    Unit 89   Indianapolis    IN  33483-1775   \n",
       "2      7870 W Church Ave        NaN      Las Vegas    NV       49099   \n",
       "3   3105 N Washington Pl        NaN  Oklahoma City    OK       80592   \n",
       "4       8756 SW Maple Ln  Suite 848      Charlotte    NC       32299   \n",
       "\n",
       "              OPENDATE CLOSEDATE STORE_TYPE     REGION  \n",
       "0  2015-01-10 00:00:00       NaN    Express       West  \n",
       "1  2012-03-23 00:00:00       NaN    Express    Midwest  \n",
       "2  2021-09-23 00:00:00       NaN     Outlet       West  \n",
       "3           06/30/2015       NaN       Mall  Southwest  \n",
       "4  2019-06-10 00:00:00       NaN    Express  Southeast  "
      ]
     },
     "execution_count": 23,
     "metadata": {},
     "output_type": "execute_result"
    }
   ],
   "source": [
    "stores_data.head()"
   ]
  },
  {
   "cell_type": "code",
   "execution_count": 30,
   "id": "a5f2ac52",
   "metadata": {},
   "outputs": [
    {
     "data": {
      "application/vnd.microsoft.datawrangler.viewer.v0+json": {
       "columns": [
        {
         "name": "index",
         "rawType": "object",
         "type": "string"
        },
        {
         "name": "STORE_ID",
         "rawType": "object",
         "type": "unknown"
        },
        {
         "name": "BRAND",
         "rawType": "object",
         "type": "unknown"
        },
        {
         "name": "STORE_NAME",
         "rawType": "object",
         "type": "unknown"
        },
        {
         "name": "ADDRESS1",
         "rawType": "object",
         "type": "unknown"
        },
        {
         "name": "ADDRESS2",
         "rawType": "object",
         "type": "unknown"
        },
        {
         "name": "CITY",
         "rawType": "object",
         "type": "unknown"
        },
        {
         "name": "STATE",
         "rawType": "object",
         "type": "unknown"
        },
        {
         "name": "ZIP",
         "rawType": "object",
         "type": "unknown"
        },
        {
         "name": "OPENDATE",
         "rawType": "object",
         "type": "unknown"
        },
        {
         "name": "CLOSEDATE",
         "rawType": "object",
         "type": "unknown"
        },
        {
         "name": "STORE_TYPE",
         "rawType": "object",
         "type": "unknown"
        },
        {
         "name": "REGION",
         "rawType": "object",
         "type": "unknown"
        }
       ],
       "ref": "19a5ae77-42c8-4c40-8dbe-cefc4f322d8c",
       "rows": [
        [
         "count",
         "157",
         "157",
         "157",
         "157",
         "43",
         "157",
         "157",
         "151",
         "157",
         "18",
         "155",
         "157"
        ],
        [
         "unique",
         "157",
         "9",
         "144",
         "157",
         "34",
         "77",
         "22",
         "151",
         "155",
         "18",
         "8",
         "5"
        ],
        [
         "top",
         "S00001",
         "EssentialsPlus",
         "EssentialsPlus - Spartanburg",
         "5735 NE Washington Pl",
         "Building E",
         "Hillsboro",
         "SC",
         "74820",
         "2017-09-27 00:00:00",
         "2028-02-21 00:00:00",
         "Mall",
         "Southeast"
        ],
        [
         "freq",
         "1",
         "25",
         "3",
         "1",
         "3",
         "5",
         "13",
         "1",
         "2",
         "1",
         "44",
         "47"
        ]
       ],
       "shape": {
        "columns": 12,
        "rows": 4
       }
      },
      "text/html": [
       "<div>\n",
       "<style scoped>\n",
       "    .dataframe tbody tr th:only-of-type {\n",
       "        vertical-align: middle;\n",
       "    }\n",
       "\n",
       "    .dataframe tbody tr th {\n",
       "        vertical-align: top;\n",
       "    }\n",
       "\n",
       "    .dataframe thead th {\n",
       "        text-align: right;\n",
       "    }\n",
       "</style>\n",
       "<table border=\"1\" class=\"dataframe\">\n",
       "  <thead>\n",
       "    <tr style=\"text-align: right;\">\n",
       "      <th></th>\n",
       "      <th>STORE_ID</th>\n",
       "      <th>BRAND</th>\n",
       "      <th>STORE_NAME</th>\n",
       "      <th>ADDRESS1</th>\n",
       "      <th>ADDRESS2</th>\n",
       "      <th>CITY</th>\n",
       "      <th>STATE</th>\n",
       "      <th>ZIP</th>\n",
       "      <th>OPENDATE</th>\n",
       "      <th>CLOSEDATE</th>\n",
       "      <th>STORE_TYPE</th>\n",
       "      <th>REGION</th>\n",
       "    </tr>\n",
       "  </thead>\n",
       "  <tbody>\n",
       "    <tr>\n",
       "      <th>count</th>\n",
       "      <td>157</td>\n",
       "      <td>157</td>\n",
       "      <td>157</td>\n",
       "      <td>157</td>\n",
       "      <td>43</td>\n",
       "      <td>157</td>\n",
       "      <td>157</td>\n",
       "      <td>151</td>\n",
       "      <td>157</td>\n",
       "      <td>18</td>\n",
       "      <td>155</td>\n",
       "      <td>157</td>\n",
       "    </tr>\n",
       "    <tr>\n",
       "      <th>unique</th>\n",
       "      <td>157</td>\n",
       "      <td>9</td>\n",
       "      <td>144</td>\n",
       "      <td>157</td>\n",
       "      <td>34</td>\n",
       "      <td>77</td>\n",
       "      <td>22</td>\n",
       "      <td>151</td>\n",
       "      <td>155</td>\n",
       "      <td>18</td>\n",
       "      <td>8</td>\n",
       "      <td>5</td>\n",
       "    </tr>\n",
       "    <tr>\n",
       "      <th>top</th>\n",
       "      <td>S00001</td>\n",
       "      <td>EssentialsPlus</td>\n",
       "      <td>EssentialsPlus - Spartanburg</td>\n",
       "      <td>5735 NE Washington Pl</td>\n",
       "      <td>Building E</td>\n",
       "      <td>Hillsboro</td>\n",
       "      <td>SC</td>\n",
       "      <td>74820</td>\n",
       "      <td>2017-09-27 00:00:00</td>\n",
       "      <td>2028-02-21 00:00:00</td>\n",
       "      <td>Mall</td>\n",
       "      <td>Southeast</td>\n",
       "    </tr>\n",
       "    <tr>\n",
       "      <th>freq</th>\n",
       "      <td>1</td>\n",
       "      <td>25</td>\n",
       "      <td>3</td>\n",
       "      <td>1</td>\n",
       "      <td>3</td>\n",
       "      <td>5</td>\n",
       "      <td>13</td>\n",
       "      <td>1</td>\n",
       "      <td>2</td>\n",
       "      <td>1</td>\n",
       "      <td>44</td>\n",
       "      <td>47</td>\n",
       "    </tr>\n",
       "  </tbody>\n",
       "</table>\n",
       "</div>"
      ],
      "text/plain": [
       "       STORE_ID           BRAND                    STORE_NAME  \\\n",
       "count       157             157                           157   \n",
       "unique      157               9                           144   \n",
       "top      S00001  EssentialsPlus  EssentialsPlus - Spartanburg   \n",
       "freq          1              25                             3   \n",
       "\n",
       "                     ADDRESS1    ADDRESS2       CITY STATE    ZIP  \\\n",
       "count                     157          43        157   157    151   \n",
       "unique                    157          34         77    22    151   \n",
       "top     5735 NE Washington Pl  Building E  Hillsboro    SC  74820   \n",
       "freq                        1           3          5    13      1   \n",
       "\n",
       "                   OPENDATE            CLOSEDATE STORE_TYPE     REGION  \n",
       "count                   157                   18        155        157  \n",
       "unique                  155                   18          8          5  \n",
       "top     2017-09-27 00:00:00  2028-02-21 00:00:00       Mall  Southeast  \n",
       "freq                      2                    1         44         47  "
      ]
     },
     "execution_count": 30,
     "metadata": {},
     "output_type": "execute_result"
    }
   ],
   "source": [
    "stores_data.describe()"
   ]
  },
  {
   "cell_type": "code",
   "execution_count": 24,
   "id": "9c2471f6",
   "metadata": {},
   "outputs": [
    {
     "data": {
      "text/plain": [
       "STORE_ID        0\n",
       "BRAND           0\n",
       "STORE_NAME      0\n",
       "ADDRESS1        0\n",
       "ADDRESS2      114\n",
       "CITY            0\n",
       "STATE           0\n",
       "ZIP             6\n",
       "OPENDATE        0\n",
       "CLOSEDATE     139\n",
       "STORE_TYPE      2\n",
       "REGION          0\n",
       "dtype: int64"
      ]
     },
     "execution_count": 24,
     "metadata": {},
     "output_type": "execute_result"
    }
   ],
   "source": [
    "stores_data.isna().sum()"
   ]
  },
  {
   "cell_type": "code",
   "execution_count": 25,
   "id": "4899c532",
   "metadata": {},
   "outputs": [],
   "source": [
    "# Completamos los NaN en STORE_TYPE con el valor mas frecuente\n",
    "stores_data[\"STORE_TYPE\"]= stores_data[\"STORE_TYPE\"].fillna(stores_data[\"STORE_TYPE\"].mode()[0])"
   ]
  },
  {
   "cell_type": "code",
   "execution_count": 26,
   "id": "eb170f70",
   "metadata": {},
   "outputs": [],
   "source": [
    "# Hay distintos formatos de fechas, lo unificamos\n",
    "stores_data_fixed = stores_data.copy()\n",
    "stores_data_fixed[\"OPENDATE\"] = pd.to_datetime(stores_data[\"OPENDATE\"], errors='coerce')\n",
    "mask = stores_data_fixed[stores_data_fixed[\"OPENDATE\"].isna()]\n",
    "stores_data_fixed.loc[mask.index, \"OPENDATE\"] = pd.to_datetime(stores_data.loc[mask.index, \"OPENDATE\"], errors='coerce')"
   ]
  },
  {
   "cell_type": "code",
   "execution_count": 27,
   "id": "a7da40a8",
   "metadata": {},
   "outputs": [],
   "source": [
    "# Reemplazamos los valores de CLOSDATE que son NaN o mayor que la fecha actual, por la ultima fecha más un año (indicando que todavia no cerro)\n",
    "stores_data_fixed[\"CLOSEDATE\"] = pd.to_datetime(stores_data[\"CLOSEDATE\"], format=\"mixed\")"
   ]
  },
  {
   "cell_type": "code",
   "execution_count": 28,
   "id": "8d747f80",
   "metadata": {},
   "outputs": [],
   "source": [
    "# Fecha de hoy\n",
    "fecha_hoy = pd.Timestamp(\"2024-01-01\")\n",
    "stores_data_fixed.loc[\n",
    "    (stores_data_fixed[\"CLOSEDATE\"].isna()) | \n",
    "    (stores_data_fixed[\"CLOSEDATE\"] > fecha_hoy), \n",
    "    \"CLOSEDATE\"\n",
    "] = fecha_hoy + pd.DateOffset(years=1)"
   ]
  },
  {
   "cell_type": "code",
   "execution_count": 29,
   "id": "5a105bc4",
   "metadata": {},
   "outputs": [
    {
     "data": {
      "text/plain": [
       "STORE_ID        0\n",
       "BRAND           0\n",
       "STORE_NAME      0\n",
       "ADDRESS1        0\n",
       "ADDRESS2      114\n",
       "CITY            0\n",
       "STATE           0\n",
       "ZIP             6\n",
       "OPENDATE        0\n",
       "CLOSEDATE       0\n",
       "STORE_TYPE      0\n",
       "REGION          0\n",
       "dtype: int64"
      ]
     },
     "execution_count": 29,
     "metadata": {},
     "output_type": "execute_result"
    }
   ],
   "source": [
    "# Como no utilizamos Adress, podemos dejar que haya NaN\n",
    "stores_data_fixed.isna().sum()"
   ]
  },
  {
   "cell_type": "markdown",
   "id": "02a7fa83",
   "metadata": {},
   "source": [
    "Notar que, aunque haya 157 tiendas, varias cerraron antes del 2021 y hay dos que cerraron entre 2021 y 2024 (104  21)"
   ]
  },
  {
   "cell_type": "code",
   "execution_count": 30,
   "id": "14a8d1a0",
   "metadata": {},
   "outputs": [
    {
     "data": {
      "text/html": [
       "<div>\n",
       "<style scoped>\n",
       "    .dataframe tbody tr th:only-of-type {\n",
       "        vertical-align: middle;\n",
       "    }\n",
       "\n",
       "    .dataframe tbody tr th {\n",
       "        vertical-align: top;\n",
       "    }\n",
       "\n",
       "    .dataframe thead th {\n",
       "        text-align: right;\n",
       "    }\n",
       "</style>\n",
       "<table border=\"1\" class=\"dataframe\">\n",
       "  <thead>\n",
       "    <tr style=\"text-align: right;\">\n",
       "      <th></th>\n",
       "      <th>STORE_ID</th>\n",
       "      <th>BRAND</th>\n",
       "      <th>STORE_NAME</th>\n",
       "      <th>ADDRESS1</th>\n",
       "      <th>ADDRESS2</th>\n",
       "      <th>CITY</th>\n",
       "      <th>STATE</th>\n",
       "      <th>ZIP</th>\n",
       "      <th>OPENDATE</th>\n",
       "      <th>CLOSEDATE</th>\n",
       "      <th>STORE_TYPE</th>\n",
       "      <th>REGION</th>\n",
       "    </tr>\n",
       "  </thead>\n",
       "  <tbody>\n",
       "    <tr>\n",
       "      <th>0</th>\n",
       "      <td>S00001</td>\n",
       "      <td>PrimeGoods</td>\n",
       "      <td>PrimeGoods - Hillsboro</td>\n",
       "      <td>5735 NE Washington Pl</td>\n",
       "      <td>NaN</td>\n",
       "      <td>Hillsboro</td>\n",
       "      <td>OR</td>\n",
       "      <td>74820</td>\n",
       "      <td>2015-01-10</td>\n",
       "      <td>2025-01-01</td>\n",
       "      <td>Express</td>\n",
       "      <td>West</td>\n",
       "    </tr>\n",
       "    <tr>\n",
       "      <th>1</th>\n",
       "      <td>S00002</td>\n",
       "      <td>MegaShop</td>\n",
       "      <td>MegaShop Indianapolis Eastside</td>\n",
       "      <td>3557  Cedar Ct</td>\n",
       "      <td>Unit 89</td>\n",
       "      <td>Indianapolis</td>\n",
       "      <td>IN</td>\n",
       "      <td>33483-1775</td>\n",
       "      <td>2012-03-23</td>\n",
       "      <td>2025-01-01</td>\n",
       "      <td>Express</td>\n",
       "      <td>Midwest</td>\n",
       "    </tr>\n",
       "    <tr>\n",
       "      <th>2</th>\n",
       "      <td>STORE0003</td>\n",
       "      <td>MarketExpress</td>\n",
       "      <td>MarketExpress - Las Vegas</td>\n",
       "      <td>7870 W Church Ave</td>\n",
       "      <td>NaN</td>\n",
       "      <td>Las Vegas</td>\n",
       "      <td>NV</td>\n",
       "      <td>49099</td>\n",
       "      <td>2021-09-23</td>\n",
       "      <td>2025-01-01</td>\n",
       "      <td>Outlet</td>\n",
       "      <td>West</td>\n",
       "    </tr>\n",
       "    <tr>\n",
       "      <th>3</th>\n",
       "      <td>STORE0004</td>\n",
       "      <td>MegaShop</td>\n",
       "      <td>MegaShop - Oklahoma City</td>\n",
       "      <td>3105 N Washington Pl</td>\n",
       "      <td>NaN</td>\n",
       "      <td>Oklahoma City</td>\n",
       "      <td>OK</td>\n",
       "      <td>80592</td>\n",
       "      <td>2015-06-30</td>\n",
       "      <td>2025-01-01</td>\n",
       "      <td>Mall</td>\n",
       "      <td>Southwest</td>\n",
       "    </tr>\n",
       "    <tr>\n",
       "      <th>4</th>\n",
       "      <td>S00005</td>\n",
       "      <td>PrimeGoods</td>\n",
       "      <td>PrimeGoods - Charlotte</td>\n",
       "      <td>8756 SW Maple Ln</td>\n",
       "      <td>Suite 848</td>\n",
       "      <td>Charlotte</td>\n",
       "      <td>NC</td>\n",
       "      <td>32299</td>\n",
       "      <td>2019-06-10</td>\n",
       "      <td>2025-01-01</td>\n",
       "      <td>Express</td>\n",
       "      <td>Southeast</td>\n",
       "    </tr>\n",
       "    <tr>\n",
       "      <th>...</th>\n",
       "      <td>...</td>\n",
       "      <td>...</td>\n",
       "      <td>...</td>\n",
       "      <td>...</td>\n",
       "      <td>...</td>\n",
       "      <td>...</td>\n",
       "      <td>...</td>\n",
       "      <td>...</td>\n",
       "      <td>...</td>\n",
       "      <td>...</td>\n",
       "      <td>...</td>\n",
       "      <td>...</td>\n",
       "    </tr>\n",
       "    <tr>\n",
       "      <th>152</th>\n",
       "      <td>S00153</td>\n",
       "      <td>MegaShop</td>\n",
       "      <td>MegaShop - Oklahoma City</td>\n",
       "      <td>3894  Park Pl</td>\n",
       "      <td>NaN</td>\n",
       "      <td>Oklahoma City</td>\n",
       "      <td>OK</td>\n",
       "      <td>86274</td>\n",
       "      <td>2020-04-01</td>\n",
       "      <td>2025-01-01</td>\n",
       "      <td>Boutique</td>\n",
       "      <td>Southwest</td>\n",
       "    </tr>\n",
       "    <tr>\n",
       "      <th>153</th>\n",
       "      <td>S00154</td>\n",
       "      <td>BudgetShop</td>\n",
       "      <td>BudgetShop - Newark</td>\n",
       "      <td>5992  View Rd</td>\n",
       "      <td>NaN</td>\n",
       "      <td>Newark</td>\n",
       "      <td>NJ</td>\n",
       "      <td>61756</td>\n",
       "      <td>2009-01-05</td>\n",
       "      <td>2025-01-01</td>\n",
       "      <td>Outlet</td>\n",
       "      <td>Northeast</td>\n",
       "    </tr>\n",
       "    <tr>\n",
       "      <th>154</th>\n",
       "      <td>S00155</td>\n",
       "      <td>EssentialsPlus</td>\n",
       "      <td>EssentialsPlus - Columbia</td>\n",
       "      <td>6240 N River Ave</td>\n",
       "      <td>NaN</td>\n",
       "      <td>Columbia</td>\n",
       "      <td>SC</td>\n",
       "      <td>99211-2505</td>\n",
       "      <td>2015-05-20</td>\n",
       "      <td>2025-01-01</td>\n",
       "      <td>Mall</td>\n",
       "      <td>Southeast</td>\n",
       "    </tr>\n",
       "    <tr>\n",
       "      <th>155</th>\n",
       "      <td>S00156</td>\n",
       "      <td>FamilyStore</td>\n",
       "      <td>FamilyStore - Naperville</td>\n",
       "      <td>4679  Market Dr</td>\n",
       "      <td>NaN</td>\n",
       "      <td>Naperville</td>\n",
       "      <td>IL</td>\n",
       "      <td>86674</td>\n",
       "      <td>2014-12-23</td>\n",
       "      <td>2025-01-01</td>\n",
       "      <td>Street</td>\n",
       "      <td>Midwest</td>\n",
       "    </tr>\n",
       "    <tr>\n",
       "      <th>156</th>\n",
       "      <td>S00157</td>\n",
       "      <td>PrimeGoods</td>\n",
       "      <td>PrimeGoods Allentown Downtown</td>\n",
       "      <td>1630  Hill St</td>\n",
       "      <td>NaN</td>\n",
       "      <td>Allentown</td>\n",
       "      <td>PA</td>\n",
       "      <td>14886</td>\n",
       "      <td>2007-02-15</td>\n",
       "      <td>2025-01-01</td>\n",
       "      <td>Express</td>\n",
       "      <td>Northeast</td>\n",
       "    </tr>\n",
       "  </tbody>\n",
       "</table>\n",
       "<p>157 rows × 12 columns</p>\n",
       "</div>"
      ],
      "text/plain": [
       "      STORE_ID           BRAND                      STORE_NAME  \\\n",
       "0       S00001      PrimeGoods          PrimeGoods - Hillsboro   \n",
       "1       S00002        MegaShop  MegaShop Indianapolis Eastside   \n",
       "2    STORE0003   MarketExpress       MarketExpress - Las Vegas   \n",
       "3    STORE0004        MegaShop        MegaShop - Oklahoma City   \n",
       "4       S00005      PrimeGoods          PrimeGoods - Charlotte   \n",
       "..         ...             ...                             ...   \n",
       "152     S00153        MegaShop        MegaShop - Oklahoma City   \n",
       "153     S00154      BudgetShop             BudgetShop - Newark   \n",
       "154     S00155  EssentialsPlus       EssentialsPlus - Columbia   \n",
       "155     S00156     FamilyStore        FamilyStore - Naperville   \n",
       "156     S00157      PrimeGoods   PrimeGoods Allentown Downtown   \n",
       "\n",
       "                  ADDRESS1   ADDRESS2           CITY STATE         ZIP  \\\n",
       "0    5735 NE Washington Pl        NaN      Hillsboro    OR       74820   \n",
       "1           3557  Cedar Ct    Unit 89   Indianapolis    IN  33483-1775   \n",
       "2        7870 W Church Ave        NaN      Las Vegas    NV       49099   \n",
       "3     3105 N Washington Pl        NaN  Oklahoma City    OK       80592   \n",
       "4         8756 SW Maple Ln  Suite 848      Charlotte    NC       32299   \n",
       "..                     ...        ...            ...   ...         ...   \n",
       "152          3894  Park Pl        NaN  Oklahoma City    OK       86274   \n",
       "153          5992  View Rd        NaN         Newark    NJ       61756   \n",
       "154       6240 N River Ave        NaN       Columbia    SC  99211-2505   \n",
       "155        4679  Market Dr        NaN     Naperville    IL       86674   \n",
       "156          1630  Hill St        NaN      Allentown    PA       14886   \n",
       "\n",
       "      OPENDATE  CLOSEDATE STORE_TYPE     REGION  \n",
       "0   2015-01-10 2025-01-01    Express       West  \n",
       "1   2012-03-23 2025-01-01    Express    Midwest  \n",
       "2   2021-09-23 2025-01-01     Outlet       West  \n",
       "3   2015-06-30 2025-01-01       Mall  Southwest  \n",
       "4   2019-06-10 2025-01-01    Express  Southeast  \n",
       "..         ...        ...        ...        ...  \n",
       "152 2020-04-01 2025-01-01   Boutique  Southwest  \n",
       "153 2009-01-05 2025-01-01     Outlet  Northeast  \n",
       "154 2015-05-20 2025-01-01       Mall  Southeast  \n",
       "155 2014-12-23 2025-01-01     Street    Midwest  \n",
       "156 2007-02-15 2025-01-01    Express  Northeast  \n",
       "\n",
       "[157 rows x 12 columns]"
      ]
     },
     "execution_count": 30,
     "metadata": {},
     "output_type": "execute_result"
    }
   ],
   "source": [
    "stores_data_fixed"
   ]
  },
  {
   "cell_type": "markdown",
   "id": "3de96257",
   "metadata": {},
   "source": [
    "## Merge de datos"
   ]
  },
  {
   "cell_type": "code",
   "execution_count": 31,
   "id": "e9d6d32c",
   "metadata": {},
   "outputs": [],
   "source": [
    "stores = pd.merge(stores_data_fixed, stores_clusters_data, on=\"STORE_ID\", how=\"left\")"
   ]
  },
  {
   "cell_type": "code",
   "execution_count": 32,
   "id": "a5fbfb62",
   "metadata": {},
   "outputs": [],
   "source": [
    "datos_unidos = pd.merge(transactions_data, stores, on=\"STORE_ID\", how=\"left\")"
   ]
  },
  {
   "cell_type": "code",
   "execution_count": 33,
   "id": "c48df12f",
   "metadata": {},
   "outputs": [],
   "source": [
    "del transactions_data"
   ]
  },
  {
   "cell_type": "code",
   "execution_count": 34,
   "id": "c6a90938",
   "metadata": {},
   "outputs": [],
   "source": [
    "datos_unidos = pd.merge(datos_unidos, productos, on=\"SKU\", how=\"left\")"
   ]
  },
  {
   "cell_type": "code",
   "execution_count": 35,
   "id": "ba30ca4e",
   "metadata": {},
   "outputs": [
    {
     "data": {
      "text/plain": [
       "Index(['TRANSACTION_ID', 'DATE', 'STORE_ID', 'SKU', 'QUANTITY', 'PRICE',\n",
       "       'TOTAL_SALES', 'SUBGROUP', 'STORE_SUBGROUP_DATE_ID', 'BRAND_x',\n",
       "       'STORE_NAME_x', 'ADDRESS1', 'ADDRESS2', 'CITY', 'STATE', 'ZIP',\n",
       "       'OPENDATE', 'CLOSEDATE', 'STORE_TYPE', 'REGION', 'BRAND_y',\n",
       "       'STORE_NAME_y', 'CLUSTER', 'product_name_x', 'category', 'group',\n",
       "       'subgroup', 'brand', 'base_price', 'initial_ticket_price', 'costos',\n",
       "       'product_name_y', 'price_group_id', 'price_group_name', 'group_type'],\n",
       "      dtype='object')"
      ]
     },
     "execution_count": 35,
     "metadata": {},
     "output_type": "execute_result"
    }
   ],
   "source": [
    "datos_unidos.columns"
   ]
  },
  {
   "cell_type": "code",
   "execution_count": 39,
   "id": "f53fed83",
   "metadata": {},
   "outputs": [],
   "source": [
    "# Renombramos las columnas\n",
    "datos_unidos.rename(columns={\"price_group_id\": \"PRICE_GROUP_ID\", \"BRAND_x\": \"BRAND\",\n",
    "                             \"category\":\"CATEGORY\", \"group\":\"GROUP\", \"base_price\": \"BASE_PRICE\", \n",
    "                             \"initial_ticket_price\": \"INITIAL_TICKET_PRICE\", \"costos\": \"COSTOS\",\n",
    "                             \"group_type\": \"GROUP_TYPE\"}, inplace=True)"
   ]
  },
  {
   "cell_type": "code",
   "execution_count": 40,
   "id": "db912d97",
   "metadata": {},
   "outputs": [],
   "source": [
    "# Nos quedamos con las columnas que nos interesan\n",
    "datos_unidos = datos_unidos[[\"DATE\",  \"SKU\", \"QUANTITY\", \"PRICE\", \"TOTAL_SALES\",\n",
    "    \"REGION\", \"CITY\", \"STATE\", \"STORE_TYPE\", \"STORE_ID\", \"OPENDATE\", \"CLOSEDATE\", \"STORE_SUBGROUP_DATE_ID\",\n",
    "    \"CATEGORY\", \"GROUP\", \"SUBGROUP\",\"GROUP_TYPE\", \"PRICE_GROUP_ID\", \"BRAND\", \"INITIAL_TICKET_PRICE\", \"BASE_PRICE\", \"COSTOS\" ]]"
   ]
  },
  {
   "cell_type": "code",
   "execution_count": 41,
   "id": "514f980f",
   "metadata": {},
   "outputs": [
    {
     "data": {
      "text/plain": [
       "19159425"
      ]
     },
     "execution_count": 41,
     "metadata": {},
     "output_type": "execute_result"
    }
   ],
   "source": [
    "len(datos_unidos)"
   ]
  },
  {
   "cell_type": "code",
   "execution_count": 42,
   "id": "fded51a1",
   "metadata": {},
   "outputs": [
    {
     "data": {
      "text/plain": [
       "DATE                      0\n",
       "SKU                       0\n",
       "QUANTITY                  0\n",
       "PRICE                     0\n",
       "TOTAL_SALES               0\n",
       "REGION                    0\n",
       "CITY                      0\n",
       "STATE                     0\n",
       "STORE_TYPE                0\n",
       "STORE_ID                  0\n",
       "OPENDATE                  0\n",
       "CLOSEDATE                 0\n",
       "STORE_SUBGROUP_DATE_ID    0\n",
       "CATEGORY                  0\n",
       "GROUP                     0\n",
       "SUBGROUP                  0\n",
       "GROUP_TYPE                0\n",
       "PRICE_GROUP_ID            0\n",
       "BRAND                     0\n",
       "INITIAL_TICKET_PRICE      0\n",
       "BASE_PRICE                0\n",
       "COSTOS                    0\n",
       "dtype: int64"
      ]
     },
     "execution_count": 42,
     "metadata": {},
     "output_type": "execute_result"
    }
   ],
   "source": [
    "# No aseguramos que no haya valores NaN\n",
    "datos_unidos.isna().sum()"
   ]
  },
  {
   "cell_type": "markdown",
   "id": "3c5c595a",
   "metadata": {},
   "source": [
    "## Feature Engineering"
   ]
  },
  {
   "cell_type": "code",
   "execution_count": 48,
   "id": "d82c1e14",
   "metadata": {},
   "outputs": [
    {
     "data": {
      "text/html": [
       "<div>\n",
       "<style scoped>\n",
       "    .dataframe tbody tr th:only-of-type {\n",
       "        vertical-align: middle;\n",
       "    }\n",
       "\n",
       "    .dataframe tbody tr th {\n",
       "        vertical-align: top;\n",
       "    }\n",
       "\n",
       "    .dataframe thead th {\n",
       "        text-align: right;\n",
       "    }\n",
       "</style>\n",
       "<table border=\"1\" class=\"dataframe\">\n",
       "  <thead>\n",
       "    <tr style=\"text-align: right;\">\n",
       "      <th></th>\n",
       "      <th>DATE</th>\n",
       "      <th>SKU</th>\n",
       "      <th>QUANTITY</th>\n",
       "      <th>PRICE</th>\n",
       "      <th>TOTAL_SALES</th>\n",
       "      <th>REGION</th>\n",
       "      <th>CITY</th>\n",
       "      <th>STATE</th>\n",
       "      <th>STORE_TYPE</th>\n",
       "      <th>STORE_ID</th>\n",
       "      <th>...</th>\n",
       "      <th>STORE_SUBGROUP_DATE_ID</th>\n",
       "      <th>CATEGORY</th>\n",
       "      <th>GROUP</th>\n",
       "      <th>SUBGROUP</th>\n",
       "      <th>GROUP_TYPE</th>\n",
       "      <th>PRICE_GROUP_ID</th>\n",
       "      <th>BRAND</th>\n",
       "      <th>INITIAL_TICKET_PRICE</th>\n",
       "      <th>BASE_PRICE</th>\n",
       "      <th>COSTOS</th>\n",
       "    </tr>\n",
       "  </thead>\n",
       "  <tbody>\n",
       "    <tr>\n",
       "      <th>0</th>\n",
       "      <td>2021-01-01</td>\n",
       "      <td>CLOMEJA001</td>\n",
       "      <td>1.0</td>\n",
       "      <td>52.80</td>\n",
       "      <td>52.80</td>\n",
       "      <td>Midwest</td>\n",
       "      <td>Akron</td>\n",
       "      <td>OH</td>\n",
       "      <td>Flagship</td>\n",
       "      <td>S00148</td>\n",
       "      <td>...</td>\n",
       "      <td>S00148_Jackets_2021-01-01</td>\n",
       "      <td>Clothing</td>\n",
       "      <td>Men</td>\n",
       "      <td>Jackets</td>\n",
       "      <td>Comun</td>\n",
       "      <td>Comun</td>\n",
       "      <td>BudgetShop</td>\n",
       "      <td>67.45</td>\n",
       "      <td>59.21</td>\n",
       "      <td>34.69</td>\n",
       "    </tr>\n",
       "    <tr>\n",
       "      <th>7</th>\n",
       "      <td>2021-01-01</td>\n",
       "      <td>GROPABA010</td>\n",
       "      <td>1.0</td>\n",
       "      <td>9.16</td>\n",
       "      <td>9.16</td>\n",
       "      <td>West</td>\n",
       "      <td>Hillsboro</td>\n",
       "      <td>OR</td>\n",
       "      <td>Mall</td>\n",
       "      <td>S00144</td>\n",
       "      <td>...</td>\n",
       "      <td>S00144_Baking_2021-01-01</td>\n",
       "      <td>Groceries</td>\n",
       "      <td>Pantry</td>\n",
       "      <td>Baking</td>\n",
       "      <td>Comun</td>\n",
       "      <td>Comun</td>\n",
       "      <td>QuickBuy</td>\n",
       "      <td>11.97</td>\n",
       "      <td>9.63</td>\n",
       "      <td>8.06</td>\n",
       "    </tr>\n",
       "    <tr>\n",
       "      <th>1</th>\n",
       "      <td>2021-01-01</td>\n",
       "      <td>CLOCHIN014</td>\n",
       "      <td>1.0</td>\n",
       "      <td>55.25</td>\n",
       "      <td>55.25</td>\n",
       "      <td>Southeast</td>\n",
       "      <td>Tampa</td>\n",
       "      <td>FL</td>\n",
       "      <td>Outlet</td>\n",
       "      <td>S00035</td>\n",
       "      <td>...</td>\n",
       "      <td>S00035_Infants_2021-01-01</td>\n",
       "      <td>Clothing</td>\n",
       "      <td>Children</td>\n",
       "      <td>Infants</td>\n",
       "      <td>Comun</td>\n",
       "      <td>Comun</td>\n",
       "      <td>BudgetShop</td>\n",
       "      <td>65.54</td>\n",
       "      <td>51.39</td>\n",
       "      <td>29.00</td>\n",
       "    </tr>\n",
       "    <tr>\n",
       "      <th>2</th>\n",
       "      <td>2021-01-01</td>\n",
       "      <td>BEAHASH005</td>\n",
       "      <td>1.0</td>\n",
       "      <td>40.19</td>\n",
       "      <td>40.19</td>\n",
       "      <td>Midwest</td>\n",
       "      <td>Cleveland</td>\n",
       "      <td>OH</td>\n",
       "      <td>Street</td>\n",
       "      <td>S00020</td>\n",
       "      <td>...</td>\n",
       "      <td>S00020_Shampoo_2021-01-01</td>\n",
       "      <td>Beauty</td>\n",
       "      <td>Haircare</td>\n",
       "      <td>Shampoo</td>\n",
       "      <td>Comun</td>\n",
       "      <td>Comun</td>\n",
       "      <td>FamilyStore</td>\n",
       "      <td>48.18</td>\n",
       "      <td>40.85</td>\n",
       "      <td>14.75</td>\n",
       "    </tr>\n",
       "    <tr>\n",
       "      <th>3</th>\n",
       "      <td>2021-01-01</td>\n",
       "      <td>TOYGABO004</td>\n",
       "      <td>1.0</td>\n",
       "      <td>35.41</td>\n",
       "      <td>35.41</td>\n",
       "      <td>West</td>\n",
       "      <td>Lakewood</td>\n",
       "      <td>CO</td>\n",
       "      <td>Express</td>\n",
       "      <td>S00068</td>\n",
       "      <td>...</td>\n",
       "      <td>S00068_Board Games_2021-01-01</td>\n",
       "      <td>Toys</td>\n",
       "      <td>Games</td>\n",
       "      <td>Board Games</td>\n",
       "      <td>Comun</td>\n",
       "      <td>Comun</td>\n",
       "      <td>MarketExpress</td>\n",
       "      <td>37.99</td>\n",
       "      <td>34.15</td>\n",
       "      <td>19.76</td>\n",
       "    </tr>\n",
       "    <tr>\n",
       "      <th>...</th>\n",
       "      <td>...</td>\n",
       "      <td>...</td>\n",
       "      <td>...</td>\n",
       "      <td>...</td>\n",
       "      <td>...</td>\n",
       "      <td>...</td>\n",
       "      <td>...</td>\n",
       "      <td>...</td>\n",
       "      <td>...</td>\n",
       "      <td>...</td>\n",
       "      <td>...</td>\n",
       "      <td>...</td>\n",
       "      <td>...</td>\n",
       "      <td>...</td>\n",
       "      <td>...</td>\n",
       "      <td>...</td>\n",
       "      <td>...</td>\n",
       "      <td>...</td>\n",
       "      <td>...</td>\n",
       "      <td>...</td>\n",
       "      <td>...</td>\n",
       "    </tr>\n",
       "    <tr>\n",
       "      <th>19159395</th>\n",
       "      <td>2023-12-31</td>\n",
       "      <td>GROPAPA013</td>\n",
       "      <td>1.0</td>\n",
       "      <td>8.68</td>\n",
       "      <td>8.68</td>\n",
       "      <td>West</td>\n",
       "      <td>North Las Vegas</td>\n",
       "      <td>NV</td>\n",
       "      <td>Flagship</td>\n",
       "      <td>S00145</td>\n",
       "      <td>...</td>\n",
       "      <td>S00145_Pasta_2023-12-31</td>\n",
       "      <td>Groceries</td>\n",
       "      <td>Pantry</td>\n",
       "      <td>Pasta</td>\n",
       "      <td>Comun</td>\n",
       "      <td>Comun</td>\n",
       "      <td>PrimeGoods</td>\n",
       "      <td>10.46</td>\n",
       "      <td>8.31</td>\n",
       "      <td>6.11</td>\n",
       "    </tr>\n",
       "    <tr>\n",
       "      <th>19159394</th>\n",
       "      <td>2023-12-31</td>\n",
       "      <td>GROSNCH011</td>\n",
       "      <td>1.0</td>\n",
       "      <td>9.28</td>\n",
       "      <td>9.28</td>\n",
       "      <td>West</td>\n",
       "      <td>Salem</td>\n",
       "      <td>OR</td>\n",
       "      <td>Mall</td>\n",
       "      <td>S00040</td>\n",
       "      <td>...</td>\n",
       "      <td>S00040_Chips_2023-12-31</td>\n",
       "      <td>Groceries</td>\n",
       "      <td>Snacks</td>\n",
       "      <td>Chips</td>\n",
       "      <td>Comun</td>\n",
       "      <td>Comun</td>\n",
       "      <td>EssentialsPlus</td>\n",
       "      <td>12.48</td>\n",
       "      <td>10.01</td>\n",
       "      <td>8.27</td>\n",
       "    </tr>\n",
       "    <tr>\n",
       "      <th>19159393</th>\n",
       "      <td>2023-12-31</td>\n",
       "      <td>GROPACA015</td>\n",
       "      <td>1.0</td>\n",
       "      <td>11.28</td>\n",
       "      <td>11.28</td>\n",
       "      <td>Southwest</td>\n",
       "      <td>Phoenix</td>\n",
       "      <td>AZ</td>\n",
       "      <td>Street</td>\n",
       "      <td>S00055</td>\n",
       "      <td>...</td>\n",
       "      <td>S00055_Canned Goods_2023-12-31</td>\n",
       "      <td>Groceries</td>\n",
       "      <td>Pantry</td>\n",
       "      <td>Canned Goods</td>\n",
       "      <td>Comun</td>\n",
       "      <td>Comun</td>\n",
       "      <td>BudgetShop</td>\n",
       "      <td>14.21</td>\n",
       "      <td>11.87</td>\n",
       "      <td>8.90</td>\n",
       "    </tr>\n",
       "    <tr>\n",
       "      <th>19159412</th>\n",
       "      <td>2023-12-31</td>\n",
       "      <td>HOMAPSP005</td>\n",
       "      <td>1.0</td>\n",
       "      <td>87.16</td>\n",
       "      <td>87.16</td>\n",
       "      <td>Midwest</td>\n",
       "      <td>Carmel</td>\n",
       "      <td>IN</td>\n",
       "      <td>Outlet</td>\n",
       "      <td>000053</td>\n",
       "      <td>...</td>\n",
       "      <td>000053_Specialty_2023-12-31</td>\n",
       "      <td>Home &amp; Kitchen</td>\n",
       "      <td>Appliances</td>\n",
       "      <td>Specialty</td>\n",
       "      <td>Comun</td>\n",
       "      <td>Comun</td>\n",
       "      <td>MegaShop</td>\n",
       "      <td>112.07</td>\n",
       "      <td>94.74</td>\n",
       "      <td>50.19</td>\n",
       "    </tr>\n",
       "    <tr>\n",
       "      <th>19159424</th>\n",
       "      <td>2023-12-31</td>\n",
       "      <td>CLOCHGI006</td>\n",
       "      <td>1.0</td>\n",
       "      <td>43.36</td>\n",
       "      <td>43.36</td>\n",
       "      <td>Midwest</td>\n",
       "      <td>Indianapolis</td>\n",
       "      <td>IN</td>\n",
       "      <td>Express</td>\n",
       "      <td>S00002</td>\n",
       "      <td>...</td>\n",
       "      <td>S00002_Girls_2023-12-31</td>\n",
       "      <td>Clothing</td>\n",
       "      <td>Children</td>\n",
       "      <td>Girls</td>\n",
       "      <td>Comun</td>\n",
       "      <td>Comun</td>\n",
       "      <td>MegaShop</td>\n",
       "      <td>56.45</td>\n",
       "      <td>45.08</td>\n",
       "      <td>24.90</td>\n",
       "    </tr>\n",
       "  </tbody>\n",
       "</table>\n",
       "<p>19159425 rows × 22 columns</p>\n",
       "</div>"
      ],
      "text/plain": [
       "               DATE         SKU  QUANTITY  PRICE  TOTAL_SALES     REGION  \\\n",
       "0        2021-01-01  CLOMEJA001       1.0  52.80        52.80    Midwest   \n",
       "7        2021-01-01  GROPABA010       1.0   9.16         9.16       West   \n",
       "1        2021-01-01  CLOCHIN014       1.0  55.25        55.25  Southeast   \n",
       "2        2021-01-01  BEAHASH005       1.0  40.19        40.19    Midwest   \n",
       "3        2021-01-01  TOYGABO004       1.0  35.41        35.41       West   \n",
       "...             ...         ...       ...    ...          ...        ...   \n",
       "19159395 2023-12-31  GROPAPA013       1.0   8.68         8.68       West   \n",
       "19159394 2023-12-31  GROSNCH011       1.0   9.28         9.28       West   \n",
       "19159393 2023-12-31  GROPACA015       1.0  11.28        11.28  Southwest   \n",
       "19159412 2023-12-31  HOMAPSP005       1.0  87.16        87.16    Midwest   \n",
       "19159424 2023-12-31  CLOCHGI006       1.0  43.36        43.36    Midwest   \n",
       "\n",
       "                     CITY STATE STORE_TYPE STORE_ID  ...  \\\n",
       "0                   Akron    OH   Flagship   S00148  ...   \n",
       "7               Hillsboro    OR       Mall   S00144  ...   \n",
       "1                   Tampa    FL     Outlet   S00035  ...   \n",
       "2               Cleveland    OH     Street   S00020  ...   \n",
       "3                Lakewood    CO    Express   S00068  ...   \n",
       "...                   ...   ...        ...      ...  ...   \n",
       "19159395  North Las Vegas    NV   Flagship   S00145  ...   \n",
       "19159394            Salem    OR       Mall   S00040  ...   \n",
       "19159393          Phoenix    AZ     Street   S00055  ...   \n",
       "19159412           Carmel    IN     Outlet   000053  ...   \n",
       "19159424     Indianapolis    IN    Express   S00002  ...   \n",
       "\n",
       "                  STORE_SUBGROUP_DATE_ID        CATEGORY       GROUP  \\\n",
       "0              S00148_Jackets_2021-01-01        Clothing         Men   \n",
       "7               S00144_Baking_2021-01-01       Groceries      Pantry   \n",
       "1              S00035_Infants_2021-01-01        Clothing    Children   \n",
       "2              S00020_Shampoo_2021-01-01          Beauty    Haircare   \n",
       "3          S00068_Board Games_2021-01-01            Toys       Games   \n",
       "...                                  ...             ...         ...   \n",
       "19159395         S00145_Pasta_2023-12-31       Groceries      Pantry   \n",
       "19159394         S00040_Chips_2023-12-31       Groceries      Snacks   \n",
       "19159393  S00055_Canned Goods_2023-12-31       Groceries      Pantry   \n",
       "19159412     000053_Specialty_2023-12-31  Home & Kitchen  Appliances   \n",
       "19159424         S00002_Girls_2023-12-31        Clothing    Children   \n",
       "\n",
       "              SUBGROUP GROUP_TYPE PRICE_GROUP_ID           BRAND  \\\n",
       "0              Jackets      Comun          Comun      BudgetShop   \n",
       "7               Baking      Comun          Comun        QuickBuy   \n",
       "1              Infants      Comun          Comun      BudgetShop   \n",
       "2              Shampoo      Comun          Comun     FamilyStore   \n",
       "3          Board Games      Comun          Comun   MarketExpress   \n",
       "...                ...        ...            ...             ...   \n",
       "19159395         Pasta      Comun          Comun      PrimeGoods   \n",
       "19159394         Chips      Comun          Comun  EssentialsPlus   \n",
       "19159393  Canned Goods      Comun          Comun      BudgetShop   \n",
       "19159412     Specialty      Comun          Comun        MegaShop   \n",
       "19159424         Girls      Comun          Comun        MegaShop   \n",
       "\n",
       "         INITIAL_TICKET_PRICE BASE_PRICE  COSTOS  \n",
       "0                       67.45      59.21   34.69  \n",
       "7                       11.97       9.63    8.06  \n",
       "1                       65.54      51.39   29.00  \n",
       "2                       48.18      40.85   14.75  \n",
       "3                       37.99      34.15   19.76  \n",
       "...                       ...        ...     ...  \n",
       "19159395                10.46       8.31    6.11  \n",
       "19159394                12.48      10.01    8.27  \n",
       "19159393                14.21      11.87    8.90  \n",
       "19159412               112.07      94.74   50.19  \n",
       "19159424                56.45      45.08   24.90  \n",
       "\n",
       "[19159425 rows x 22 columns]"
      ]
     },
     "execution_count": 48,
     "metadata": {},
     "output_type": "execute_result"
    }
   ],
   "source": [
    "# Nos aseguramos que este ordenado por fecha\n",
    "datos_unidos = datos_unidos.copy()\n",
    "datos_unidos.sort_values(by=\"DATE\")"
   ]
  },
  {
   "cell_type": "code",
   "execution_count": 49,
   "id": "5e0bf95c",
   "metadata": {},
   "outputs": [],
   "source": [
    "datos_unidos[\"OPENDATE\"] = pd.to_datetime(datos_unidos[\"OPENDATE\"])\n",
    "datos_unidos[\"CLOSEDATE\"] = pd.to_datetime(datos_unidos[\"CLOSEDATE\"])"
   ]
  },
  {
   "cell_type": "code",
   "execution_count": 50,
   "id": "bac56dd8",
   "metadata": {},
   "outputs": [],
   "source": [
    "datos_unidos[\"YEAR_OPEN\"] = datos_unidos[\"OPENDATE\"].dt.year\n",
    "datos_unidos[\"YEAR_CLOSE\"] = datos_unidos[\"CLOSEDATE\"].dt.year\n",
    "datos_unidos[\"MONTH_OPEN\"] = datos_unidos[\"OPENDATE\"].dt.month\n",
    "datos_unidos[\"MONTH_CLOSE\"] = datos_unidos[\"CLOSEDATE\"].dt.month"
   ]
  },
  {
   "cell_type": "code",
   "execution_count": 51,
   "id": "f9d3d7de",
   "metadata": {},
   "outputs": [],
   "source": [
    "datos_unidos[\"YEAR\"] = datos_unidos[\"DATE\"].dt.year\n",
    "datos_unidos[\"MONTH\"] = datos_unidos[\"DATE\"].dt.month\n",
    "datos_unidos[\"DAY\"] = datos_unidos[\"DATE\"].dt.day\n",
    "datos_unidos[\"DAY_OF_WEEK\"] = datos_unidos[\"DATE\"].dt.day_name()\n",
    "datos_unidos[\"WEEK\"] = datos_unidos[\"DATE\"].dt.isocalendar().week"
   ]
  },
  {
   "cell_type": "code",
   "execution_count": 52,
   "id": "dea4b506",
   "metadata": {},
   "outputs": [
    {
     "data": {
      "text/plain": [
       "np.int64(18451229)"
      ]
     },
     "execution_count": 52,
     "metadata": {},
     "output_type": "execute_result"
    }
   ],
   "source": [
    "# La mayoria de datos son transacciones repetidas\n",
    "datos_unidos.duplicated(subset=[\"SKU\", \"DATE\", \"STORE_ID\"], keep=False).sum()"
   ]
  },
  {
   "cell_type": "code",
   "execution_count": 53,
   "id": "e6cb54a9",
   "metadata": {},
   "outputs": [],
   "source": [
    "# Las agregamos para que tengamos una sola fila por SKU, DATE y STORE_ID, promediando el precio y sumando la cantidad y las ventas totales\n",
    "otras_cols = [c for c in datos_unidos.columns if c not in ['SKU', 'DATE', 'STORE_ID'] + ['PRICE', 'QUANTITY', \"TOTAL_SALES\"]]\n",
    "\n",
    "agg_dict = {'PRICE': 'mean', 'QUANTITY': 'sum', \"TOTAL_SALES\": 'sum'}\n",
    "agg_dict.update({col: 'first' for col in otras_cols})\n",
    "\n",
    "datos_unidos = datos_unidos.groupby(['SKU', 'DATE', 'STORE_ID'], as_index=False).agg(agg_dict)"
   ]
  },
  {
   "cell_type": "code",
   "execution_count": 54,
   "id": "b60a5d9a",
   "metadata": {},
   "outputs": [
    {
     "data": {
      "text/plain": [
       "6859693"
      ]
     },
     "execution_count": 54,
     "metadata": {},
     "output_type": "execute_result"
    }
   ],
   "source": [
    "len(datos_unidos)"
   ]
  },
  {
   "cell_type": "markdown",
   "id": "dee1c612",
   "metadata": {},
   "source": [
    "Ahorramos memoria cambiando el tipo de datos"
   ]
  },
  {
   "cell_type": "code",
   "execution_count": 55,
   "id": "20667c9b",
   "metadata": {},
   "outputs": [],
   "source": [
    "cols_category= [\"SKU\", \"REGION\", \"CITY\", \"STATE\", \"STORE_TYPE\", \"STORE_ID\", \"STORE_SUBGROUP_DATE_ID\",\n",
    "    \"CATEGORY\", \"GROUP\", \"SUBGROUP\",\"GROUP_TYPE\", \"PRICE_GROUP_ID\", \"BRAND\", \"DAY_OF_WEEK\"]\n",
    "for col in cols_category:\n",
    "    datos_unidos[col] = datos_unidos[col].astype(\"category\")"
   ]
  },
  {
   "cell_type": "code",
   "execution_count": 56,
   "id": "bbd9afe0",
   "metadata": {},
   "outputs": [],
   "source": [
    "for col in [\"PRICE\", \"TOTAL_SALES\", \"INITIAL_TICKET_PRICE\", \"BASE_PRICE\", \"COSTOS\" ]:\n",
    "    datos_unidos[col] = datos_unidos[col].astype(\"float32\")"
   ]
  },
  {
   "cell_type": "code",
   "execution_count": 57,
   "id": "27b94fc8",
   "metadata": {},
   "outputs": [],
   "source": [
    "for col in [\"QUANTITY\", \"DAY\", \"WEEK\", \"MONTH\", \"YEAR\", \"YEAR_OPEN\", \"YEAR_CLOSE\", \"MONTH_OPEN\", \"MONTH_CLOSE\"]:\n",
    "    datos_unidos[col] = datos_unidos[col].astype(\"int16\")"
   ]
  },
  {
   "cell_type": "code",
   "execution_count": 58,
   "id": "cf47dbc7",
   "metadata": {},
   "outputs": [
    {
     "data": {
      "text/plain": [
       "np.float64(1.0472219986841083)"
      ]
     },
     "execution_count": 58,
     "metadata": {},
     "output_type": "execute_result"
    }
   ],
   "source": [
    "# Memoria utilizada (GB)\n",
    "datos_unidos.memory_usage(deep=True).sum() / (1024**3)"
   ]
  },
  {
   "cell_type": "markdown",
   "id": "5ba7037b",
   "metadata": {},
   "source": [
    "## Outliers"
   ]
  },
  {
   "cell_type": "code",
   "execution_count": 59,
   "id": "568c571c",
   "metadata": {},
   "outputs": [
    {
     "data": {
      "text/html": [
       "<div>\n",
       "<style scoped>\n",
       "    .dataframe tbody tr th:only-of-type {\n",
       "        vertical-align: middle;\n",
       "    }\n",
       "\n",
       "    .dataframe tbody tr th {\n",
       "        vertical-align: top;\n",
       "    }\n",
       "\n",
       "    .dataframe thead th {\n",
       "        text-align: right;\n",
       "    }\n",
       "</style>\n",
       "<table border=\"1\" class=\"dataframe\">\n",
       "  <thead>\n",
       "    <tr style=\"text-align: right;\">\n",
       "      <th></th>\n",
       "      <th>DATE</th>\n",
       "      <th>PRICE</th>\n",
       "      <th>QUANTITY</th>\n",
       "      <th>TOTAL_SALES</th>\n",
       "      <th>OPENDATE</th>\n",
       "      <th>CLOSEDATE</th>\n",
       "      <th>INITIAL_TICKET_PRICE</th>\n",
       "      <th>BASE_PRICE</th>\n",
       "      <th>COSTOS</th>\n",
       "      <th>YEAR_OPEN</th>\n",
       "      <th>YEAR_CLOSE</th>\n",
       "      <th>MONTH_OPEN</th>\n",
       "      <th>MONTH_CLOSE</th>\n",
       "      <th>YEAR</th>\n",
       "      <th>MONTH</th>\n",
       "      <th>DAY</th>\n",
       "      <th>WEEK</th>\n",
       "    </tr>\n",
       "  </thead>\n",
       "  <tbody>\n",
       "    <tr>\n",
       "      <th>count</th>\n",
       "      <td>6859693</td>\n",
       "      <td>6859693.00</td>\n",
       "      <td>6859693.00</td>\n",
       "      <td>6859693.00</td>\n",
       "      <td>6859693</td>\n",
       "      <td>6859693</td>\n",
       "      <td>6859693.00</td>\n",
       "      <td>6859693.00</td>\n",
       "      <td>6859693.00</td>\n",
       "      <td>6859693.00</td>\n",
       "      <td>6859693.00</td>\n",
       "      <td>6859693.00</td>\n",
       "      <td>6859693.00</td>\n",
       "      <td>6859693.00</td>\n",
       "      <td>6859693.00</td>\n",
       "      <td>6859693.00</td>\n",
       "      <td>6859693.00</td>\n",
       "    </tr>\n",
       "    <tr>\n",
       "      <th>mean</th>\n",
       "      <td>2022-07-01 15:24:47.001414656</td>\n",
       "      <td>69.69</td>\n",
       "      <td>4.00</td>\n",
       "      <td>272.53</td>\n",
       "      <td>2015-08-13 14:25:29.189950976</td>\n",
       "      <td>2024-12-26 08:00:01.998457600</td>\n",
       "      <td>84.78</td>\n",
       "      <td>70.71</td>\n",
       "      <td>44.50</td>\n",
       "      <td>2015.08</td>\n",
       "      <td>2024.97</td>\n",
       "      <td>6.87</td>\n",
       "      <td>1.13</td>\n",
       "      <td>2022.00</td>\n",
       "      <td>6.55</td>\n",
       "      <td>15.72</td>\n",
       "      <td>26.66</td>\n",
       "    </tr>\n",
       "    <tr>\n",
       "      <th>min</th>\n",
       "      <td>2021-01-01 00:00:00</td>\n",
       "      <td>4.02</td>\n",
       "      <td>1.00</td>\n",
       "      <td>4.75</td>\n",
       "      <td>2001-08-29 00:00:00</td>\n",
       "      <td>2023-10-29 00:00:00</td>\n",
       "      <td>8.88</td>\n",
       "      <td>8.02</td>\n",
       "      <td>5.76</td>\n",
       "      <td>2001.00</td>\n",
       "      <td>2023.00</td>\n",
       "      <td>1.00</td>\n",
       "      <td>1.00</td>\n",
       "      <td>2021.00</td>\n",
       "      <td>1.00</td>\n",
       "      <td>1.00</td>\n",
       "      <td>1.00</td>\n",
       "    </tr>\n",
       "    <tr>\n",
       "      <th>25%</th>\n",
       "      <td>2021-10-01 00:00:00</td>\n",
       "      <td>23.29</td>\n",
       "      <td>2.00</td>\n",
       "      <td>60.37</td>\n",
       "      <td>2012-05-29 00:00:00</td>\n",
       "      <td>2025-01-01 00:00:00</td>\n",
       "      <td>28.49</td>\n",
       "      <td>24.06</td>\n",
       "      <td>11.21</td>\n",
       "      <td>2012.00</td>\n",
       "      <td>2025.00</td>\n",
       "      <td>4.00</td>\n",
       "      <td>1.00</td>\n",
       "      <td>2021.00</td>\n",
       "      <td>4.00</td>\n",
       "      <td>8.00</td>\n",
       "      <td>14.00</td>\n",
       "    </tr>\n",
       "    <tr>\n",
       "      <th>50%</th>\n",
       "      <td>2022-07-02 00:00:00</td>\n",
       "      <td>41.82</td>\n",
       "      <td>4.00</td>\n",
       "      <td>137.41</td>\n",
       "      <td>2016-02-26 00:00:00</td>\n",
       "      <td>2025-01-01 00:00:00</td>\n",
       "      <td>50.29</td>\n",
       "      <td>42.63</td>\n",
       "      <td>19.76</td>\n",
       "      <td>2016.00</td>\n",
       "      <td>2025.00</td>\n",
       "      <td>7.00</td>\n",
       "      <td>1.00</td>\n",
       "      <td>2022.00</td>\n",
       "      <td>7.00</td>\n",
       "      <td>16.00</td>\n",
       "      <td>27.00</td>\n",
       "    </tr>\n",
       "    <tr>\n",
       "      <th>75%</th>\n",
       "      <td>2023-04-01 00:00:00</td>\n",
       "      <td>74.78</td>\n",
       "      <td>5.00</td>\n",
       "      <td>284.20</td>\n",
       "      <td>2019-10-14 00:00:00</td>\n",
       "      <td>2025-01-01 00:00:00</td>\n",
       "      <td>92.68</td>\n",
       "      <td>77.56</td>\n",
       "      <td>45.22</td>\n",
       "      <td>2019.00</td>\n",
       "      <td>2025.00</td>\n",
       "      <td>10.00</td>\n",
       "      <td>1.00</td>\n",
       "      <td>2023.00</td>\n",
       "      <td>10.00</td>\n",
       "      <td>23.00</td>\n",
       "      <td>40.00</td>\n",
       "    </tr>\n",
       "    <tr>\n",
       "      <th>max</th>\n",
       "      <td>2023-12-31 00:00:00</td>\n",
       "      <td>431.87</td>\n",
       "      <td>108.00</td>\n",
       "      <td>13211.92</td>\n",
       "      <td>2023-10-14 00:00:00</td>\n",
       "      <td>2025-01-01 00:00:00</td>\n",
       "      <td>452.69</td>\n",
       "      <td>358.79</td>\n",
       "      <td>281.26</td>\n",
       "      <td>2023.00</td>\n",
       "      <td>2025.00</td>\n",
       "      <td>12.00</td>\n",
       "      <td>11.00</td>\n",
       "      <td>2023.00</td>\n",
       "      <td>12.00</td>\n",
       "      <td>31.00</td>\n",
       "      <td>53.00</td>\n",
       "    </tr>\n",
       "    <tr>\n",
       "      <th>std</th>\n",
       "      <td>NaN</td>\n",
       "      <td>85.01</td>\n",
       "      <td>2.51</td>\n",
       "      <td>410.86</td>\n",
       "      <td>NaN</td>\n",
       "      <td>NaN</td>\n",
       "      <td>102.98</td>\n",
       "      <td>85.73</td>\n",
       "      <td>63.88</td>\n",
       "      <td>4.86</td>\n",
       "      <td>0.23</td>\n",
       "      <td>3.37</td>\n",
       "      <td>1.09</td>\n",
       "      <td>0.82</td>\n",
       "      <td>3.45</td>\n",
       "      <td>8.80</td>\n",
       "      <td>15.05</td>\n",
       "    </tr>\n",
       "  </tbody>\n",
       "</table>\n",
       "</div>"
      ],
      "text/plain": [
       "                                DATE       PRICE    QUANTITY  TOTAL_SALES  \\\n",
       "count                        6859693  6859693.00  6859693.00   6859693.00   \n",
       "mean   2022-07-01 15:24:47.001414656       69.69        4.00       272.53   \n",
       "min              2021-01-01 00:00:00        4.02        1.00         4.75   \n",
       "25%              2021-10-01 00:00:00       23.29        2.00        60.37   \n",
       "50%              2022-07-02 00:00:00       41.82        4.00       137.41   \n",
       "75%              2023-04-01 00:00:00       74.78        5.00       284.20   \n",
       "max              2023-12-31 00:00:00      431.87      108.00     13211.92   \n",
       "std                              NaN       85.01        2.51       410.86   \n",
       "\n",
       "                            OPENDATE                      CLOSEDATE  \\\n",
       "count                        6859693                        6859693   \n",
       "mean   2015-08-13 14:25:29.189950976  2024-12-26 08:00:01.998457600   \n",
       "min              2001-08-29 00:00:00            2023-10-29 00:00:00   \n",
       "25%              2012-05-29 00:00:00            2025-01-01 00:00:00   \n",
       "50%              2016-02-26 00:00:00            2025-01-01 00:00:00   \n",
       "75%              2019-10-14 00:00:00            2025-01-01 00:00:00   \n",
       "max              2023-10-14 00:00:00            2025-01-01 00:00:00   \n",
       "std                              NaN                            NaN   \n",
       "\n",
       "       INITIAL_TICKET_PRICE  BASE_PRICE      COSTOS   YEAR_OPEN  YEAR_CLOSE  \\\n",
       "count            6859693.00  6859693.00  6859693.00  6859693.00  6859693.00   \n",
       "mean                  84.78       70.71       44.50     2015.08     2024.97   \n",
       "min                    8.88        8.02        5.76     2001.00     2023.00   \n",
       "25%                   28.49       24.06       11.21     2012.00     2025.00   \n",
       "50%                   50.29       42.63       19.76     2016.00     2025.00   \n",
       "75%                   92.68       77.56       45.22     2019.00     2025.00   \n",
       "max                  452.69      358.79      281.26     2023.00     2025.00   \n",
       "std                  102.98       85.73       63.88        4.86        0.23   \n",
       "\n",
       "       MONTH_OPEN  MONTH_CLOSE        YEAR       MONTH         DAY        WEEK  \n",
       "count  6859693.00   6859693.00  6859693.00  6859693.00  6859693.00  6859693.00  \n",
       "mean         6.87         1.13     2022.00        6.55       15.72       26.66  \n",
       "min          1.00         1.00     2021.00        1.00        1.00        1.00  \n",
       "25%          4.00         1.00     2021.00        4.00        8.00       14.00  \n",
       "50%          7.00         1.00     2022.00        7.00       16.00       27.00  \n",
       "75%         10.00         1.00     2023.00       10.00       23.00       40.00  \n",
       "max         12.00        11.00     2023.00       12.00       31.00       53.00  \n",
       "std          3.37         1.09        0.82        3.45        8.80       15.05  "
      ]
     },
     "execution_count": 59,
     "metadata": {},
     "output_type": "execute_result"
    }
   ],
   "source": [
    "datos_unidos.describe().round(2)"
   ]
  },
  {
   "cell_type": "code",
   "execution_count": 60,
   "id": "fe870ea0",
   "metadata": {},
   "outputs": [
    {
     "data": {
      "text/plain": [
       "np.float64(22.0)"
      ]
     },
     "execution_count": 60,
     "metadata": {},
     "output_type": "execute_result"
    }
   ],
   "source": [
    "datos_unidos.QUANTITY.quantile(0.999)"
   ]
  },
  {
   "cell_type": "code",
   "execution_count": 61,
   "id": "17c4a219",
   "metadata": {},
   "outputs": [],
   "source": [
    "# Eliminamos los outliers de la columna QUANTITY, aquellos que superen el 99.9%\n",
    "datos_unidos = datos_unidos[datos_unidos.QUANTITY <= datos_unidos.QUANTITY.quantile(0.999)]"
   ]
  },
  {
   "cell_type": "code",
   "execution_count": 63,
   "id": "942c5863",
   "metadata": {},
   "outputs": [],
   "source": [
    "# Lo mismo con PRICE y TOTAL SALES\n",
    "datos_unidos = datos_unidos[datos_unidos.PRICE <= datos_unidos.PRICE.quantile(0.999)]\n",
    "datos_unidos = datos_unidos[datos_unidos.TOTAL_SALES <= datos_unidos.TOTAL_SALES.quantile(0.999)]"
   ]
  },
  {
   "cell_type": "code",
   "execution_count": 64,
   "id": "5dfd04ce",
   "metadata": {},
   "outputs": [
    {
     "data": {
      "text/html": [
       "<div>\n",
       "<style scoped>\n",
       "    .dataframe tbody tr th:only-of-type {\n",
       "        vertical-align: middle;\n",
       "    }\n",
       "\n",
       "    .dataframe tbody tr th {\n",
       "        vertical-align: top;\n",
       "    }\n",
       "\n",
       "    .dataframe thead th {\n",
       "        text-align: right;\n",
       "    }\n",
       "</style>\n",
       "<table border=\"1\" class=\"dataframe\">\n",
       "  <thead>\n",
       "    <tr style=\"text-align: right;\">\n",
       "      <th></th>\n",
       "      <th>DATE</th>\n",
       "      <th>PRICE</th>\n",
       "      <th>QUANTITY</th>\n",
       "      <th>TOTAL_SALES</th>\n",
       "      <th>OPENDATE</th>\n",
       "      <th>CLOSEDATE</th>\n",
       "      <th>INITIAL_TICKET_PRICE</th>\n",
       "      <th>BASE_PRICE</th>\n",
       "      <th>COSTOS</th>\n",
       "      <th>YEAR_OPEN</th>\n",
       "      <th>YEAR_CLOSE</th>\n",
       "      <th>MONTH_OPEN</th>\n",
       "      <th>MONTH_CLOSE</th>\n",
       "      <th>YEAR</th>\n",
       "      <th>MONTH</th>\n",
       "      <th>DAY</th>\n",
       "      <th>WEEK</th>\n",
       "    </tr>\n",
       "  </thead>\n",
       "  <tbody>\n",
       "    <tr>\n",
       "      <th>count</th>\n",
       "      <td>6825953</td>\n",
       "      <td>6825953.00</td>\n",
       "      <td>6825953.00</td>\n",
       "      <td>6825953.00</td>\n",
       "      <td>6825953</td>\n",
       "      <td>6825953</td>\n",
       "      <td>6825953.00</td>\n",
       "      <td>6825953.00</td>\n",
       "      <td>6825953.00</td>\n",
       "      <td>6825953.00</td>\n",
       "      <td>6825953.00</td>\n",
       "      <td>6825953.00</td>\n",
       "      <td>6825953.00</td>\n",
       "      <td>6825953.00</td>\n",
       "      <td>6825953.00</td>\n",
       "      <td>6825953.00</td>\n",
       "      <td>6825953.00</td>\n",
       "    </tr>\n",
       "    <tr>\n",
       "      <th>mean</th>\n",
       "      <td>2022-07-02 00:37:01.328155904</td>\n",
       "      <td>68.59</td>\n",
       "      <td>3.97</td>\n",
       "      <td>262.26</td>\n",
       "      <td>2015-08-13 12:45:25.080586496</td>\n",
       "      <td>2024-12-26 08:03:11.842399744</td>\n",
       "      <td>83.50</td>\n",
       "      <td>69.65</td>\n",
       "      <td>43.69</td>\n",
       "      <td>2015.08</td>\n",
       "      <td>2024.97</td>\n",
       "      <td>6.87</td>\n",
       "      <td>1.13</td>\n",
       "      <td>2022.00</td>\n",
       "      <td>6.55</td>\n",
       "      <td>15.71</td>\n",
       "      <td>26.67</td>\n",
       "    </tr>\n",
       "    <tr>\n",
       "      <th>min</th>\n",
       "      <td>2021-01-01 00:00:00</td>\n",
       "      <td>4.02</td>\n",
       "      <td>1.00</td>\n",
       "      <td>4.75</td>\n",
       "      <td>2001-08-29 00:00:00</td>\n",
       "      <td>2023-10-29 00:00:00</td>\n",
       "      <td>8.88</td>\n",
       "      <td>8.02</td>\n",
       "      <td>5.76</td>\n",
       "      <td>2001.00</td>\n",
       "      <td>2023.00</td>\n",
       "      <td>1.00</td>\n",
       "      <td>1.00</td>\n",
       "      <td>2021.00</td>\n",
       "      <td>1.00</td>\n",
       "      <td>1.00</td>\n",
       "      <td>1.00</td>\n",
       "    </tr>\n",
       "    <tr>\n",
       "      <th>25%</th>\n",
       "      <td>2021-10-01 00:00:00</td>\n",
       "      <td>23.22</td>\n",
       "      <td>2.00</td>\n",
       "      <td>60.06</td>\n",
       "      <td>2012-05-29 00:00:00</td>\n",
       "      <td>2025-01-01 00:00:00</td>\n",
       "      <td>28.32</td>\n",
       "      <td>24.03</td>\n",
       "      <td>11.16</td>\n",
       "      <td>2012.00</td>\n",
       "      <td>2025.00</td>\n",
       "      <td>4.00</td>\n",
       "      <td>1.00</td>\n",
       "      <td>2021.00</td>\n",
       "      <td>4.00</td>\n",
       "      <td>8.00</td>\n",
       "      <td>14.00</td>\n",
       "    </tr>\n",
       "    <tr>\n",
       "      <th>50%</th>\n",
       "      <td>2022-07-02 00:00:00</td>\n",
       "      <td>41.67</td>\n",
       "      <td>4.00</td>\n",
       "      <td>136.48</td>\n",
       "      <td>2016-02-26 00:00:00</td>\n",
       "      <td>2025-01-01 00:00:00</td>\n",
       "      <td>50.05</td>\n",
       "      <td>42.57</td>\n",
       "      <td>19.57</td>\n",
       "      <td>2016.00</td>\n",
       "      <td>2025.00</td>\n",
       "      <td>7.00</td>\n",
       "      <td>1.00</td>\n",
       "      <td>2022.00</td>\n",
       "      <td>7.00</td>\n",
       "      <td>16.00</td>\n",
       "      <td>27.00</td>\n",
       "    </tr>\n",
       "    <tr>\n",
       "      <th>75%</th>\n",
       "      <td>2023-04-01 00:00:00</td>\n",
       "      <td>74.08</td>\n",
       "      <td>5.00</td>\n",
       "      <td>280.80</td>\n",
       "      <td>2019-10-14 00:00:00</td>\n",
       "      <td>2025-01-01 00:00:00</td>\n",
       "      <td>90.94</td>\n",
       "      <td>77.07</td>\n",
       "      <td>44.34</td>\n",
       "      <td>2019.00</td>\n",
       "      <td>2025.00</td>\n",
       "      <td>10.00</td>\n",
       "      <td>1.00</td>\n",
       "      <td>2023.00</td>\n",
       "      <td>10.00</td>\n",
       "      <td>23.00</td>\n",
       "      <td>40.00</td>\n",
       "    </tr>\n",
       "    <tr>\n",
       "      <th>max</th>\n",
       "      <td>2023-12-31 00:00:00</td>\n",
       "      <td>375.75</td>\n",
       "      <td>22.00</td>\n",
       "      <td>2948.51</td>\n",
       "      <td>2023-10-14 00:00:00</td>\n",
       "      <td>2025-01-01 00:00:00</td>\n",
       "      <td>452.69</td>\n",
       "      <td>358.79</td>\n",
       "      <td>281.26</td>\n",
       "      <td>2023.00</td>\n",
       "      <td>2025.00</td>\n",
       "      <td>12.00</td>\n",
       "      <td>11.00</td>\n",
       "      <td>2023.00</td>\n",
       "      <td>12.00</td>\n",
       "      <td>31.00</td>\n",
       "      <td>53.00</td>\n",
       "    </tr>\n",
       "    <tr>\n",
       "      <th>std</th>\n",
       "      <td>NaN</td>\n",
       "      <td>83.31</td>\n",
       "      <td>2.36</td>\n",
       "      <td>370.05</td>\n",
       "      <td>NaN</td>\n",
       "      <td>NaN</td>\n",
       "      <td>101.21</td>\n",
       "      <td>84.26</td>\n",
       "      <td>62.72</td>\n",
       "      <td>4.86</td>\n",
       "      <td>0.23</td>\n",
       "      <td>3.37</td>\n",
       "      <td>1.09</td>\n",
       "      <td>0.82</td>\n",
       "      <td>3.45</td>\n",
       "      <td>8.80</td>\n",
       "      <td>15.05</td>\n",
       "    </tr>\n",
       "  </tbody>\n",
       "</table>\n",
       "</div>"
      ],
      "text/plain": [
       "                                DATE       PRICE    QUANTITY  TOTAL_SALES  \\\n",
       "count                        6825953  6825953.00  6825953.00   6825953.00   \n",
       "mean   2022-07-02 00:37:01.328155904       68.59        3.97       262.26   \n",
       "min              2021-01-01 00:00:00        4.02        1.00         4.75   \n",
       "25%              2021-10-01 00:00:00       23.22        2.00        60.06   \n",
       "50%              2022-07-02 00:00:00       41.67        4.00       136.48   \n",
       "75%              2023-04-01 00:00:00       74.08        5.00       280.80   \n",
       "max              2023-12-31 00:00:00      375.75       22.00      2948.51   \n",
       "std                              NaN       83.31        2.36       370.05   \n",
       "\n",
       "                            OPENDATE                      CLOSEDATE  \\\n",
       "count                        6825953                        6825953   \n",
       "mean   2015-08-13 12:45:25.080586496  2024-12-26 08:03:11.842399744   \n",
       "min              2001-08-29 00:00:00            2023-10-29 00:00:00   \n",
       "25%              2012-05-29 00:00:00            2025-01-01 00:00:00   \n",
       "50%              2016-02-26 00:00:00            2025-01-01 00:00:00   \n",
       "75%              2019-10-14 00:00:00            2025-01-01 00:00:00   \n",
       "max              2023-10-14 00:00:00            2025-01-01 00:00:00   \n",
       "std                              NaN                            NaN   \n",
       "\n",
       "       INITIAL_TICKET_PRICE  BASE_PRICE      COSTOS   YEAR_OPEN  YEAR_CLOSE  \\\n",
       "count            6825953.00  6825953.00  6825953.00  6825953.00  6825953.00   \n",
       "mean                  83.50       69.65       43.69     2015.08     2024.97   \n",
       "min                    8.88        8.02        5.76     2001.00     2023.00   \n",
       "25%                   28.32       24.03       11.16     2012.00     2025.00   \n",
       "50%                   50.05       42.57       19.57     2016.00     2025.00   \n",
       "75%                   90.94       77.07       44.34     2019.00     2025.00   \n",
       "max                  452.69      358.79      281.26     2023.00     2025.00   \n",
       "std                  101.21       84.26       62.72        4.86        0.23   \n",
       "\n",
       "       MONTH_OPEN  MONTH_CLOSE        YEAR       MONTH         DAY        WEEK  \n",
       "count  6825953.00   6825953.00  6825953.00  6825953.00  6825953.00  6825953.00  \n",
       "mean         6.87         1.13     2022.00        6.55       15.71       26.67  \n",
       "min          1.00         1.00     2021.00        1.00        1.00        1.00  \n",
       "25%          4.00         1.00     2021.00        4.00        8.00       14.00  \n",
       "50%          7.00         1.00     2022.00        7.00       16.00       27.00  \n",
       "75%         10.00         1.00     2023.00       10.00       23.00       40.00  \n",
       "max         12.00        11.00     2023.00       12.00       31.00       53.00  \n",
       "std          3.37         1.09        0.82        3.45        8.80       15.05  "
      ]
     },
     "execution_count": 64,
     "metadata": {},
     "output_type": "execute_result"
    }
   ],
   "source": [
    "datos_unidos.describe().round(2)"
   ]
  },
  {
   "cell_type": "code",
   "execution_count": 65,
   "id": "b9319858",
   "metadata": {},
   "outputs": [
    {
     "data": {
      "text/plain": [
       "6825953"
      ]
     },
     "execution_count": 65,
     "metadata": {},
     "output_type": "execute_result"
    }
   ],
   "source": [
    "len(datos_unidos)"
   ]
  },
  {
   "cell_type": "code",
   "execution_count": 66,
   "id": "1e8b00ae",
   "metadata": {},
   "outputs": [],
   "source": [
    "# Guardamos los datos\n",
    "datos_unidos.to_csv(\"../data/procesados/datos_unidos.csv\", index=False)"
   ]
  },
  {
   "cell_type": "code",
   "execution_count": 68,
   "id": "fab80d20",
   "metadata": {},
   "outputs": [
    {
     "name": "stdout",
     "output_type": "stream",
     "text": [
      "Index(['SKU', 'DATE', 'STORE_ID', 'PRICE', 'QUANTITY', 'TOTAL_SALES', 'REGION',\n",
      "       'CITY', 'STATE', 'STORE_TYPE', 'OPENDATE', 'CLOSEDATE',\n",
      "       'STORE_SUBGROUP_DATE_ID', 'CATEGORY', 'GROUP', 'SUBGROUP', 'GROUP_TYPE',\n",
      "       'PRICE_GROUP_ID', 'BRAND', 'INITIAL_TICKET_PRICE', 'BASE_PRICE',\n",
      "       'COSTOS', 'YEAR_OPEN', 'YEAR_CLOSE', 'MONTH_OPEN', 'MONTH_CLOSE',\n",
      "       'YEAR', 'MONTH', 'DAY', 'DAY_OF_WEEK', 'WEEK'],\n",
      "      dtype='object')\n"
     ]
    }
   ],
   "source": [
    "print(datos_unidos.columns)"
   ]
  }
 ],
 "metadata": {
  "kernelspec": {
   "display_name": "Python 3",
   "language": "python",
   "name": "python3"
  },
  "language_info": {
   "codemirror_mode": {
    "name": "ipython",
    "version": 3
   },
   "file_extension": ".py",
   "mimetype": "text/x-python",
   "name": "python",
   "nbconvert_exporter": "python",
   "pygments_lexer": "ipython3",
   "version": "3.12.11"
  }
 },
 "nbformat": 4,
 "nbformat_minor": 5
}
