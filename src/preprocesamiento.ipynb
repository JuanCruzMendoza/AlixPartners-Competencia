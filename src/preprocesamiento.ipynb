{
 "cells": [
  {
   "cell_type": "markdown",
   "id": "d21bba42",
   "metadata": {},
   "source": [
    "## Setup"
   ]
  },
  {
   "cell_type": "code",
   "execution_count": 1,
   "id": "216da119",
   "metadata": {},
   "outputs": [],
   "source": [
    "# Imports\n",
    "import pandas as pd\n",
    "import matplotlib.pyplot as plt\n",
    "import numpy as np"
   ]
  },
  {
   "cell_type": "code",
   "execution_count": 2,
   "id": "082aa590",
   "metadata": {},
   "outputs": [],
   "source": [
    "customer_data = pd.read_csv(\"../data/raw/eci_customer_data.csv\")\n",
    "product_groups_data = pd.read_csv(\"../data/raw/eci_product_groups.csv\")\n",
    "product_master_data = pd.read_csv(\"../data/raw/eci_product_master.csv\")\n",
    "stores_clusters_data = pd.read_csv(\"../data/raw/eci_stores_clusters.csv\")\n",
    "stores_data = pd.read_csv(\"../data/raw/eci_stores.csv\")\n",
    "transactions_data = pd.read_csv(\"../data/raw/eci_transactions.csv\")"
   ]
  },
  {
   "cell_type": "markdown",
   "id": "96baa866",
   "metadata": {},
   "source": [
    "## Exploracion de datos / Data imputation"
   ]
  },
  {
   "cell_type": "markdown",
   "id": "798c7245",
   "metadata": {},
   "source": [
    "### Transactions"
   ]
  },
  {
   "cell_type": "code",
   "execution_count": 3,
   "id": "79f1826e",
   "metadata": {},
   "outputs": [
    {
     "data": {
      "application/vnd.microsoft.datawrangler.viewer.v0+json": {
       "columns": [
        {
         "name": "index",
         "rawType": "int64",
         "type": "integer"
        },
        {
         "name": "TRANSACTION_ID",
         "rawType": "int64",
         "type": "integer"
        },
        {
         "name": "DATE",
         "rawType": "object",
         "type": "string"
        },
        {
         "name": "STORE_ID",
         "rawType": "object",
         "type": "string"
        },
        {
         "name": "SKU",
         "rawType": "object",
         "type": "string"
        },
        {
         "name": "QUANTITY",
         "rawType": "float64",
         "type": "float"
        },
        {
         "name": "PRICE",
         "rawType": "float64",
         "type": "float"
        },
        {
         "name": "TOTAL_SALES",
         "rawType": "float64",
         "type": "float"
        },
        {
         "name": "SUBGROUP",
         "rawType": "object",
         "type": "string"
        },
        {
         "name": "STORE_SUBGROUP_DATE_ID",
         "rawType": "object",
         "type": "string"
        }
       ],
       "ref": "c417a221-b567-4160-bc0e-3e8b40c5f85e",
       "rows": [
        [
         "0",
         "17185",
         "2021-01-01",
         "S00148",
         "CLOMEJA001",
         "1.0",
         "52.8",
         "52.8",
         "Jackets",
         "S00148_Jackets_2021-01-01"
        ],
        [
         "1",
         "4108",
         "2021-01-01",
         "S00035",
         "CLOCHIN014",
         "1.0",
         "55.25",
         "55.25",
         "Infants",
         "S00035_Infants_2021-01-01"
        ],
        [
         "2",
         "2400",
         "2021-01-01",
         "S00020",
         "BEAHASH005",
         "1.0",
         "40.19",
         "40.19",
         "Shampoo",
         "S00020_Shampoo_2021-01-01"
        ],
        [
         "3",
         "7978",
         "2021-01-01",
         "S00068",
         "TOYGABO004",
         "1.0",
         "35.41",
         "35.41",
         "Board Games",
         "S00068_Board Games_2021-01-01"
        ],
        [
         "4",
         "6946",
         "2021-01-01",
         "S00059",
         "BEAHASH006",
         "1.0",
         "38.28",
         "38.28",
         "Shampoo",
         "S00059_Shampoo_2021-01-01"
        ]
       ],
       "shape": {
        "columns": 9,
        "rows": 5
       }
      },
      "text/html": [
       "<div>\n",
       "<style scoped>\n",
       "    .dataframe tbody tr th:only-of-type {\n",
       "        vertical-align: middle;\n",
       "    }\n",
       "\n",
       "    .dataframe tbody tr th {\n",
       "        vertical-align: top;\n",
       "    }\n",
       "\n",
       "    .dataframe thead th {\n",
       "        text-align: right;\n",
       "    }\n",
       "</style>\n",
       "<table border=\"1\" class=\"dataframe\">\n",
       "  <thead>\n",
       "    <tr style=\"text-align: right;\">\n",
       "      <th></th>\n",
       "      <th>TRANSACTION_ID</th>\n",
       "      <th>DATE</th>\n",
       "      <th>STORE_ID</th>\n",
       "      <th>SKU</th>\n",
       "      <th>QUANTITY</th>\n",
       "      <th>PRICE</th>\n",
       "      <th>TOTAL_SALES</th>\n",
       "      <th>SUBGROUP</th>\n",
       "      <th>STORE_SUBGROUP_DATE_ID</th>\n",
       "    </tr>\n",
       "  </thead>\n",
       "  <tbody>\n",
       "    <tr>\n",
       "      <th>0</th>\n",
       "      <td>17185</td>\n",
       "      <td>2021-01-01</td>\n",
       "      <td>S00148</td>\n",
       "      <td>CLOMEJA001</td>\n",
       "      <td>1.0</td>\n",
       "      <td>52.80</td>\n",
       "      <td>52.80</td>\n",
       "      <td>Jackets</td>\n",
       "      <td>S00148_Jackets_2021-01-01</td>\n",
       "    </tr>\n",
       "    <tr>\n",
       "      <th>1</th>\n",
       "      <td>4108</td>\n",
       "      <td>2021-01-01</td>\n",
       "      <td>S00035</td>\n",
       "      <td>CLOCHIN014</td>\n",
       "      <td>1.0</td>\n",
       "      <td>55.25</td>\n",
       "      <td>55.25</td>\n",
       "      <td>Infants</td>\n",
       "      <td>S00035_Infants_2021-01-01</td>\n",
       "    </tr>\n",
       "    <tr>\n",
       "      <th>2</th>\n",
       "      <td>2400</td>\n",
       "      <td>2021-01-01</td>\n",
       "      <td>S00020</td>\n",
       "      <td>BEAHASH005</td>\n",
       "      <td>1.0</td>\n",
       "      <td>40.19</td>\n",
       "      <td>40.19</td>\n",
       "      <td>Shampoo</td>\n",
       "      <td>S00020_Shampoo_2021-01-01</td>\n",
       "    </tr>\n",
       "    <tr>\n",
       "      <th>3</th>\n",
       "      <td>7978</td>\n",
       "      <td>2021-01-01</td>\n",
       "      <td>S00068</td>\n",
       "      <td>TOYGABO004</td>\n",
       "      <td>1.0</td>\n",
       "      <td>35.41</td>\n",
       "      <td>35.41</td>\n",
       "      <td>Board Games</td>\n",
       "      <td>S00068_Board Games_2021-01-01</td>\n",
       "    </tr>\n",
       "    <tr>\n",
       "      <th>4</th>\n",
       "      <td>6946</td>\n",
       "      <td>2021-01-01</td>\n",
       "      <td>S00059</td>\n",
       "      <td>BEAHASH006</td>\n",
       "      <td>1.0</td>\n",
       "      <td>38.28</td>\n",
       "      <td>38.28</td>\n",
       "      <td>Shampoo</td>\n",
       "      <td>S00059_Shampoo_2021-01-01</td>\n",
       "    </tr>\n",
       "  </tbody>\n",
       "</table>\n",
       "</div>"
      ],
      "text/plain": [
       "   TRANSACTION_ID        DATE STORE_ID         SKU  QUANTITY  PRICE  \\\n",
       "0           17185  2021-01-01   S00148  CLOMEJA001       1.0  52.80   \n",
       "1            4108  2021-01-01   S00035  CLOCHIN014       1.0  55.25   \n",
       "2            2400  2021-01-01   S00020  BEAHASH005       1.0  40.19   \n",
       "3            7978  2021-01-01   S00068  TOYGABO004       1.0  35.41   \n",
       "4            6946  2021-01-01   S00059  BEAHASH006       1.0  38.28   \n",
       "\n",
       "   TOTAL_SALES     SUBGROUP         STORE_SUBGROUP_DATE_ID  \n",
       "0        52.80      Jackets      S00148_Jackets_2021-01-01  \n",
       "1        55.25      Infants      S00035_Infants_2021-01-01  \n",
       "2        40.19      Shampoo      S00020_Shampoo_2021-01-01  \n",
       "3        35.41  Board Games  S00068_Board Games_2021-01-01  \n",
       "4        38.28      Shampoo      S00059_Shampoo_2021-01-01  "
      ]
     },
     "execution_count": 3,
     "metadata": {},
     "output_type": "execute_result"
    }
   ],
   "source": [
    "transactions_data.head()"
   ]
  },
  {
   "cell_type": "code",
   "execution_count": 4,
   "id": "c3f9845a",
   "metadata": {},
   "outputs": [],
   "source": [
    "# Convertimos la columna DATE a tipo datetime\n",
    "transactions_data[\"DATE\"] = pd.to_datetime(transactions_data[\"DATE\"], format=\"%Y-%m-%d\")"
   ]
  },
  {
   "cell_type": "code",
   "execution_count": 5,
   "id": "7e98930d",
   "metadata": {},
   "outputs": [
    {
     "data": {
      "application/vnd.microsoft.datawrangler.viewer.v0+json": {
       "columns": [
        {
         "name": "index",
         "rawType": "object",
         "type": "string"
        },
        {
         "name": "TRANSACTION_ID",
         "rawType": "float64",
         "type": "float"
        },
        {
         "name": "DATE",
         "rawType": "object",
         "type": "unknown"
        },
        {
         "name": "QUANTITY",
         "rawType": "float64",
         "type": "float"
        },
        {
         "name": "PRICE",
         "rawType": "float64",
         "type": "float"
        },
        {
         "name": "TOTAL_SALES",
         "rawType": "float64",
         "type": "float"
        }
       ],
       "ref": "d400fdaa-e2e6-4940-9d41-ffe02d0b9769",
       "rows": [
        [
         "count",
         "19004759.0",
         "19004759",
         "18909672.0",
         "19004759.0",
         "19004759.0"
        ],
        [
         "mean",
         "9502380.0",
         "2022-06-22 20:26:04.793325568",
         "1.44",
         "68.69",
         "97.37"
        ],
        [
         "min",
         "1.0",
         "2021-01-01 00:00:00",
         "1.0",
         "4.02",
         "4.02"
        ],
        [
         "25%",
         "4751190.5",
         "2021-09-23 00:00:00",
         "1.0",
         "22.94",
         "25.5"
        ],
        [
         "50%",
         "9502380.0",
         "2022-06-21 00:00:00",
         "1.0",
         "41.24",
         "48.01"
        ],
        [
         "75%",
         "14253569.5",
         "2023-03-16 00:00:00",
         "2.0",
         "74.02",
         "93.02"
        ],
        [
         "max",
         "19004759.0",
         "2023-12-31 00:00:00",
         "85.0",
         "431.87",
         "8369.26"
        ],
        [
         "std",
         "5486201.51",
         null,
         "1.01",
         "84.06",
         "155.9"
        ]
       ],
       "shape": {
        "columns": 5,
        "rows": 8
       }
      },
      "text/html": [
       "<div>\n",
       "<style scoped>\n",
       "    .dataframe tbody tr th:only-of-type {\n",
       "        vertical-align: middle;\n",
       "    }\n",
       "\n",
       "    .dataframe tbody tr th {\n",
       "        vertical-align: top;\n",
       "    }\n",
       "\n",
       "    .dataframe thead th {\n",
       "        text-align: right;\n",
       "    }\n",
       "</style>\n",
       "<table border=\"1\" class=\"dataframe\">\n",
       "  <thead>\n",
       "    <tr style=\"text-align: right;\">\n",
       "      <th></th>\n",
       "      <th>TRANSACTION_ID</th>\n",
       "      <th>DATE</th>\n",
       "      <th>QUANTITY</th>\n",
       "      <th>PRICE</th>\n",
       "      <th>TOTAL_SALES</th>\n",
       "    </tr>\n",
       "  </thead>\n",
       "  <tbody>\n",
       "    <tr>\n",
       "      <th>count</th>\n",
       "      <td>19004759.00</td>\n",
       "      <td>19004759</td>\n",
       "      <td>18909672.00</td>\n",
       "      <td>19004759.00</td>\n",
       "      <td>19004759.00</td>\n",
       "    </tr>\n",
       "    <tr>\n",
       "      <th>mean</th>\n",
       "      <td>9502380.00</td>\n",
       "      <td>2022-06-22 20:26:04.793325568</td>\n",
       "      <td>1.44</td>\n",
       "      <td>68.69</td>\n",
       "      <td>97.37</td>\n",
       "    </tr>\n",
       "    <tr>\n",
       "      <th>min</th>\n",
       "      <td>1.00</td>\n",
       "      <td>2021-01-01 00:00:00</td>\n",
       "      <td>1.00</td>\n",
       "      <td>4.02</td>\n",
       "      <td>4.02</td>\n",
       "    </tr>\n",
       "    <tr>\n",
       "      <th>25%</th>\n",
       "      <td>4751190.50</td>\n",
       "      <td>2021-09-23 00:00:00</td>\n",
       "      <td>1.00</td>\n",
       "      <td>22.94</td>\n",
       "      <td>25.50</td>\n",
       "    </tr>\n",
       "    <tr>\n",
       "      <th>50%</th>\n",
       "      <td>9502380.00</td>\n",
       "      <td>2022-06-21 00:00:00</td>\n",
       "      <td>1.00</td>\n",
       "      <td>41.24</td>\n",
       "      <td>48.01</td>\n",
       "    </tr>\n",
       "    <tr>\n",
       "      <th>75%</th>\n",
       "      <td>14253569.50</td>\n",
       "      <td>2023-03-16 00:00:00</td>\n",
       "      <td>2.00</td>\n",
       "      <td>74.02</td>\n",
       "      <td>93.02</td>\n",
       "    </tr>\n",
       "    <tr>\n",
       "      <th>max</th>\n",
       "      <td>19004759.00</td>\n",
       "      <td>2023-12-31 00:00:00</td>\n",
       "      <td>85.00</td>\n",
       "      <td>431.87</td>\n",
       "      <td>8369.26</td>\n",
       "    </tr>\n",
       "    <tr>\n",
       "      <th>std</th>\n",
       "      <td>5486201.51</td>\n",
       "      <td>NaN</td>\n",
       "      <td>1.01</td>\n",
       "      <td>84.06</td>\n",
       "      <td>155.90</td>\n",
       "    </tr>\n",
       "  </tbody>\n",
       "</table>\n",
       "</div>"
      ],
      "text/plain": [
       "       TRANSACTION_ID                           DATE     QUANTITY  \\\n",
       "count     19004759.00                       19004759  18909672.00   \n",
       "mean       9502380.00  2022-06-22 20:26:04.793325568         1.44   \n",
       "min              1.00            2021-01-01 00:00:00         1.00   \n",
       "25%        4751190.50            2021-09-23 00:00:00         1.00   \n",
       "50%        9502380.00            2022-06-21 00:00:00         1.00   \n",
       "75%       14253569.50            2023-03-16 00:00:00         2.00   \n",
       "max       19004759.00            2023-12-31 00:00:00        85.00   \n",
       "std        5486201.51                            NaN         1.01   \n",
       "\n",
       "             PRICE  TOTAL_SALES  \n",
       "count  19004759.00  19004759.00  \n",
       "mean         68.69        97.37  \n",
       "min           4.02         4.02  \n",
       "25%          22.94        25.50  \n",
       "50%          41.24        48.01  \n",
       "75%          74.02        93.02  \n",
       "max         431.87      8369.26  \n",
       "std          84.06       155.90  "
      ]
     },
     "execution_count": 5,
     "metadata": {},
     "output_type": "execute_result"
    }
   ],
   "source": [
    "# Tenemos data desde 2021-01-01 hasta 2023-12-31 (3 años)\n",
    "transactions_data.describe().round(2)"
   ]
  },
  {
   "cell_type": "code",
   "execution_count": 6,
   "id": "214c30b2",
   "metadata": {},
   "outputs": [
    {
     "data": {
      "application/vnd.microsoft.datawrangler.viewer.v0+json": {
       "columns": [
        {
         "name": "index",
         "rawType": "object",
         "type": "string"
        },
        {
         "name": "0",
         "rawType": "int64",
         "type": "integer"
        }
       ],
       "ref": "bb8f5f9a-5717-4a62-aa10-c24f33309d85",
       "rows": [
        [
         "TRANSACTION_ID",
         "0"
        ],
        [
         "DATE",
         "0"
        ],
        [
         "STORE_ID",
         "0"
        ],
        [
         "SKU",
         "0"
        ],
        [
         "QUANTITY",
         "95087"
        ],
        [
         "PRICE",
         "0"
        ],
        [
         "TOTAL_SALES",
         "0"
        ],
        [
         "SUBGROUP",
         "0"
        ],
        [
         "STORE_SUBGROUP_DATE_ID",
         "0"
        ]
       ],
       "shape": {
        "columns": 1,
        "rows": 9
       }
      },
      "text/plain": [
       "TRANSACTION_ID                0\n",
       "DATE                          0\n",
       "STORE_ID                      0\n",
       "SKU                           0\n",
       "QUANTITY                  95087\n",
       "PRICE                         0\n",
       "TOTAL_SALES                   0\n",
       "SUBGROUP                      0\n",
       "STORE_SUBGROUP_DATE_ID        0\n",
       "dtype: int64"
      ]
     },
     "execution_count": 6,
     "metadata": {},
     "output_type": "execute_result"
    }
   ],
   "source": [
    "transactions_data.isna().sum()"
   ]
  },
  {
   "cell_type": "code",
   "execution_count": 7,
   "id": "804b4cca",
   "metadata": {},
   "outputs": [],
   "source": [
    "# Si la columna de Quantity es NaN, llenamos los valores de Quantitiy como Total_sales / Price\n",
    "transactions_data['QUANTITY'] = transactions_data.apply(\n",
    "    lambda row: row['TOTAL_SALES'] / row['PRICE'] if pd.isna(row['QUANTITY']) else row['QUANTITY'], axis=1\n",
    ")"
   ]
  },
  {
   "cell_type": "markdown",
   "id": "6ece645f",
   "metadata": {},
   "source": [
    "### Clientes"
   ]
  },
  {
   "cell_type": "code",
   "execution_count": 8,
   "id": "039b9e1d",
   "metadata": {},
   "outputs": [
    {
     "data": {
      "application/vnd.microsoft.datawrangler.viewer.v0+json": {
       "columns": [
        {
         "name": "index",
         "rawType": "int64",
         "type": "integer"
        },
        {
         "name": "client_id",
         "rawType": "int64",
         "type": "integer"
        },
        {
         "name": "phone_number",
         "rawType": "object",
         "type": "unknown"
        },
        {
         "name": "email_address",
         "rawType": "object",
         "type": "unknown"
        },
        {
         "name": "city",
         "rawType": "object",
         "type": "string"
        },
        {
         "name": "state",
         "rawType": "object",
         "type": "string"
        },
        {
         "name": "zip_code",
         "rawType": "object",
         "type": "string"
        },
        {
         "name": "education_level",
         "rawType": "object",
         "type": "string"
        },
        {
         "name": "occupation",
         "rawType": "object",
         "type": "unknown"
        },
        {
         "name": "loyalty_member",
         "rawType": "object",
         "type": "string"
        },
        {
         "name": "loyalty_number",
         "rawType": "object",
         "type": "unknown"
        },
        {
         "name": "loyalty_points",
         "rawType": "object",
         "type": "unknown"
        }
       ],
       "ref": "2aa24d14-75d2-489d-80df-949fa971a683",
       "rows": [
        [
         "0",
         "500001",
         null,
         "n.edwards+spam@outlook.com",
         "Spokane",
         "WA",
         "99201",
         "High School",
         null,
         "No",
         null,
         "339"
        ],
        [
         "1",
         "500002",
         "(412) 698-7960",
         "lisa_cook@yahoo.com",
         "Pittsburgh",
         "PA",
         "15222",
         "High School",
         "Sales Representative",
         "Yes",
         "LP525082",
         "406"
        ],
        [
         "2",
         "500003",
         "(303) 491-3774",
         null,
         "Fort Collins",
         "CO",
         "80526",
         "College Graduate",
         "Analyst",
         "True",
         "950139",
         "14"
        ],
        [
         "3",
         "500004",
         "(803) 255-0104",
         "betty-campbell@gmail.com",
         "Charleston",
         "SC",
         "29401",
         "Some College",
         "Supervisor",
         "No",
         null,
         null
        ],
        [
         "4",
         "500005",
         "(303) 596-8987",
         null,
         "Aurora",
         "CO",
         "80012",
         "Associates",
         null,
         "Yes",
         null,
         null
        ]
       ],
       "shape": {
        "columns": 11,
        "rows": 5
       }
      },
      "text/html": [
       "<div>\n",
       "<style scoped>\n",
       "    .dataframe tbody tr th:only-of-type {\n",
       "        vertical-align: middle;\n",
       "    }\n",
       "\n",
       "    .dataframe tbody tr th {\n",
       "        vertical-align: top;\n",
       "    }\n",
       "\n",
       "    .dataframe thead th {\n",
       "        text-align: right;\n",
       "    }\n",
       "</style>\n",
       "<table border=\"1\" class=\"dataframe\">\n",
       "  <thead>\n",
       "    <tr style=\"text-align: right;\">\n",
       "      <th></th>\n",
       "      <th>client_id</th>\n",
       "      <th>phone_number</th>\n",
       "      <th>email_address</th>\n",
       "      <th>city</th>\n",
       "      <th>state</th>\n",
       "      <th>zip_code</th>\n",
       "      <th>education_level</th>\n",
       "      <th>occupation</th>\n",
       "      <th>loyalty_member</th>\n",
       "      <th>loyalty_number</th>\n",
       "      <th>loyalty_points</th>\n",
       "    </tr>\n",
       "  </thead>\n",
       "  <tbody>\n",
       "    <tr>\n",
       "      <th>0</th>\n",
       "      <td>500001</td>\n",
       "      <td>NaN</td>\n",
       "      <td>n.edwards+spam@outlook.com</td>\n",
       "      <td>Spokane</td>\n",
       "      <td>WA</td>\n",
       "      <td>99201</td>\n",
       "      <td>High School</td>\n",
       "      <td>NaN</td>\n",
       "      <td>No</td>\n",
       "      <td>NaN</td>\n",
       "      <td>339</td>\n",
       "    </tr>\n",
       "    <tr>\n",
       "      <th>1</th>\n",
       "      <td>500002</td>\n",
       "      <td>(412) 698-7960</td>\n",
       "      <td>lisa_cook@yahoo.com</td>\n",
       "      <td>Pittsburgh</td>\n",
       "      <td>PA</td>\n",
       "      <td>15222</td>\n",
       "      <td>High School</td>\n",
       "      <td>Sales Representative</td>\n",
       "      <td>Yes</td>\n",
       "      <td>LP525082</td>\n",
       "      <td>406</td>\n",
       "    </tr>\n",
       "    <tr>\n",
       "      <th>2</th>\n",
       "      <td>500003</td>\n",
       "      <td>(303) 491-3774</td>\n",
       "      <td>NaN</td>\n",
       "      <td>Fort Collins</td>\n",
       "      <td>CO</td>\n",
       "      <td>80526</td>\n",
       "      <td>College Graduate</td>\n",
       "      <td>Analyst</td>\n",
       "      <td>True</td>\n",
       "      <td>950139</td>\n",
       "      <td>14</td>\n",
       "    </tr>\n",
       "    <tr>\n",
       "      <th>3</th>\n",
       "      <td>500004</td>\n",
       "      <td>(803) 255-0104</td>\n",
       "      <td>betty-campbell@gmail.com</td>\n",
       "      <td>Charleston</td>\n",
       "      <td>SC</td>\n",
       "      <td>29401</td>\n",
       "      <td>Some College</td>\n",
       "      <td>Supervisor</td>\n",
       "      <td>No</td>\n",
       "      <td>NaN</td>\n",
       "      <td>NaN</td>\n",
       "    </tr>\n",
       "    <tr>\n",
       "      <th>4</th>\n",
       "      <td>500005</td>\n",
       "      <td>(303) 596-8987</td>\n",
       "      <td>NaN</td>\n",
       "      <td>Aurora</td>\n",
       "      <td>CO</td>\n",
       "      <td>80012</td>\n",
       "      <td>Associates</td>\n",
       "      <td>NaN</td>\n",
       "      <td>Yes</td>\n",
       "      <td>NaN</td>\n",
       "      <td>NaN</td>\n",
       "    </tr>\n",
       "  </tbody>\n",
       "</table>\n",
       "</div>"
      ],
      "text/plain": [
       "   client_id    phone_number               email_address          city state  \\\n",
       "0     500001             NaN  n.edwards+spam@outlook.com       Spokane    WA   \n",
       "1     500002  (412) 698-7960         lisa_cook@yahoo.com    Pittsburgh    PA   \n",
       "2     500003  (303) 491-3774                         NaN  Fort Collins    CO   \n",
       "3     500004  (803) 255-0104    betty-campbell@gmail.com    Charleston    SC   \n",
       "4     500005  (303) 596-8987                         NaN        Aurora    CO   \n",
       "\n",
       "  zip_code   education_level            occupation loyalty_member  \\\n",
       "0    99201       High School                   NaN             No   \n",
       "1    15222       High School  Sales Representative            Yes   \n",
       "2    80526  College Graduate               Analyst           True   \n",
       "3    29401      Some College            Supervisor             No   \n",
       "4    80012        Associates                   NaN            Yes   \n",
       "\n",
       "  loyalty_number loyalty_points  \n",
       "0            NaN            339  \n",
       "1       LP525082            406  \n",
       "2         950139             14  \n",
       "3            NaN            NaN  \n",
       "4            NaN            NaN  "
      ]
     },
     "execution_count": 8,
     "metadata": {},
     "output_type": "execute_result"
    }
   ],
   "source": [
    "customer_data.head()"
   ]
  },
  {
   "cell_type": "code",
   "execution_count": 9,
   "id": "8bfa3ae4",
   "metadata": {},
   "outputs": [
    {
     "data": {
      "text/plain": [
       "801923"
      ]
     },
     "execution_count": 9,
     "metadata": {},
     "output_type": "execute_result"
    }
   ],
   "source": [
    "# Cantidad de clientes\n",
    "customer_data[\"client_id\"].nunique()"
   ]
  },
  {
   "cell_type": "markdown",
   "id": "c2446157",
   "metadata": {},
   "source": [
    "### Productos"
   ]
  },
  {
   "cell_type": "code",
   "execution_count": 10,
   "id": "0ebd4d2f",
   "metadata": {},
   "outputs": [
    {
     "data": {
      "application/vnd.microsoft.datawrangler.viewer.v0+json": {
       "columns": [
        {
         "name": "index",
         "rawType": "int64",
         "type": "integer"
        },
        {
         "name": "sku       ",
         "rawType": "object",
         "type": "string"
        },
        {
         "name": " product_name                     ",
         "rawType": "object",
         "type": "string"
        },
        {
         "name": " price_group_id    ",
         "rawType": "object",
         "type": "string"
        },
        {
         "name": " price_group_name          ",
         "rawType": "object",
         "type": "string"
        },
        {
         "name": " group_type",
         "rawType": "object",
         "type": "string"
        }
       ],
       "ref": "9de60a47-5dc4-47a0-97e6-df7817801e1e",
       "rows": [
        [
         "0",
         "BOOEDTE001",
         " PageTurn Essential Textbooks     ",
         " BACK_TO_SCHOOL_01 ",
         " Back to School Essentials ",
         " Seasonal"
        ],
        [
         "1",
         "BOOEDTE002",
         " Bookworm Advanced Textbooks      ",
         " BACK_TO_SCHOOL_01 ",
         " Back to School Essentials ",
         " Seasonal"
        ],
        [
         "2",
         "BOOEDTE004",
         " PageTurn Essential Textbooks     ",
         " BACK_TO_SCHOOL_01 ",
         " Back to School Essentials ",
         " Seasonal"
        ],
        [
         "3",
         "CLOMESH002",
         " DressRight Shirts Collection     ",
         " BACK_TO_SCHOOL_01 ",
         " Back to School Essentials ",
         " Seasonal"
        ],
        [
         "4",
         "CLOMESH005",
         " StyleX Relaxed Shirts            ",
         " BACK_TO_SCHOOL_01 ",
         " Back to School Essentials ",
         " Seasonal"
        ]
       ],
       "shape": {
        "columns": 5,
        "rows": 5
       }
      },
      "text/html": [
       "<div>\n",
       "<style scoped>\n",
       "    .dataframe tbody tr th:only-of-type {\n",
       "        vertical-align: middle;\n",
       "    }\n",
       "\n",
       "    .dataframe tbody tr th {\n",
       "        vertical-align: top;\n",
       "    }\n",
       "\n",
       "    .dataframe thead th {\n",
       "        text-align: right;\n",
       "    }\n",
       "</style>\n",
       "<table border=\"1\" class=\"dataframe\">\n",
       "  <thead>\n",
       "    <tr style=\"text-align: right;\">\n",
       "      <th></th>\n",
       "      <th>sku</th>\n",
       "      <th>product_name</th>\n",
       "      <th>price_group_id</th>\n",
       "      <th>price_group_name</th>\n",
       "      <th>group_type</th>\n",
       "    </tr>\n",
       "  </thead>\n",
       "  <tbody>\n",
       "    <tr>\n",
       "      <th>0</th>\n",
       "      <td>BOOEDTE001</td>\n",
       "      <td>PageTurn Essential Textbooks</td>\n",
       "      <td>BACK_TO_SCHOOL_01</td>\n",
       "      <td>Back to School Essentials</td>\n",
       "      <td>Seasonal</td>\n",
       "    </tr>\n",
       "    <tr>\n",
       "      <th>1</th>\n",
       "      <td>BOOEDTE002</td>\n",
       "      <td>Bookworm Advanced Textbooks</td>\n",
       "      <td>BACK_TO_SCHOOL_01</td>\n",
       "      <td>Back to School Essentials</td>\n",
       "      <td>Seasonal</td>\n",
       "    </tr>\n",
       "    <tr>\n",
       "      <th>2</th>\n",
       "      <td>BOOEDTE004</td>\n",
       "      <td>PageTurn Essential Textbooks</td>\n",
       "      <td>BACK_TO_SCHOOL_01</td>\n",
       "      <td>Back to School Essentials</td>\n",
       "      <td>Seasonal</td>\n",
       "    </tr>\n",
       "    <tr>\n",
       "      <th>3</th>\n",
       "      <td>CLOMESH002</td>\n",
       "      <td>DressRight Shirts Collection</td>\n",
       "      <td>BACK_TO_SCHOOL_01</td>\n",
       "      <td>Back to School Essentials</td>\n",
       "      <td>Seasonal</td>\n",
       "    </tr>\n",
       "    <tr>\n",
       "      <th>4</th>\n",
       "      <td>CLOMESH005</td>\n",
       "      <td>StyleX Relaxed Shirts</td>\n",
       "      <td>BACK_TO_SCHOOL_01</td>\n",
       "      <td>Back to School Essentials</td>\n",
       "      <td>Seasonal</td>\n",
       "    </tr>\n",
       "  </tbody>\n",
       "</table>\n",
       "</div>"
      ],
      "text/plain": [
       "   sku          product_name                        price_group_id      \\\n",
       "0  BOOEDTE001   PageTurn Essential Textbooks        BACK_TO_SCHOOL_01    \n",
       "1  BOOEDTE002   Bookworm Advanced Textbooks         BACK_TO_SCHOOL_01    \n",
       "2  BOOEDTE004   PageTurn Essential Textbooks        BACK_TO_SCHOOL_01    \n",
       "3  CLOMESH002   DressRight Shirts Collection        BACK_TO_SCHOOL_01    \n",
       "4  CLOMESH005   StyleX Relaxed Shirts               BACK_TO_SCHOOL_01    \n",
       "\n",
       "    price_group_name            group_type  \n",
       "0   Back to School Essentials     Seasonal  \n",
       "1   Back to School Essentials     Seasonal  \n",
       "2   Back to School Essentials     Seasonal  \n",
       "3   Back to School Essentials     Seasonal  \n",
       "4   Back to School Essentials     Seasonal  "
      ]
     },
     "execution_count": 10,
     "metadata": {},
     "output_type": "execute_result"
    }
   ],
   "source": [
    "product_groups_data.head()"
   ]
  },
  {
   "cell_type": "code",
   "execution_count": 11,
   "id": "a3bba01d",
   "metadata": {},
   "outputs": [
    {
     "data": {
      "application/vnd.microsoft.datawrangler.viewer.v0+json": {
       "columns": [
        {
         "name": "index",
         "rawType": "object",
         "type": "string"
        },
        {
         "name": "0",
         "rawType": "int64",
         "type": "integer"
        }
       ],
       "ref": "8805f55d-468a-4c15-876a-2e687ad22c27",
       "rows": [
        [
         "sku       ",
         "0"
        ],
        [
         " product_name                     ",
         "0"
        ],
        [
         " price_group_id    ",
         "0"
        ],
        [
         " price_group_name          ",
         "0"
        ],
        [
         " group_type",
         "0"
        ]
       ],
       "shape": {
        "columns": 1,
        "rows": 5
       }
      },
      "text/plain": [
       "sku                                   0\n",
       " product_name                         0\n",
       " price_group_id                       0\n",
       " price_group_name                     0\n",
       " group_type                           0\n",
       "dtype: int64"
      ]
     },
     "execution_count": 11,
     "metadata": {},
     "output_type": "execute_result"
    }
   ],
   "source": [
    "product_groups_data.isna().sum()"
   ]
  },
  {
   "cell_type": "code",
   "execution_count": 12,
   "id": "b7377ee1",
   "metadata": {},
   "outputs": [],
   "source": [
    "# Renombro columnas para que coincidan con las de transactions_data\n",
    "product_master_data.rename(columns={\"sku\": \"SKU\"}, inplace=True)\n",
    "product_groups_data.rename(columns={\"sku       \": \"SKU\"}, inplace=True)"
   ]
  },
  {
   "cell_type": "code",
   "execution_count": 13,
   "id": "5f4be042",
   "metadata": {},
   "outputs": [
    {
     "data": {
      "text/plain": [
       "80"
      ]
     },
     "execution_count": 13,
     "metadata": {},
     "output_type": "execute_result"
    }
   ],
   "source": [
    "len(product_groups_data)"
   ]
  },
  {
   "cell_type": "code",
   "execution_count": 14,
   "id": "c7489338",
   "metadata": {},
   "outputs": [
    {
     "data": {
      "text/plain": [
       "73"
      ]
     },
     "execution_count": 14,
     "metadata": {},
     "output_type": "execute_result"
    }
   ],
   "source": [
    "product_groups_data[\"SKU\"].nunique()"
   ]
  },
  {
   "cell_type": "code",
   "execution_count": 15,
   "id": "4f370277",
   "metadata": {},
   "outputs": [
    {
     "data": {
      "application/vnd.microsoft.datawrangler.viewer.v0+json": {
       "columns": [
        {
         "name": "index",
         "rawType": "int64",
         "type": "integer"
        },
        {
         "name": "SKU",
         "rawType": "object",
         "type": "string"
        },
        {
         "name": " product_name                     ",
         "rawType": "object",
         "type": "string"
        },
        {
         "name": " price_group_id    ",
         "rawType": "object",
         "type": "string"
        },
        {
         "name": " price_group_name          ",
         "rawType": "object",
         "type": "string"
        },
        {
         "name": " group_type",
         "rawType": "object",
         "type": "string"
        }
       ],
       "ref": "7881b25e-83fa-49de-986e-98c68b0da8ed",
       "rows": [
        [
         "7",
         "ELECOLA006",
         " Electra Laptops Edge XL          ",
         " BACK_TO_SCHOOL_01 ",
         " Back to School Essentials ",
         " Seasonal"
        ],
        [
         "31",
         "ELECOLA006",
         " Electra Laptops Edge XL          ",
         " COMP_SETUP_01     ",
         " Computer Setup Essentials ",
         " Bundle"
        ],
        [
         "51",
         "ELECOLA006",
         " Electra Laptops Edge XL          ",
         " MOBILE_DEVICES_01 ",
         " Personal Computing Devices",
         " Substitute"
        ],
        [
         "8",
         "ELECOLA009",
         " ByteWare Laptops Smart 2025      ",
         " BACK_TO_SCHOOL_01 ",
         " Back to School Essentials ",
         " Seasonal"
        ],
        [
         "52",
         "ELECOLA009",
         " ByteWare Laptops Smart 2025      ",
         " MOBILE_DEVICES_01 ",
         " Personal Computing Devices",
         " Substitute"
        ],
        [
         "34",
         "ELEMOAC008",
         " ByteWare Accessories Air 2025    ",
         " COMP_SETUP_01     ",
         " Computer Setup Essentials ",
         " Bundle"
        ],
        [
         "48",
         "ELEMOAC008",
         " ByteWare Accessories Air 2025    ",
         " GIFT_UNDER_50_01  ",
         " Gift Ideas Under $50      ",
         " Promotional"
        ],
        [
         "35",
         "ELEMOAC009",
         " TechPro Accessories Air X        ",
         " COMP_SETUP_01     ",
         " Computer Setup Essentials ",
         " Bundle"
        ],
        [
         "49",
         "ELEMOAC009",
         " TechPro Accessories Air X        ",
         " GIFT_UNDER_50_01  ",
         " Gift Ideas Under $50      ",
         " Promotional"
        ],
        [
         "38",
         "SPOFIEQ004",
         " FitZone Sport Equipment          ",
         " FITNESS_COMBO_01  ",
         " Complete Fitness Package  ",
         " Bundle"
        ],
        [
         "74",
         "SPOFIEQ004",
         " FitZone Sport Equipment          ",
         " WELLNESS_BUNDLE_01",
         " Wellness & Self-Care      ",
         " Lifestyle"
        ],
        [
         "40",
         "SPOFISU004",
         " FitZone Pro Supplements          ",
         " FITNESS_COMBO_01  ",
         " Complete Fitness Package  ",
         " Bundle"
        ],
        [
         "78",
         "SPOFISU004",
         " FitZone Pro Supplements          ",
         " WELLNESS_BUNDLE_01",
         " Wellness & Self-Care      ",
         " Lifestyle"
        ]
       ],
       "shape": {
        "columns": 5,
        "rows": 13
       }
      },
      "text/html": [
       "<div>\n",
       "<style scoped>\n",
       "    .dataframe tbody tr th:only-of-type {\n",
       "        vertical-align: middle;\n",
       "    }\n",
       "\n",
       "    .dataframe tbody tr th {\n",
       "        vertical-align: top;\n",
       "    }\n",
       "\n",
       "    .dataframe thead th {\n",
       "        text-align: right;\n",
       "    }\n",
       "</style>\n",
       "<table border=\"1\" class=\"dataframe\">\n",
       "  <thead>\n",
       "    <tr style=\"text-align: right;\">\n",
       "      <th></th>\n",
       "      <th>SKU</th>\n",
       "      <th>product_name</th>\n",
       "      <th>price_group_id</th>\n",
       "      <th>price_group_name</th>\n",
       "      <th>group_type</th>\n",
       "    </tr>\n",
       "  </thead>\n",
       "  <tbody>\n",
       "    <tr>\n",
       "      <th>7</th>\n",
       "      <td>ELECOLA006</td>\n",
       "      <td>Electra Laptops Edge XL</td>\n",
       "      <td>BACK_TO_SCHOOL_01</td>\n",
       "      <td>Back to School Essentials</td>\n",
       "      <td>Seasonal</td>\n",
       "    </tr>\n",
       "    <tr>\n",
       "      <th>31</th>\n",
       "      <td>ELECOLA006</td>\n",
       "      <td>Electra Laptops Edge XL</td>\n",
       "      <td>COMP_SETUP_01</td>\n",
       "      <td>Computer Setup Essentials</td>\n",
       "      <td>Bundle</td>\n",
       "    </tr>\n",
       "    <tr>\n",
       "      <th>51</th>\n",
       "      <td>ELECOLA006</td>\n",
       "      <td>Electra Laptops Edge XL</td>\n",
       "      <td>MOBILE_DEVICES_01</td>\n",
       "      <td>Personal Computing Devices</td>\n",
       "      <td>Substitute</td>\n",
       "    </tr>\n",
       "    <tr>\n",
       "      <th>8</th>\n",
       "      <td>ELECOLA009</td>\n",
       "      <td>ByteWare Laptops Smart 2025</td>\n",
       "      <td>BACK_TO_SCHOOL_01</td>\n",
       "      <td>Back to School Essentials</td>\n",
       "      <td>Seasonal</td>\n",
       "    </tr>\n",
       "    <tr>\n",
       "      <th>52</th>\n",
       "      <td>ELECOLA009</td>\n",
       "      <td>ByteWare Laptops Smart 2025</td>\n",
       "      <td>MOBILE_DEVICES_01</td>\n",
       "      <td>Personal Computing Devices</td>\n",
       "      <td>Substitute</td>\n",
       "    </tr>\n",
       "    <tr>\n",
       "      <th>34</th>\n",
       "      <td>ELEMOAC008</td>\n",
       "      <td>ByteWare Accessories Air 2025</td>\n",
       "      <td>COMP_SETUP_01</td>\n",
       "      <td>Computer Setup Essentials</td>\n",
       "      <td>Bundle</td>\n",
       "    </tr>\n",
       "    <tr>\n",
       "      <th>48</th>\n",
       "      <td>ELEMOAC008</td>\n",
       "      <td>ByteWare Accessories Air 2025</td>\n",
       "      <td>GIFT_UNDER_50_01</td>\n",
       "      <td>Gift Ideas Under $50</td>\n",
       "      <td>Promotional</td>\n",
       "    </tr>\n",
       "    <tr>\n",
       "      <th>35</th>\n",
       "      <td>ELEMOAC009</td>\n",
       "      <td>TechPro Accessories Air X</td>\n",
       "      <td>COMP_SETUP_01</td>\n",
       "      <td>Computer Setup Essentials</td>\n",
       "      <td>Bundle</td>\n",
       "    </tr>\n",
       "    <tr>\n",
       "      <th>49</th>\n",
       "      <td>ELEMOAC009</td>\n",
       "      <td>TechPro Accessories Air X</td>\n",
       "      <td>GIFT_UNDER_50_01</td>\n",
       "      <td>Gift Ideas Under $50</td>\n",
       "      <td>Promotional</td>\n",
       "    </tr>\n",
       "    <tr>\n",
       "      <th>38</th>\n",
       "      <td>SPOFIEQ004</td>\n",
       "      <td>FitZone Sport Equipment</td>\n",
       "      <td>FITNESS_COMBO_01</td>\n",
       "      <td>Complete Fitness Package</td>\n",
       "      <td>Bundle</td>\n",
       "    </tr>\n",
       "    <tr>\n",
       "      <th>74</th>\n",
       "      <td>SPOFIEQ004</td>\n",
       "      <td>FitZone Sport Equipment</td>\n",
       "      <td>WELLNESS_BUNDLE_01</td>\n",
       "      <td>Wellness &amp; Self-Care</td>\n",
       "      <td>Lifestyle</td>\n",
       "    </tr>\n",
       "    <tr>\n",
       "      <th>40</th>\n",
       "      <td>SPOFISU004</td>\n",
       "      <td>FitZone Pro Supplements</td>\n",
       "      <td>FITNESS_COMBO_01</td>\n",
       "      <td>Complete Fitness Package</td>\n",
       "      <td>Bundle</td>\n",
       "    </tr>\n",
       "    <tr>\n",
       "      <th>78</th>\n",
       "      <td>SPOFISU004</td>\n",
       "      <td>FitZone Pro Supplements</td>\n",
       "      <td>WELLNESS_BUNDLE_01</td>\n",
       "      <td>Wellness &amp; Self-Care</td>\n",
       "      <td>Lifestyle</td>\n",
       "    </tr>\n",
       "  </tbody>\n",
       "</table>\n",
       "</div>"
      ],
      "text/plain": [
       "           SKU   product_name                        price_group_id      \\\n",
       "7   ELECOLA006   Electra Laptops Edge XL             BACK_TO_SCHOOL_01    \n",
       "31  ELECOLA006   Electra Laptops Edge XL             COMP_SETUP_01        \n",
       "51  ELECOLA006   Electra Laptops Edge XL             MOBILE_DEVICES_01    \n",
       "8   ELECOLA009   ByteWare Laptops Smart 2025         BACK_TO_SCHOOL_01    \n",
       "52  ELECOLA009   ByteWare Laptops Smart 2025         MOBILE_DEVICES_01    \n",
       "34  ELEMOAC008   ByteWare Accessories Air 2025       COMP_SETUP_01        \n",
       "48  ELEMOAC008   ByteWare Accessories Air 2025       GIFT_UNDER_50_01     \n",
       "35  ELEMOAC009   TechPro Accessories Air X           COMP_SETUP_01        \n",
       "49  ELEMOAC009   TechPro Accessories Air X           GIFT_UNDER_50_01     \n",
       "38  SPOFIEQ004   FitZone Sport Equipment             FITNESS_COMBO_01     \n",
       "74  SPOFIEQ004   FitZone Sport Equipment             WELLNESS_BUNDLE_01   \n",
       "40  SPOFISU004   FitZone Pro Supplements             FITNESS_COMBO_01     \n",
       "78  SPOFISU004   FitZone Pro Supplements             WELLNESS_BUNDLE_01   \n",
       "\n",
       "     price_group_name              group_type  \n",
       "7    Back to School Essentials       Seasonal  \n",
       "31   Computer Setup Essentials         Bundle  \n",
       "51   Personal Computing Devices    Substitute  \n",
       "8    Back to School Essentials       Seasonal  \n",
       "52   Personal Computing Devices    Substitute  \n",
       "34   Computer Setup Essentials         Bundle  \n",
       "48   Gift Ideas Under $50         Promotional  \n",
       "35   Computer Setup Essentials         Bundle  \n",
       "49   Gift Ideas Under $50         Promotional  \n",
       "38   Complete Fitness Package          Bundle  \n",
       "74   Wellness & Self-Care           Lifestyle  \n",
       "40   Complete Fitness Package          Bundle  \n",
       "78   Wellness & Self-Care           Lifestyle  "
      ]
     },
     "execution_count": 15,
     "metadata": {},
     "output_type": "execute_result"
    }
   ],
   "source": [
    "# Hay repetidos, que se deben a que un producto puede pertenecer a varios grupos\n",
    "product_groups_data[product_groups_data[\"SKU\"].duplicated(keep=False)].sort_values(\"SKU\")"
   ]
  },
  {
   "cell_type": "code",
   "execution_count": 16,
   "id": "dfd46230",
   "metadata": {},
   "outputs": [],
   "source": [
    "# Dado que no se diferencian en las transacciones, los eliminamos por simplicidad\n",
    "product_groups_data.drop_duplicates(subset=[\"SKU\"], inplace=True)"
   ]
  },
  {
   "cell_type": "code",
   "execution_count": 17,
   "id": "9e5eb4c6",
   "metadata": {},
   "outputs": [
    {
     "data": {
      "application/vnd.microsoft.datawrangler.viewer.v0+json": {
       "columns": [
        {
         "name": "index",
         "rawType": "int64",
         "type": "integer"
        },
        {
         "name": "SKU",
         "rawType": "object",
         "type": "string"
        },
        {
         "name": "product_name",
         "rawType": "object",
         "type": "string"
        },
        {
         "name": "category",
         "rawType": "object",
         "type": "string"
        },
        {
         "name": "group",
         "rawType": "object",
         "type": "string"
        },
        {
         "name": "subgroup",
         "rawType": "object",
         "type": "string"
        },
        {
         "name": "brand",
         "rawType": "object",
         "type": "string"
        },
        {
         "name": "base_price",
         "rawType": "float64",
         "type": "float"
        },
        {
         "name": "initial_ticket_price",
         "rawType": "float64",
         "type": "float"
        },
        {
         "name": "costos",
         "rawType": "float64",
         "type": "float"
        }
       ],
       "ref": "e28b6d66-0c35-4a59-a7fb-0122b4df3ecc",
       "rows": [
        [
         "0",
         "ELECOLA001",
         "TechPro Laptops Smart 2025",
         "Electronics",
         "Computing",
         "Laptops",
         "TechPro",
         "284.94",
         "355.14",
         "225.84"
        ],
        [
         "1",
         "ELECOLA002",
         "Electra Laptops Ultra Pro",
         "Electronics",
         "Computing",
         "Laptops",
         "Electra",
         "311.83",
         "352.74",
         "209.99"
        ],
        [
         "2",
         "ELECOLA003",
         "CircuitCity Laptops Air 2024",
         "Electronics",
         "Computing",
         "Laptops",
         "CircuitCity",
         "246.96",
         "301.35",
         "192.61"
        ],
        [
         "3",
         "ELECOLA004",
         "TechPro Laptops Elite 2025",
         "Electronics",
         "Computing",
         "Laptops",
         "TechPro",
         "324.96",
         "420.49",
         "212.23"
        ],
        [
         "4",
         "ELECOLA005",
         "CircuitCity Laptops Pro S",
         "Electronics",
         "Computing",
         "Laptops",
         "CircuitCity",
         "339.88",
         "386.23",
         "231.75"
        ]
       ],
       "shape": {
        "columns": 9,
        "rows": 5
       }
      },
      "text/html": [
       "<div>\n",
       "<style scoped>\n",
       "    .dataframe tbody tr th:only-of-type {\n",
       "        vertical-align: middle;\n",
       "    }\n",
       "\n",
       "    .dataframe tbody tr th {\n",
       "        vertical-align: top;\n",
       "    }\n",
       "\n",
       "    .dataframe thead th {\n",
       "        text-align: right;\n",
       "    }\n",
       "</style>\n",
       "<table border=\"1\" class=\"dataframe\">\n",
       "  <thead>\n",
       "    <tr style=\"text-align: right;\">\n",
       "      <th></th>\n",
       "      <th>SKU</th>\n",
       "      <th>product_name</th>\n",
       "      <th>category</th>\n",
       "      <th>group</th>\n",
       "      <th>subgroup</th>\n",
       "      <th>brand</th>\n",
       "      <th>base_price</th>\n",
       "      <th>initial_ticket_price</th>\n",
       "      <th>costos</th>\n",
       "    </tr>\n",
       "  </thead>\n",
       "  <tbody>\n",
       "    <tr>\n",
       "      <th>0</th>\n",
       "      <td>ELECOLA001</td>\n",
       "      <td>TechPro Laptops Smart 2025</td>\n",
       "      <td>Electronics</td>\n",
       "      <td>Computing</td>\n",
       "      <td>Laptops</td>\n",
       "      <td>TechPro</td>\n",
       "      <td>284.94</td>\n",
       "      <td>355.14</td>\n",
       "      <td>225.84</td>\n",
       "    </tr>\n",
       "    <tr>\n",
       "      <th>1</th>\n",
       "      <td>ELECOLA002</td>\n",
       "      <td>Electra Laptops Ultra Pro</td>\n",
       "      <td>Electronics</td>\n",
       "      <td>Computing</td>\n",
       "      <td>Laptops</td>\n",
       "      <td>Electra</td>\n",
       "      <td>311.83</td>\n",
       "      <td>352.74</td>\n",
       "      <td>209.99</td>\n",
       "    </tr>\n",
       "    <tr>\n",
       "      <th>2</th>\n",
       "      <td>ELECOLA003</td>\n",
       "      <td>CircuitCity Laptops Air 2024</td>\n",
       "      <td>Electronics</td>\n",
       "      <td>Computing</td>\n",
       "      <td>Laptops</td>\n",
       "      <td>CircuitCity</td>\n",
       "      <td>246.96</td>\n",
       "      <td>301.35</td>\n",
       "      <td>192.61</td>\n",
       "    </tr>\n",
       "    <tr>\n",
       "      <th>3</th>\n",
       "      <td>ELECOLA004</td>\n",
       "      <td>TechPro Laptops Elite 2025</td>\n",
       "      <td>Electronics</td>\n",
       "      <td>Computing</td>\n",
       "      <td>Laptops</td>\n",
       "      <td>TechPro</td>\n",
       "      <td>324.96</td>\n",
       "      <td>420.49</td>\n",
       "      <td>212.23</td>\n",
       "    </tr>\n",
       "    <tr>\n",
       "      <th>4</th>\n",
       "      <td>ELECOLA005</td>\n",
       "      <td>CircuitCity Laptops Pro S</td>\n",
       "      <td>Electronics</td>\n",
       "      <td>Computing</td>\n",
       "      <td>Laptops</td>\n",
       "      <td>CircuitCity</td>\n",
       "      <td>339.88</td>\n",
       "      <td>386.23</td>\n",
       "      <td>231.75</td>\n",
       "    </tr>\n",
       "  </tbody>\n",
       "</table>\n",
       "</div>"
      ],
      "text/plain": [
       "          SKU                  product_name     category      group subgroup  \\\n",
       "0  ELECOLA001    TechPro Laptops Smart 2025  Electronics  Computing  Laptops   \n",
       "1  ELECOLA002     Electra Laptops Ultra Pro  Electronics  Computing  Laptops   \n",
       "2  ELECOLA003  CircuitCity Laptops Air 2024  Electronics  Computing  Laptops   \n",
       "3  ELECOLA004    TechPro Laptops Elite 2025  Electronics  Computing  Laptops   \n",
       "4  ELECOLA005     CircuitCity Laptops Pro S  Electronics  Computing  Laptops   \n",
       "\n",
       "         brand  base_price  initial_ticket_price  costos  \n",
       "0      TechPro      284.94                355.14  225.84  \n",
       "1      Electra      311.83                352.74  209.99  \n",
       "2  CircuitCity      246.96                301.35  192.61  \n",
       "3      TechPro      324.96                420.49  212.23  \n",
       "4  CircuitCity      339.88                386.23  231.75  "
      ]
     },
     "execution_count": 17,
     "metadata": {},
     "output_type": "execute_result"
    }
   ],
   "source": [
    "product_master_data.head()"
   ]
  },
  {
   "cell_type": "code",
   "execution_count": 18,
   "id": "e3145331",
   "metadata": {},
   "outputs": [
    {
     "data": {
      "application/vnd.microsoft.datawrangler.viewer.v0+json": {
       "columns": [
        {
         "name": "index",
         "rawType": "object",
         "type": "string"
        },
        {
         "name": "0",
         "rawType": "int64",
         "type": "integer"
        }
       ],
       "ref": "a47d042a-d78c-4676-9907-bdfec5de60d0",
       "rows": [
        [
         "SKU",
         "0"
        ],
        [
         "product_name",
         "0"
        ],
        [
         "category",
         "0"
        ],
        [
         "group",
         "0"
        ],
        [
         "subgroup",
         "0"
        ],
        [
         "brand",
         "0"
        ],
        [
         "base_price",
         "0"
        ],
        [
         "initial_ticket_price",
         "0"
        ],
        [
         "costos",
         "0"
        ]
       ],
       "shape": {
        "columns": 1,
        "rows": 9
       }
      },
      "text/plain": [
       "SKU                     0\n",
       "product_name            0\n",
       "category                0\n",
       "group                   0\n",
       "subgroup                0\n",
       "brand                   0\n",
       "base_price              0\n",
       "initial_ticket_price    0\n",
       "costos                  0\n",
       "dtype: int64"
      ]
     },
     "execution_count": 18,
     "metadata": {},
     "output_type": "execute_result"
    }
   ],
   "source": [
    "product_master_data.isna().sum()"
   ]
  },
  {
   "cell_type": "code",
   "execution_count": 19,
   "id": "9c122238",
   "metadata": {},
   "outputs": [
    {
     "data": {
      "text/plain": [
       "Index(['SKU', ' product_name                     ', ' price_group_id    ',\n",
       "       ' price_group_name          ', ' group_type'],\n",
       "      dtype='object')"
      ]
     },
     "execution_count": 19,
     "metadata": {},
     "output_type": "execute_result"
    }
   ],
   "source": [
    "# Notar el formato de las columnas de product_groups_data\n",
    "product_groups_data.columns"
   ]
  },
  {
   "cell_type": "code",
   "execution_count": 20,
   "id": "d7ac3003",
   "metadata": {},
   "outputs": [],
   "source": [
    "# Unimos los datos de productos con los grupos de productos\n",
    "productos = pd.merge(product_master_data, product_groups_data, on=\"SKU\", how=\"left\")"
   ]
  },
  {
   "cell_type": "code",
   "execution_count": 21,
   "id": "384020b5",
   "metadata": {},
   "outputs": [
    {
     "data": {
      "application/vnd.microsoft.datawrangler.viewer.v0+json": {
       "columns": [
        {
         "name": "index",
         "rawType": "object",
         "type": "string"
        },
        {
         "name": "0",
         "rawType": "int64",
         "type": "integer"
        }
       ],
       "ref": "7f144c2a-c7e5-41a8-a229-6c3f92cf974b",
       "rows": [
        [
         "SKU",
         "0"
        ],
        [
         "product_name",
         "0"
        ],
        [
         "category",
         "0"
        ],
        [
         "group",
         "0"
        ],
        [
         "subgroup",
         "0"
        ],
        [
         "brand",
         "0"
        ],
        [
         "base_price",
         "0"
        ],
        [
         "initial_ticket_price",
         "0"
        ],
        [
         "costos",
         "0"
        ],
        [
         " product_name                     ",
         "788"
        ],
        [
         " price_group_id    ",
         "788"
        ],
        [
         " price_group_name          ",
         "788"
        ],
        [
         " group_type",
         "788"
        ]
       ],
       "shape": {
        "columns": 1,
        "rows": 13
       }
      },
      "text/plain": [
       "SKU                                     0\n",
       "product_name                            0\n",
       "category                                0\n",
       "group                                   0\n",
       "subgroup                                0\n",
       "brand                                   0\n",
       "base_price                              0\n",
       "initial_ticket_price                    0\n",
       "costos                                  0\n",
       " product_name                         788\n",
       " price_group_id                       788\n",
       " price_group_name                     788\n",
       " group_type                           788\n",
       "dtype: int64"
      ]
     },
     "execution_count": 21,
     "metadata": {},
     "output_type": "execute_result"
    }
   ],
   "source": [
    "# Hay muchos productos que no tienen grupo asignado\n",
    "productos.isna().sum()"
   ]
  },
  {
   "cell_type": "code",
   "execution_count": 22,
   "id": "b04a8201",
   "metadata": {},
   "outputs": [],
   "source": [
    "# Asignamos Comun a los productos que no tienen grupo asignado (price_group_id y group_type, el resto no las utilizamos)\n",
    "productos[\" price_group_id    \"] = productos[' price_group_id    '].fillna('Comun')\n",
    "productos[' group_type']= productos[' group_type'].fillna('Comun')\n"
   ]
  },
  {
   "cell_type": "markdown",
   "id": "f2b49e0b",
   "metadata": {},
   "source": [
    "### Stores"
   ]
  },
  {
   "cell_type": "code",
   "execution_count": 23,
   "id": "fc95f3ee",
   "metadata": {},
   "outputs": [
    {
     "data": {
      "application/vnd.microsoft.datawrangler.viewer.v0+json": {
       "columns": [
        {
         "name": "index",
         "rawType": "int64",
         "type": "integer"
        },
        {
         "name": "STORE_ID",
         "rawType": "object",
         "type": "string"
        },
        {
         "name": "BRAND",
         "rawType": "object",
         "type": "string"
        },
        {
         "name": "STORE_NAME",
         "rawType": "object",
         "type": "string"
        },
        {
         "name": "CLUSTER",
         "rawType": "object",
         "type": "string"
        }
       ],
       "ref": "1b26a2e6-e02d-47f7-bade-b4c3468a53f4",
       "rows": [
        [
         "0",
         "S00001",
         "PrimeGoods",
         "PrimeGoods - Hillsboro",
         "Cluster_West_Coast"
        ],
        [
         "1",
         "S00002",
         "MegaShop",
         "MegaShop Indianapolis Eastside",
         "Midwest_Cluster"
        ],
        [
         "2",
         "STORE0003",
         "MarketExpress",
         "MarketExpress - Las Vegas",
         "Mountain_Cluster"
        ],
        [
         "3",
         "STORE0004",
         "MegaShop",
         "MegaShop - Oklahoma City",
         "Texas_Cluster"
        ],
        [
         "4",
         "S00005",
         "PrimeGoods",
         "PrimeGoods - Charlotte",
         "NC_Cluster"
        ]
       ],
       "shape": {
        "columns": 4,
        "rows": 5
       }
      },
      "text/html": [
       "<div>\n",
       "<style scoped>\n",
       "    .dataframe tbody tr th:only-of-type {\n",
       "        vertical-align: middle;\n",
       "    }\n",
       "\n",
       "    .dataframe tbody tr th {\n",
       "        vertical-align: top;\n",
       "    }\n",
       "\n",
       "    .dataframe thead th {\n",
       "        text-align: right;\n",
       "    }\n",
       "</style>\n",
       "<table border=\"1\" class=\"dataframe\">\n",
       "  <thead>\n",
       "    <tr style=\"text-align: right;\">\n",
       "      <th></th>\n",
       "      <th>STORE_ID</th>\n",
       "      <th>BRAND</th>\n",
       "      <th>STORE_NAME</th>\n",
       "      <th>CLUSTER</th>\n",
       "    </tr>\n",
       "  </thead>\n",
       "  <tbody>\n",
       "    <tr>\n",
       "      <th>0</th>\n",
       "      <td>S00001</td>\n",
       "      <td>PrimeGoods</td>\n",
       "      <td>PrimeGoods - Hillsboro</td>\n",
       "      <td>Cluster_West_Coast</td>\n",
       "    </tr>\n",
       "    <tr>\n",
       "      <th>1</th>\n",
       "      <td>S00002</td>\n",
       "      <td>MegaShop</td>\n",
       "      <td>MegaShop Indianapolis Eastside</td>\n",
       "      <td>Midwest_Cluster</td>\n",
       "    </tr>\n",
       "    <tr>\n",
       "      <th>2</th>\n",
       "      <td>STORE0003</td>\n",
       "      <td>MarketExpress</td>\n",
       "      <td>MarketExpress - Las Vegas</td>\n",
       "      <td>Mountain_Cluster</td>\n",
       "    </tr>\n",
       "    <tr>\n",
       "      <th>3</th>\n",
       "      <td>STORE0004</td>\n",
       "      <td>MegaShop</td>\n",
       "      <td>MegaShop - Oklahoma City</td>\n",
       "      <td>Texas_Cluster</td>\n",
       "    </tr>\n",
       "    <tr>\n",
       "      <th>4</th>\n",
       "      <td>S00005</td>\n",
       "      <td>PrimeGoods</td>\n",
       "      <td>PrimeGoods - Charlotte</td>\n",
       "      <td>NC_Cluster</td>\n",
       "    </tr>\n",
       "  </tbody>\n",
       "</table>\n",
       "</div>"
      ],
      "text/plain": [
       "    STORE_ID          BRAND                      STORE_NAME  \\\n",
       "0     S00001     PrimeGoods          PrimeGoods - Hillsboro   \n",
       "1     S00002       MegaShop  MegaShop Indianapolis Eastside   \n",
       "2  STORE0003  MarketExpress       MarketExpress - Las Vegas   \n",
       "3  STORE0004       MegaShop        MegaShop - Oklahoma City   \n",
       "4     S00005     PrimeGoods          PrimeGoods - Charlotte   \n",
       "\n",
       "              CLUSTER  \n",
       "0  Cluster_West_Coast  \n",
       "1     Midwest_Cluster  \n",
       "2    Mountain_Cluster  \n",
       "3       Texas_Cluster  \n",
       "4          NC_Cluster  "
      ]
     },
     "execution_count": 23,
     "metadata": {},
     "output_type": "execute_result"
    }
   ],
   "source": [
    "stores_clusters_data.head()"
   ]
  },
  {
   "cell_type": "code",
   "execution_count": 24,
   "id": "4d59d1c2",
   "metadata": {},
   "outputs": [
    {
     "data": {
      "application/vnd.microsoft.datawrangler.viewer.v0+json": {
       "columns": [
        {
         "name": "index",
         "rawType": "object",
         "type": "string"
        },
        {
         "name": "STORE_ID",
         "rawType": "object",
         "type": "unknown"
        },
        {
         "name": "BRAND",
         "rawType": "object",
         "type": "unknown"
        },
        {
         "name": "STORE_NAME",
         "rawType": "object",
         "type": "unknown"
        },
        {
         "name": "CLUSTER",
         "rawType": "object",
         "type": "unknown"
        }
       ],
       "ref": "252f4a82-e22d-4630-886c-fe73b21a92c0",
       "rows": [
        [
         "count",
         "157",
         "157",
         "157",
         "140"
        ],
        [
         "unique",
         "157",
         "9",
         "144",
         "13"
        ],
        [
         "top",
         "S00001",
         "EssentialsPlus",
         "EssentialsPlus - Spartanburg",
         "Cluster_West_Coast"
        ],
        [
         "freq",
         "1",
         "25",
         "3",
         "16"
        ]
       ],
       "shape": {
        "columns": 4,
        "rows": 4
       }
      },
      "text/html": [
       "<div>\n",
       "<style scoped>\n",
       "    .dataframe tbody tr th:only-of-type {\n",
       "        vertical-align: middle;\n",
       "    }\n",
       "\n",
       "    .dataframe tbody tr th {\n",
       "        vertical-align: top;\n",
       "    }\n",
       "\n",
       "    .dataframe thead th {\n",
       "        text-align: right;\n",
       "    }\n",
       "</style>\n",
       "<table border=\"1\" class=\"dataframe\">\n",
       "  <thead>\n",
       "    <tr style=\"text-align: right;\">\n",
       "      <th></th>\n",
       "      <th>STORE_ID</th>\n",
       "      <th>BRAND</th>\n",
       "      <th>STORE_NAME</th>\n",
       "      <th>CLUSTER</th>\n",
       "    </tr>\n",
       "  </thead>\n",
       "  <tbody>\n",
       "    <tr>\n",
       "      <th>count</th>\n",
       "      <td>157</td>\n",
       "      <td>157</td>\n",
       "      <td>157</td>\n",
       "      <td>140</td>\n",
       "    </tr>\n",
       "    <tr>\n",
       "      <th>unique</th>\n",
       "      <td>157</td>\n",
       "      <td>9</td>\n",
       "      <td>144</td>\n",
       "      <td>13</td>\n",
       "    </tr>\n",
       "    <tr>\n",
       "      <th>top</th>\n",
       "      <td>S00001</td>\n",
       "      <td>EssentialsPlus</td>\n",
       "      <td>EssentialsPlus - Spartanburg</td>\n",
       "      <td>Cluster_West_Coast</td>\n",
       "    </tr>\n",
       "    <tr>\n",
       "      <th>freq</th>\n",
       "      <td>1</td>\n",
       "      <td>25</td>\n",
       "      <td>3</td>\n",
       "      <td>16</td>\n",
       "    </tr>\n",
       "  </tbody>\n",
       "</table>\n",
       "</div>"
      ],
      "text/plain": [
       "       STORE_ID           BRAND                    STORE_NAME  \\\n",
       "count       157             157                           157   \n",
       "unique      157               9                           144   \n",
       "top      S00001  EssentialsPlus  EssentialsPlus - Spartanburg   \n",
       "freq          1              25                             3   \n",
       "\n",
       "                   CLUSTER  \n",
       "count                  140  \n",
       "unique                  13  \n",
       "top     Cluster_West_Coast  \n",
       "freq                    16  "
      ]
     },
     "execution_count": 24,
     "metadata": {},
     "output_type": "execute_result"
    }
   ],
   "source": [
    "stores_clusters_data.describe()"
   ]
  },
  {
   "cell_type": "code",
   "execution_count": 25,
   "id": "0d569eb5",
   "metadata": {},
   "outputs": [
    {
     "data": {
      "application/vnd.microsoft.datawrangler.viewer.v0+json": {
       "columns": [
        {
         "name": "index",
         "rawType": "object",
         "type": "string"
        },
        {
         "name": "0",
         "rawType": "int64",
         "type": "integer"
        }
       ],
       "ref": "10a79f57-6dc1-4418-8745-555a5b09208e",
       "rows": [
        [
         "STORE_ID",
         "0"
        ],
        [
         "BRAND",
         "0"
        ],
        [
         "STORE_NAME",
         "0"
        ],
        [
         "CLUSTER",
         "17"
        ]
       ],
       "shape": {
        "columns": 1,
        "rows": 4
       }
      },
      "text/plain": [
       "STORE_ID       0\n",
       "BRAND          0\n",
       "STORE_NAME     0\n",
       "CLUSTER       17\n",
       "dtype: int64"
      ]
     },
     "execution_count": 25,
     "metadata": {},
     "output_type": "execute_result"
    }
   ],
   "source": [
    "# Aunque Cluster tenga NaN, no es necesario el dato dado que ya sabemos el estado y la ciudad de cada tienda\n",
    "stores_clusters_data.isna().sum()"
   ]
  },
  {
   "cell_type": "code",
   "execution_count": 26,
   "id": "03f7d0a7",
   "metadata": {},
   "outputs": [
    {
     "data": {
      "text/plain": [
       "np.int64(157)"
      ]
     },
     "execution_count": 26,
     "metadata": {},
     "output_type": "execute_result"
    }
   ],
   "source": [
    "# Notar que hay diferentes formatos de STORE_ID, pero coinciden con los de stores_data y los de transactions_data\n",
    "(stores_clusters_data[\"STORE_ID\"].unique() == stores_data[\"STORE_ID\"].unique()).sum()"
   ]
  },
  {
   "cell_type": "code",
   "execution_count": 27,
   "id": "627c017c",
   "metadata": {},
   "outputs": [
    {
     "data": {
      "application/vnd.microsoft.datawrangler.viewer.v0+json": {
       "columns": [
        {
         "name": "index",
         "rawType": "int64",
         "type": "integer"
        },
        {
         "name": "STORE_ID",
         "rawType": "object",
         "type": "string"
        },
        {
         "name": "BRAND",
         "rawType": "object",
         "type": "string"
        },
        {
         "name": "STORE_NAME",
         "rawType": "object",
         "type": "string"
        },
        {
         "name": "ADDRESS1",
         "rawType": "object",
         "type": "string"
        },
        {
         "name": "ADDRESS2",
         "rawType": "object",
         "type": "unknown"
        },
        {
         "name": "CITY",
         "rawType": "object",
         "type": "string"
        },
        {
         "name": "STATE",
         "rawType": "object",
         "type": "string"
        },
        {
         "name": "ZIP",
         "rawType": "object",
         "type": "string"
        },
        {
         "name": "OPENDATE",
         "rawType": "object",
         "type": "string"
        },
        {
         "name": "CLOSEDATE",
         "rawType": "object",
         "type": "unknown"
        },
        {
         "name": "STORE_TYPE",
         "rawType": "object",
         "type": "string"
        },
        {
         "name": "REGION",
         "rawType": "object",
         "type": "string"
        }
       ],
       "ref": "7f674f53-211c-49bd-8e00-17209bb37677",
       "rows": [
        [
         "0",
         "S00001",
         "PrimeGoods",
         "PrimeGoods - Hillsboro",
         "5735 NE Washington Pl",
         null,
         "Hillsboro",
         "OR",
         "74820",
         "2015-01-10 00:00:00",
         null,
         "Express",
         "West"
        ],
        [
         "1",
         "S00002",
         "MegaShop",
         "MegaShop Indianapolis Eastside",
         "3557  Cedar Ct",
         "Unit 89",
         "Indianapolis",
         "IN",
         "33483-1775",
         "2012-03-23 00:00:00",
         null,
         "Express",
         "Midwest"
        ],
        [
         "2",
         "STORE0003",
         "MarketExpress",
         "MarketExpress - Las Vegas",
         "7870 W Church Ave",
         null,
         "Las Vegas",
         "NV",
         "49099",
         "2021-09-23 00:00:00",
         null,
         "Outlet",
         "West"
        ],
        [
         "3",
         "STORE0004",
         "MegaShop",
         "MegaShop - Oklahoma City",
         "3105 N Washington Pl",
         null,
         "Oklahoma City",
         "OK",
         "80592",
         "06/30/2015",
         null,
         "Mall",
         "Southwest"
        ],
        [
         "4",
         "S00005",
         "PrimeGoods",
         "PrimeGoods - Charlotte",
         "8756 SW Maple Ln",
         "Suite 848",
         "Charlotte",
         "NC",
         "32299",
         "2019-06-10 00:00:00",
         null,
         "Express",
         "Southeast"
        ]
       ],
       "shape": {
        "columns": 12,
        "rows": 5
       }
      },
      "text/html": [
       "<div>\n",
       "<style scoped>\n",
       "    .dataframe tbody tr th:only-of-type {\n",
       "        vertical-align: middle;\n",
       "    }\n",
       "\n",
       "    .dataframe tbody tr th {\n",
       "        vertical-align: top;\n",
       "    }\n",
       "\n",
       "    .dataframe thead th {\n",
       "        text-align: right;\n",
       "    }\n",
       "</style>\n",
       "<table border=\"1\" class=\"dataframe\">\n",
       "  <thead>\n",
       "    <tr style=\"text-align: right;\">\n",
       "      <th></th>\n",
       "      <th>STORE_ID</th>\n",
       "      <th>BRAND</th>\n",
       "      <th>STORE_NAME</th>\n",
       "      <th>ADDRESS1</th>\n",
       "      <th>ADDRESS2</th>\n",
       "      <th>CITY</th>\n",
       "      <th>STATE</th>\n",
       "      <th>ZIP</th>\n",
       "      <th>OPENDATE</th>\n",
       "      <th>CLOSEDATE</th>\n",
       "      <th>STORE_TYPE</th>\n",
       "      <th>REGION</th>\n",
       "    </tr>\n",
       "  </thead>\n",
       "  <tbody>\n",
       "    <tr>\n",
       "      <th>0</th>\n",
       "      <td>S00001</td>\n",
       "      <td>PrimeGoods</td>\n",
       "      <td>PrimeGoods - Hillsboro</td>\n",
       "      <td>5735 NE Washington Pl</td>\n",
       "      <td>NaN</td>\n",
       "      <td>Hillsboro</td>\n",
       "      <td>OR</td>\n",
       "      <td>74820</td>\n",
       "      <td>2015-01-10 00:00:00</td>\n",
       "      <td>NaN</td>\n",
       "      <td>Express</td>\n",
       "      <td>West</td>\n",
       "    </tr>\n",
       "    <tr>\n",
       "      <th>1</th>\n",
       "      <td>S00002</td>\n",
       "      <td>MegaShop</td>\n",
       "      <td>MegaShop Indianapolis Eastside</td>\n",
       "      <td>3557  Cedar Ct</td>\n",
       "      <td>Unit 89</td>\n",
       "      <td>Indianapolis</td>\n",
       "      <td>IN</td>\n",
       "      <td>33483-1775</td>\n",
       "      <td>2012-03-23 00:00:00</td>\n",
       "      <td>NaN</td>\n",
       "      <td>Express</td>\n",
       "      <td>Midwest</td>\n",
       "    </tr>\n",
       "    <tr>\n",
       "      <th>2</th>\n",
       "      <td>STORE0003</td>\n",
       "      <td>MarketExpress</td>\n",
       "      <td>MarketExpress - Las Vegas</td>\n",
       "      <td>7870 W Church Ave</td>\n",
       "      <td>NaN</td>\n",
       "      <td>Las Vegas</td>\n",
       "      <td>NV</td>\n",
       "      <td>49099</td>\n",
       "      <td>2021-09-23 00:00:00</td>\n",
       "      <td>NaN</td>\n",
       "      <td>Outlet</td>\n",
       "      <td>West</td>\n",
       "    </tr>\n",
       "    <tr>\n",
       "      <th>3</th>\n",
       "      <td>STORE0004</td>\n",
       "      <td>MegaShop</td>\n",
       "      <td>MegaShop - Oklahoma City</td>\n",
       "      <td>3105 N Washington Pl</td>\n",
       "      <td>NaN</td>\n",
       "      <td>Oklahoma City</td>\n",
       "      <td>OK</td>\n",
       "      <td>80592</td>\n",
       "      <td>06/30/2015</td>\n",
       "      <td>NaN</td>\n",
       "      <td>Mall</td>\n",
       "      <td>Southwest</td>\n",
       "    </tr>\n",
       "    <tr>\n",
       "      <th>4</th>\n",
       "      <td>S00005</td>\n",
       "      <td>PrimeGoods</td>\n",
       "      <td>PrimeGoods - Charlotte</td>\n",
       "      <td>8756 SW Maple Ln</td>\n",
       "      <td>Suite 848</td>\n",
       "      <td>Charlotte</td>\n",
       "      <td>NC</td>\n",
       "      <td>32299</td>\n",
       "      <td>2019-06-10 00:00:00</td>\n",
       "      <td>NaN</td>\n",
       "      <td>Express</td>\n",
       "      <td>Southeast</td>\n",
       "    </tr>\n",
       "  </tbody>\n",
       "</table>\n",
       "</div>"
      ],
      "text/plain": [
       "    STORE_ID          BRAND                      STORE_NAME  \\\n",
       "0     S00001     PrimeGoods          PrimeGoods - Hillsboro   \n",
       "1     S00002       MegaShop  MegaShop Indianapolis Eastside   \n",
       "2  STORE0003  MarketExpress       MarketExpress - Las Vegas   \n",
       "3  STORE0004       MegaShop        MegaShop - Oklahoma City   \n",
       "4     S00005     PrimeGoods          PrimeGoods - Charlotte   \n",
       "\n",
       "                ADDRESS1   ADDRESS2           CITY STATE         ZIP  \\\n",
       "0  5735 NE Washington Pl        NaN      Hillsboro    OR       74820   \n",
       "1         3557  Cedar Ct    Unit 89   Indianapolis    IN  33483-1775   \n",
       "2      7870 W Church Ave        NaN      Las Vegas    NV       49099   \n",
       "3   3105 N Washington Pl        NaN  Oklahoma City    OK       80592   \n",
       "4       8756 SW Maple Ln  Suite 848      Charlotte    NC       32299   \n",
       "\n",
       "              OPENDATE CLOSEDATE STORE_TYPE     REGION  \n",
       "0  2015-01-10 00:00:00       NaN    Express       West  \n",
       "1  2012-03-23 00:00:00       NaN    Express    Midwest  \n",
       "2  2021-09-23 00:00:00       NaN     Outlet       West  \n",
       "3           06/30/2015       NaN       Mall  Southwest  \n",
       "4  2019-06-10 00:00:00       NaN    Express  Southeast  "
      ]
     },
     "execution_count": 27,
     "metadata": {},
     "output_type": "execute_result"
    }
   ],
   "source": [
    "stores_data.head()"
   ]
  },
  {
   "cell_type": "code",
   "execution_count": 28,
   "id": "a5f2ac52",
   "metadata": {},
   "outputs": [
    {
     "data": {
      "application/vnd.microsoft.datawrangler.viewer.v0+json": {
       "columns": [
        {
         "name": "index",
         "rawType": "object",
         "type": "string"
        },
        {
         "name": "STORE_ID",
         "rawType": "object",
         "type": "unknown"
        },
        {
         "name": "BRAND",
         "rawType": "object",
         "type": "unknown"
        },
        {
         "name": "STORE_NAME",
         "rawType": "object",
         "type": "unknown"
        },
        {
         "name": "ADDRESS1",
         "rawType": "object",
         "type": "unknown"
        },
        {
         "name": "ADDRESS2",
         "rawType": "object",
         "type": "unknown"
        },
        {
         "name": "CITY",
         "rawType": "object",
         "type": "unknown"
        },
        {
         "name": "STATE",
         "rawType": "object",
         "type": "unknown"
        },
        {
         "name": "ZIP",
         "rawType": "object",
         "type": "unknown"
        },
        {
         "name": "OPENDATE",
         "rawType": "object",
         "type": "unknown"
        },
        {
         "name": "CLOSEDATE",
         "rawType": "object",
         "type": "unknown"
        },
        {
         "name": "STORE_TYPE",
         "rawType": "object",
         "type": "unknown"
        },
        {
         "name": "REGION",
         "rawType": "object",
         "type": "unknown"
        }
       ],
       "ref": "276360a2-3d8e-4754-8ec5-4c13de0f75d1",
       "rows": [
        [
         "count",
         "157",
         "157",
         "157",
         "157",
         "43",
         "157",
         "157",
         "151",
         "157",
         "18",
         "155",
         "157"
        ],
        [
         "unique",
         "157",
         "9",
         "144",
         "157",
         "34",
         "77",
         "22",
         "151",
         "155",
         "18",
         "8",
         "5"
        ],
        [
         "top",
         "S00001",
         "EssentialsPlus",
         "EssentialsPlus - Spartanburg",
         "5735 NE Washington Pl",
         "Building E",
         "Hillsboro",
         "SC",
         "74820",
         "2017-09-27 00:00:00",
         "2028-02-21 00:00:00",
         "Mall",
         "Southeast"
        ],
        [
         "freq",
         "1",
         "25",
         "3",
         "1",
         "3",
         "5",
         "13",
         "1",
         "2",
         "1",
         "44",
         "47"
        ]
       ],
       "shape": {
        "columns": 12,
        "rows": 4
       }
      },
      "text/html": [
       "<div>\n",
       "<style scoped>\n",
       "    .dataframe tbody tr th:only-of-type {\n",
       "        vertical-align: middle;\n",
       "    }\n",
       "\n",
       "    .dataframe tbody tr th {\n",
       "        vertical-align: top;\n",
       "    }\n",
       "\n",
       "    .dataframe thead th {\n",
       "        text-align: right;\n",
       "    }\n",
       "</style>\n",
       "<table border=\"1\" class=\"dataframe\">\n",
       "  <thead>\n",
       "    <tr style=\"text-align: right;\">\n",
       "      <th></th>\n",
       "      <th>STORE_ID</th>\n",
       "      <th>BRAND</th>\n",
       "      <th>STORE_NAME</th>\n",
       "      <th>ADDRESS1</th>\n",
       "      <th>ADDRESS2</th>\n",
       "      <th>CITY</th>\n",
       "      <th>STATE</th>\n",
       "      <th>ZIP</th>\n",
       "      <th>OPENDATE</th>\n",
       "      <th>CLOSEDATE</th>\n",
       "      <th>STORE_TYPE</th>\n",
       "      <th>REGION</th>\n",
       "    </tr>\n",
       "  </thead>\n",
       "  <tbody>\n",
       "    <tr>\n",
       "      <th>count</th>\n",
       "      <td>157</td>\n",
       "      <td>157</td>\n",
       "      <td>157</td>\n",
       "      <td>157</td>\n",
       "      <td>43</td>\n",
       "      <td>157</td>\n",
       "      <td>157</td>\n",
       "      <td>151</td>\n",
       "      <td>157</td>\n",
       "      <td>18</td>\n",
       "      <td>155</td>\n",
       "      <td>157</td>\n",
       "    </tr>\n",
       "    <tr>\n",
       "      <th>unique</th>\n",
       "      <td>157</td>\n",
       "      <td>9</td>\n",
       "      <td>144</td>\n",
       "      <td>157</td>\n",
       "      <td>34</td>\n",
       "      <td>77</td>\n",
       "      <td>22</td>\n",
       "      <td>151</td>\n",
       "      <td>155</td>\n",
       "      <td>18</td>\n",
       "      <td>8</td>\n",
       "      <td>5</td>\n",
       "    </tr>\n",
       "    <tr>\n",
       "      <th>top</th>\n",
       "      <td>S00001</td>\n",
       "      <td>EssentialsPlus</td>\n",
       "      <td>EssentialsPlus - Spartanburg</td>\n",
       "      <td>5735 NE Washington Pl</td>\n",
       "      <td>Building E</td>\n",
       "      <td>Hillsboro</td>\n",
       "      <td>SC</td>\n",
       "      <td>74820</td>\n",
       "      <td>2017-09-27 00:00:00</td>\n",
       "      <td>2028-02-21 00:00:00</td>\n",
       "      <td>Mall</td>\n",
       "      <td>Southeast</td>\n",
       "    </tr>\n",
       "    <tr>\n",
       "      <th>freq</th>\n",
       "      <td>1</td>\n",
       "      <td>25</td>\n",
       "      <td>3</td>\n",
       "      <td>1</td>\n",
       "      <td>3</td>\n",
       "      <td>5</td>\n",
       "      <td>13</td>\n",
       "      <td>1</td>\n",
       "      <td>2</td>\n",
       "      <td>1</td>\n",
       "      <td>44</td>\n",
       "      <td>47</td>\n",
       "    </tr>\n",
       "  </tbody>\n",
       "</table>\n",
       "</div>"
      ],
      "text/plain": [
       "       STORE_ID           BRAND                    STORE_NAME  \\\n",
       "count       157             157                           157   \n",
       "unique      157               9                           144   \n",
       "top      S00001  EssentialsPlus  EssentialsPlus - Spartanburg   \n",
       "freq          1              25                             3   \n",
       "\n",
       "                     ADDRESS1    ADDRESS2       CITY STATE    ZIP  \\\n",
       "count                     157          43        157   157    151   \n",
       "unique                    157          34         77    22    151   \n",
       "top     5735 NE Washington Pl  Building E  Hillsboro    SC  74820   \n",
       "freq                        1           3          5    13      1   \n",
       "\n",
       "                   OPENDATE            CLOSEDATE STORE_TYPE     REGION  \n",
       "count                   157                   18        155        157  \n",
       "unique                  155                   18          8          5  \n",
       "top     2017-09-27 00:00:00  2028-02-21 00:00:00       Mall  Southeast  \n",
       "freq                      2                    1         44         47  "
      ]
     },
     "execution_count": 28,
     "metadata": {},
     "output_type": "execute_result"
    }
   ],
   "source": [
    "stores_data.describe()"
   ]
  },
  {
   "cell_type": "code",
   "execution_count": 29,
   "id": "9c2471f6",
   "metadata": {},
   "outputs": [
    {
     "data": {
      "application/vnd.microsoft.datawrangler.viewer.v0+json": {
       "columns": [
        {
         "name": "index",
         "rawType": "object",
         "type": "string"
        },
        {
         "name": "0",
         "rawType": "int64",
         "type": "integer"
        }
       ],
       "ref": "b0fbb9e7-826d-403e-892d-f45c8bf3523b",
       "rows": [
        [
         "STORE_ID",
         "0"
        ],
        [
         "BRAND",
         "0"
        ],
        [
         "STORE_NAME",
         "0"
        ],
        [
         "ADDRESS1",
         "0"
        ],
        [
         "ADDRESS2",
         "114"
        ],
        [
         "CITY",
         "0"
        ],
        [
         "STATE",
         "0"
        ],
        [
         "ZIP",
         "6"
        ],
        [
         "OPENDATE",
         "0"
        ],
        [
         "CLOSEDATE",
         "139"
        ],
        [
         "STORE_TYPE",
         "2"
        ],
        [
         "REGION",
         "0"
        ]
       ],
       "shape": {
        "columns": 1,
        "rows": 12
       }
      },
      "text/plain": [
       "STORE_ID        0\n",
       "BRAND           0\n",
       "STORE_NAME      0\n",
       "ADDRESS1        0\n",
       "ADDRESS2      114\n",
       "CITY            0\n",
       "STATE           0\n",
       "ZIP             6\n",
       "OPENDATE        0\n",
       "CLOSEDATE     139\n",
       "STORE_TYPE      2\n",
       "REGION          0\n",
       "dtype: int64"
      ]
     },
     "execution_count": 29,
     "metadata": {},
     "output_type": "execute_result"
    }
   ],
   "source": [
    "stores_data.isna().sum()"
   ]
  },
  {
   "cell_type": "code",
   "execution_count": 30,
   "id": "4899c532",
   "metadata": {},
   "outputs": [],
   "source": [
    "# Completamos los NaN en STORE_TYPE con el valor mas frecuente\n",
    "stores_data[\"STORE_TYPE\"]= stores_data[\"STORE_TYPE\"].fillna(stores_data[\"STORE_TYPE\"].mode()[0])"
   ]
  },
  {
   "cell_type": "code",
   "execution_count": 31,
   "id": "eb170f70",
   "metadata": {},
   "outputs": [],
   "source": [
    "# Hay distintos formatos de fechas, lo unificamos\n",
    "stores_data_fixed = stores_data.copy()\n",
    "stores_data_fixed[\"OPENDATE\"] = pd.to_datetime(stores_data[\"OPENDATE\"], errors='coerce')\n",
    "mask = stores_data_fixed[stores_data_fixed[\"OPENDATE\"].isna()]\n",
    "stores_data_fixed.loc[mask.index, \"OPENDATE\"] = pd.to_datetime(stores_data.loc[mask.index, \"OPENDATE\"], errors='coerce')"
   ]
  },
  {
   "cell_type": "code",
   "execution_count": 32,
   "id": "a7da40a8",
   "metadata": {},
   "outputs": [],
   "source": [
    "# Reemplazamos los valores de CLOSDATE que son NaN o mayor que la fecha actual, por la fecha actual más un año (indicando que todavia no cerro)\n",
    "stores_data_fixed[\"CLOSEDATE\"] = pd.to_datetime(stores_data[\"CLOSEDATE\"], errors='coerce')\n",
    "\n",
    "# Fecha de hoy\n",
    "fecha_hoy = pd.to_datetime(\"today\", format='%Y-%m-%d').normalize()\n",
    "stores_data_fixed.loc[\n",
    "    (stores_data_fixed[\"CLOSEDATE\"].isna()) | \n",
    "    (stores_data_fixed[\"CLOSEDATE\"] > fecha_hoy), \n",
    "    \"CLOSEDATE\"\n",
    "] = fecha_hoy + pd.DateOffset(years=1)"
   ]
  },
  {
   "cell_type": "code",
   "execution_count": 33,
   "id": "04b79dfd",
   "metadata": {},
   "outputs": [
    {
     "data": {
      "application/vnd.microsoft.datawrangler.viewer.v0+json": {
       "columns": [
        {
         "name": "index",
         "rawType": "int64",
         "type": "integer"
        },
        {
         "name": "STORE_ID",
         "rawType": "object",
         "type": "string"
        },
        {
         "name": "BRAND",
         "rawType": "object",
         "type": "string"
        },
        {
         "name": "STORE_NAME",
         "rawType": "object",
         "type": "string"
        },
        {
         "name": "ADDRESS1",
         "rawType": "object",
         "type": "string"
        },
        {
         "name": "ADDRESS2",
         "rawType": "object",
         "type": "unknown"
        },
        {
         "name": "CITY",
         "rawType": "object",
         "type": "string"
        },
        {
         "name": "STATE",
         "rawType": "object",
         "type": "string"
        },
        {
         "name": "ZIP",
         "rawType": "object",
         "type": "string"
        },
        {
         "name": "OPENDATE",
         "rawType": "datetime64[ns]",
         "type": "datetime"
        },
        {
         "name": "CLOSEDATE",
         "rawType": "datetime64[ns]",
         "type": "datetime"
        },
        {
         "name": "STORE_TYPE",
         "rawType": "object",
         "type": "string"
        },
        {
         "name": "REGION",
         "rawType": "object",
         "type": "string"
        }
       ],
       "ref": "185c2531-1d27-454b-a8a4-791ae0f8ca6b",
       "rows": [
        [
         "0",
         "S00001",
         "PrimeGoods",
         "PrimeGoods - Hillsboro",
         "5735 NE Washington Pl",
         null,
         "Hillsboro",
         "OR",
         "74820",
         "2015-01-10 00:00:00",
         "2026-08-06 00:00:00",
         "Express",
         "West"
        ],
        [
         "1",
         "S00002",
         "MegaShop",
         "MegaShop Indianapolis Eastside",
         "3557  Cedar Ct",
         "Unit 89",
         "Indianapolis",
         "IN",
         "33483-1775",
         "2012-03-23 00:00:00",
         "2026-08-06 00:00:00",
         "Express",
         "Midwest"
        ],
        [
         "2",
         "STORE0003",
         "MarketExpress",
         "MarketExpress - Las Vegas",
         "7870 W Church Ave",
         null,
         "Las Vegas",
         "NV",
         "49099",
         "2021-09-23 00:00:00",
         "2026-08-06 00:00:00",
         "Outlet",
         "West"
        ],
        [
         "3",
         "STORE0004",
         "MegaShop",
         "MegaShop - Oklahoma City",
         "3105 N Washington Pl",
         null,
         "Oklahoma City",
         "OK",
         "80592",
         "2015-06-30 00:00:00",
         "2026-08-06 00:00:00",
         "Mall",
         "Southwest"
        ],
        [
         "4",
         "S00005",
         "PrimeGoods",
         "PrimeGoods - Charlotte",
         "8756 SW Maple Ln",
         "Suite 848",
         "Charlotte",
         "NC",
         "32299",
         "2019-06-10 00:00:00",
         "2026-08-06 00:00:00",
         "Express",
         "Southeast"
        ]
       ],
       "shape": {
        "columns": 12,
        "rows": 5
       }
      },
      "text/html": [
       "<div>\n",
       "<style scoped>\n",
       "    .dataframe tbody tr th:only-of-type {\n",
       "        vertical-align: middle;\n",
       "    }\n",
       "\n",
       "    .dataframe tbody tr th {\n",
       "        vertical-align: top;\n",
       "    }\n",
       "\n",
       "    .dataframe thead th {\n",
       "        text-align: right;\n",
       "    }\n",
       "</style>\n",
       "<table border=\"1\" class=\"dataframe\">\n",
       "  <thead>\n",
       "    <tr style=\"text-align: right;\">\n",
       "      <th></th>\n",
       "      <th>STORE_ID</th>\n",
       "      <th>BRAND</th>\n",
       "      <th>STORE_NAME</th>\n",
       "      <th>ADDRESS1</th>\n",
       "      <th>ADDRESS2</th>\n",
       "      <th>CITY</th>\n",
       "      <th>STATE</th>\n",
       "      <th>ZIP</th>\n",
       "      <th>OPENDATE</th>\n",
       "      <th>CLOSEDATE</th>\n",
       "      <th>STORE_TYPE</th>\n",
       "      <th>REGION</th>\n",
       "    </tr>\n",
       "  </thead>\n",
       "  <tbody>\n",
       "    <tr>\n",
       "      <th>0</th>\n",
       "      <td>S00001</td>\n",
       "      <td>PrimeGoods</td>\n",
       "      <td>PrimeGoods - Hillsboro</td>\n",
       "      <td>5735 NE Washington Pl</td>\n",
       "      <td>NaN</td>\n",
       "      <td>Hillsboro</td>\n",
       "      <td>OR</td>\n",
       "      <td>74820</td>\n",
       "      <td>2015-01-10</td>\n",
       "      <td>2026-08-06</td>\n",
       "      <td>Express</td>\n",
       "      <td>West</td>\n",
       "    </tr>\n",
       "    <tr>\n",
       "      <th>1</th>\n",
       "      <td>S00002</td>\n",
       "      <td>MegaShop</td>\n",
       "      <td>MegaShop Indianapolis Eastside</td>\n",
       "      <td>3557  Cedar Ct</td>\n",
       "      <td>Unit 89</td>\n",
       "      <td>Indianapolis</td>\n",
       "      <td>IN</td>\n",
       "      <td>33483-1775</td>\n",
       "      <td>2012-03-23</td>\n",
       "      <td>2026-08-06</td>\n",
       "      <td>Express</td>\n",
       "      <td>Midwest</td>\n",
       "    </tr>\n",
       "    <tr>\n",
       "      <th>2</th>\n",
       "      <td>STORE0003</td>\n",
       "      <td>MarketExpress</td>\n",
       "      <td>MarketExpress - Las Vegas</td>\n",
       "      <td>7870 W Church Ave</td>\n",
       "      <td>NaN</td>\n",
       "      <td>Las Vegas</td>\n",
       "      <td>NV</td>\n",
       "      <td>49099</td>\n",
       "      <td>2021-09-23</td>\n",
       "      <td>2026-08-06</td>\n",
       "      <td>Outlet</td>\n",
       "      <td>West</td>\n",
       "    </tr>\n",
       "    <tr>\n",
       "      <th>3</th>\n",
       "      <td>STORE0004</td>\n",
       "      <td>MegaShop</td>\n",
       "      <td>MegaShop - Oklahoma City</td>\n",
       "      <td>3105 N Washington Pl</td>\n",
       "      <td>NaN</td>\n",
       "      <td>Oklahoma City</td>\n",
       "      <td>OK</td>\n",
       "      <td>80592</td>\n",
       "      <td>2015-06-30</td>\n",
       "      <td>2026-08-06</td>\n",
       "      <td>Mall</td>\n",
       "      <td>Southwest</td>\n",
       "    </tr>\n",
       "    <tr>\n",
       "      <th>4</th>\n",
       "      <td>S00005</td>\n",
       "      <td>PrimeGoods</td>\n",
       "      <td>PrimeGoods - Charlotte</td>\n",
       "      <td>8756 SW Maple Ln</td>\n",
       "      <td>Suite 848</td>\n",
       "      <td>Charlotte</td>\n",
       "      <td>NC</td>\n",
       "      <td>32299</td>\n",
       "      <td>2019-06-10</td>\n",
       "      <td>2026-08-06</td>\n",
       "      <td>Express</td>\n",
       "      <td>Southeast</td>\n",
       "    </tr>\n",
       "  </tbody>\n",
       "</table>\n",
       "</div>"
      ],
      "text/plain": [
       "    STORE_ID          BRAND                      STORE_NAME  \\\n",
       "0     S00001     PrimeGoods          PrimeGoods - Hillsboro   \n",
       "1     S00002       MegaShop  MegaShop Indianapolis Eastside   \n",
       "2  STORE0003  MarketExpress       MarketExpress - Las Vegas   \n",
       "3  STORE0004       MegaShop        MegaShop - Oklahoma City   \n",
       "4     S00005     PrimeGoods          PrimeGoods - Charlotte   \n",
       "\n",
       "                ADDRESS1   ADDRESS2           CITY STATE         ZIP  \\\n",
       "0  5735 NE Washington Pl        NaN      Hillsboro    OR       74820   \n",
       "1         3557  Cedar Ct    Unit 89   Indianapolis    IN  33483-1775   \n",
       "2      7870 W Church Ave        NaN      Las Vegas    NV       49099   \n",
       "3   3105 N Washington Pl        NaN  Oklahoma City    OK       80592   \n",
       "4       8756 SW Maple Ln  Suite 848      Charlotte    NC       32299   \n",
       "\n",
       "    OPENDATE  CLOSEDATE STORE_TYPE     REGION  \n",
       "0 2015-01-10 2026-08-06    Express       West  \n",
       "1 2012-03-23 2026-08-06    Express    Midwest  \n",
       "2 2021-09-23 2026-08-06     Outlet       West  \n",
       "3 2015-06-30 2026-08-06       Mall  Southwest  \n",
       "4 2019-06-10 2026-08-06    Express  Southeast  "
      ]
     },
     "execution_count": 33,
     "metadata": {},
     "output_type": "execute_result"
    }
   ],
   "source": [
    "stores_data_fixed.head()"
   ]
  },
  {
   "cell_type": "code",
   "execution_count": 34,
   "id": "5a105bc4",
   "metadata": {},
   "outputs": [
    {
     "data": {
      "application/vnd.microsoft.datawrangler.viewer.v0+json": {
       "columns": [
        {
         "name": "index",
         "rawType": "object",
         "type": "string"
        },
        {
         "name": "0",
         "rawType": "int64",
         "type": "integer"
        }
       ],
       "ref": "1a2b83b9-907d-41c9-b6fd-c4a7fa3b4a27",
       "rows": [
        [
         "STORE_ID",
         "0"
        ],
        [
         "BRAND",
         "0"
        ],
        [
         "STORE_NAME",
         "0"
        ],
        [
         "ADDRESS1",
         "0"
        ],
        [
         "ADDRESS2",
         "114"
        ],
        [
         "CITY",
         "0"
        ],
        [
         "STATE",
         "0"
        ],
        [
         "ZIP",
         "6"
        ],
        [
         "OPENDATE",
         "0"
        ],
        [
         "CLOSEDATE",
         "0"
        ],
        [
         "STORE_TYPE",
         "0"
        ],
        [
         "REGION",
         "0"
        ]
       ],
       "shape": {
        "columns": 1,
        "rows": 12
       }
      },
      "text/plain": [
       "STORE_ID        0\n",
       "BRAND           0\n",
       "STORE_NAME      0\n",
       "ADDRESS1        0\n",
       "ADDRESS2      114\n",
       "CITY            0\n",
       "STATE           0\n",
       "ZIP             6\n",
       "OPENDATE        0\n",
       "CLOSEDATE       0\n",
       "STORE_TYPE      0\n",
       "REGION          0\n",
       "dtype: int64"
      ]
     },
     "execution_count": 34,
     "metadata": {},
     "output_type": "execute_result"
    }
   ],
   "source": [
    "# Como no utilizamos Adress, podemos dejar que haya NaN\n",
    "stores_data_fixed.isna().sum()"
   ]
  },
  {
   "cell_type": "markdown",
   "id": "3de96257",
   "metadata": {},
   "source": [
    "## Merge de datos"
   ]
  },
  {
   "cell_type": "code",
   "execution_count": 35,
   "id": "e9d6d32c",
   "metadata": {},
   "outputs": [],
   "source": [
    "stores = pd.merge(stores_data_fixed, stores_clusters_data, on=\"STORE_ID\", how=\"left\")"
   ]
  },
  {
   "cell_type": "code",
   "execution_count": 36,
   "id": "a5fbfb62",
   "metadata": {},
   "outputs": [],
   "source": [
    "datos_unidos = pd.merge(transactions_data, stores, on=\"STORE_ID\", how=\"left\")"
   ]
  },
  {
   "cell_type": "code",
   "execution_count": 37,
   "id": "c48df12f",
   "metadata": {},
   "outputs": [],
   "source": [
    "del transactions_data"
   ]
  },
  {
   "cell_type": "code",
   "execution_count": 38,
   "id": "c6a90938",
   "metadata": {},
   "outputs": [],
   "source": [
    "datos_unidos = pd.merge(datos_unidos, productos, on=\"SKU\", how=\"left\")"
   ]
  },
  {
   "cell_type": "code",
   "execution_count": 39,
   "id": "ba30ca4e",
   "metadata": {},
   "outputs": [
    {
     "data": {
      "text/plain": [
       "Index(['TRANSACTION_ID', 'DATE', 'STORE_ID', 'SKU', 'QUANTITY', 'PRICE',\n",
       "       'TOTAL_SALES', 'SUBGROUP', 'STORE_SUBGROUP_DATE_ID', 'BRAND_x',\n",
       "       'STORE_NAME_x', 'ADDRESS1', 'ADDRESS2', 'CITY', 'STATE', 'ZIP',\n",
       "       'OPENDATE', 'CLOSEDATE', 'STORE_TYPE', 'REGION', 'BRAND_y',\n",
       "       'STORE_NAME_y', 'CLUSTER', 'product_name', 'category', 'group',\n",
       "       'subgroup', 'brand', 'base_price', 'initial_ticket_price', 'costos',\n",
       "       ' product_name                     ', ' price_group_id    ',\n",
       "       ' price_group_name          ', ' group_type'],\n",
       "      dtype='object')"
      ]
     },
     "execution_count": 39,
     "metadata": {},
     "output_type": "execute_result"
    }
   ],
   "source": [
    "datos_unidos.columns"
   ]
  },
  {
   "cell_type": "code",
   "execution_count": 40,
   "id": "f53fed83",
   "metadata": {},
   "outputs": [],
   "source": [
    "# Renombramos las columnas\n",
    "datos_unidos.rename(columns={\" price_group_id    \": \"PRICE_GROUP_ID\", \"BRAND_x\": \"BRAND\",\n",
    "                             \"category\":\"CATEGORY\", \"group\":\"GROUP\", \"base_price\": \"BASE_PRICE\", \n",
    "                             \"initial_ticket_price\": \"INITIAL_TICKET_PRICE\", \"costos\": \"COSTOS\",\n",
    "                             \" group_type\": \"GROUP_TYPE\"}, inplace=True)"
   ]
  },
  {
   "cell_type": "code",
   "execution_count": 41,
   "id": "db912d97",
   "metadata": {},
   "outputs": [],
   "source": [
    "# Nos quedamos con las columnas que nos interesan\n",
    "datos_unidos = datos_unidos[[\"DATE\",  \"SKU\", \"QUANTITY\", \"PRICE\", \"TOTAL_SALES\",\n",
    "    \"REGION\", \"CITY\", \"STATE\", \"STORE_TYPE\", \"STORE_ID\", \"OPENDATE\", \"CLOSEDATE\", \"STORE_SUBGROUP_DATE_ID\",\n",
    "    \"CATEGORY\", \"GROUP\", \"SUBGROUP\",\"GROUP_TYPE\", \"PRICE_GROUP_ID\", \"BRAND\", \"INITIAL_TICKET_PRICE\", \"BASE_PRICE\", \"COSTOS\" ]]"
   ]
  },
  {
   "cell_type": "code",
   "execution_count": 42,
   "id": "514f980f",
   "metadata": {},
   "outputs": [
    {
     "data": {
      "text/plain": [
       "19159425"
      ]
     },
     "execution_count": 42,
     "metadata": {},
     "output_type": "execute_result"
    }
   ],
   "source": [
    "len(datos_unidos)"
   ]
  },
  {
   "cell_type": "code",
   "execution_count": 43,
   "id": "fded51a1",
   "metadata": {},
   "outputs": [
    {
     "data": {
      "application/vnd.microsoft.datawrangler.viewer.v0+json": {
       "columns": [
        {
         "name": "index",
         "rawType": "object",
         "type": "string"
        },
        {
         "name": "0",
         "rawType": "int64",
         "type": "integer"
        }
       ],
       "ref": "5e9d3fb4-5d10-4c92-aaed-8ce7348ccda9",
       "rows": [
        [
         "DATE",
         "0"
        ],
        [
         "SKU",
         "0"
        ],
        [
         "QUANTITY",
         "0"
        ],
        [
         "PRICE",
         "0"
        ],
        [
         "TOTAL_SALES",
         "0"
        ],
        [
         "REGION",
         "0"
        ],
        [
         "CITY",
         "0"
        ],
        [
         "STATE",
         "0"
        ],
        [
         "STORE_TYPE",
         "0"
        ],
        [
         "STORE_ID",
         "0"
        ],
        [
         "OPENDATE",
         "0"
        ],
        [
         "CLOSEDATE",
         "0"
        ],
        [
         "STORE_SUBGROUP_DATE_ID",
         "0"
        ],
        [
         "CATEGORY",
         "0"
        ],
        [
         "GROUP",
         "0"
        ],
        [
         "SUBGROUP",
         "0"
        ],
        [
         "GROUP_TYPE",
         "0"
        ],
        [
         "PRICE_GROUP_ID",
         "0"
        ],
        [
         "BRAND",
         "0"
        ],
        [
         "INITIAL_TICKET_PRICE",
         "0"
        ],
        [
         "BASE_PRICE",
         "0"
        ],
        [
         "COSTOS",
         "0"
        ]
       ],
       "shape": {
        "columns": 1,
        "rows": 22
       }
      },
      "text/plain": [
       "DATE                      0\n",
       "SKU                       0\n",
       "QUANTITY                  0\n",
       "PRICE                     0\n",
       "TOTAL_SALES               0\n",
       "REGION                    0\n",
       "CITY                      0\n",
       "STATE                     0\n",
       "STORE_TYPE                0\n",
       "STORE_ID                  0\n",
       "OPENDATE                  0\n",
       "CLOSEDATE                 0\n",
       "STORE_SUBGROUP_DATE_ID    0\n",
       "CATEGORY                  0\n",
       "GROUP                     0\n",
       "SUBGROUP                  0\n",
       "GROUP_TYPE                0\n",
       "PRICE_GROUP_ID            0\n",
       "BRAND                     0\n",
       "INITIAL_TICKET_PRICE      0\n",
       "BASE_PRICE                0\n",
       "COSTOS                    0\n",
       "dtype: int64"
      ]
     },
     "execution_count": 43,
     "metadata": {},
     "output_type": "execute_result"
    }
   ],
   "source": [
    "# No aseguramos que no haya valores NaN\n",
    "datos_unidos.isna().sum()"
   ]
  },
  {
   "cell_type": "markdown",
   "id": "3c5c595a",
   "metadata": {},
   "source": [
    "## Feature Engineering"
   ]
  },
  {
   "cell_type": "code",
   "execution_count": 44,
   "id": "d82c1e14",
   "metadata": {},
   "outputs": [],
   "source": [
    "# Nos aseguramos que este ordenado por fecha\n",
    "datos_unidos.sort_values(by=\"DATE\", inplace=True)"
   ]
  },
  {
   "cell_type": "code",
   "execution_count": 45,
   "id": "f9d3d7de",
   "metadata": {},
   "outputs": [],
   "source": [
    "datos_unidos[\"YEAR\"] = datos_unidos[\"DATE\"].dt.year\n",
    "datos_unidos[\"MONTH\"] = datos_unidos[\"DATE\"].dt.month\n",
    "datos_unidos[\"DAY\"] = datos_unidos[\"DATE\"].dt.day\n",
    "datos_unidos[\"DAY_OF_WEEK\"] = datos_unidos[\"DATE\"].dt.day_name()\n",
    "datos_unidos[\"WEEK\"] = datos_unidos[\"DATE\"].dt.isocalendar().week"
   ]
  },
  {
   "cell_type": "code",
   "execution_count": 46,
   "id": "dea4b506",
   "metadata": {},
   "outputs": [
    {
     "data": {
      "text/plain": [
       "np.int64(18451229)"
      ]
     },
     "execution_count": 46,
     "metadata": {},
     "output_type": "execute_result"
    }
   ],
   "source": [
    "# La mayoria de datos son transacciones repetidas\n",
    "datos_unidos.duplicated(subset=[\"SKU\", \"DATE\", \"STORE_ID\"], keep=False).sum()"
   ]
  },
  {
   "cell_type": "code",
   "execution_count": 47,
   "id": "e6cb54a9",
   "metadata": {},
   "outputs": [],
   "source": [
    "# Las agregamos para que tengamos una sola fila por SKU, DATE y STORE_ID, promediando el precio y sumando la cantidad y las ventas totales\n",
    "otras_cols = [c for c in datos_unidos.columns if c not in ['SKU', 'DATE', 'STORE_ID'] + ['PRICE', 'QUANTITY', \"TOTAL_SALES\"]]\n",
    "\n",
    "agg_dict = {'PRICE': 'mean', 'QUANTITY': 'sum', \"TOTAL_SALES\": 'sum'}\n",
    "agg_dict.update({col: 'first' for col in otras_cols})\n",
    "\n",
    "datos_unidos = datos_unidos.groupby(['SKU', 'DATE', 'STORE_ID'], as_index=False).agg(agg_dict)"
   ]
  },
  {
   "cell_type": "code",
   "execution_count": 67,
   "id": "b60a5d9a",
   "metadata": {},
   "outputs": [
    {
     "data": {
      "text/plain": [
       "6859693"
      ]
     },
     "execution_count": 67,
     "metadata": {},
     "output_type": "execute_result"
    }
   ],
   "source": [
    "len(datos_unidos)"
   ]
  },
  {
   "cell_type": "markdown",
   "id": "dee1c612",
   "metadata": {},
   "source": [
    "Ahorramos memoria cambiando el tipo de datos"
   ]
  },
  {
   "cell_type": "code",
   "execution_count": null,
   "id": "20667c9b",
   "metadata": {},
   "outputs": [],
   "source": [
    "cols_category= [\"SKU\", \"REGION\", \"CITY\", \"STATE\", \"STORE_TYPE\", \"STORE_ID\", \"STORE_SUBGROUP_DATE_ID\",\n",
    "    \"CATEGORY\", \"GROUP\", \"SUBGROUP\",\"GROUP_TYPE\", \"PRICE_GROUP_ID\", \"BRAND\", \"DAY_OF_WEEK\"]\n",
    "for col in cols_category:\n",
    "    datos_unidos[col] = datos_unidos[col].astype(\"category\")"
   ]
  },
  {
   "cell_type": "code",
   "execution_count": 58,
   "id": "bbd9afe0",
   "metadata": {},
   "outputs": [],
   "source": [
    "for col in [\"PRICE\", \"TOTAL_SALES\", \"INITIAL_TICKET_PRICE\", \"BASE_PRICE\", \"COSTOS\" ]:\n",
    "    datos_unidos[col] = datos_unidos[col].astype(\"float32\")"
   ]
  },
  {
   "cell_type": "code",
   "execution_count": 68,
   "id": "27b94fc8",
   "metadata": {},
   "outputs": [],
   "source": [
    "for col in [\"QUANTITY\", \"DAY\", \"WEEK\", \"MONTH\", \"YEAR\"]:\n",
    "    datos_unidos[col] = datos_unidos[col].astype(\"int16\")"
   ]
  },
  {
   "cell_type": "code",
   "execution_count": 70,
   "id": "cf47dbc7",
   "metadata": {},
   "outputs": [
    {
     "data": {
      "text/plain": [
       "np.float64(1.3572822762653232)"
      ]
     },
     "execution_count": 70,
     "metadata": {},
     "output_type": "execute_result"
    }
   ],
   "source": [
    "# Memoria utilizada (GB)\n",
    "datos_unidos.memory_usage(deep=True).sum() / (1024**3)"
   ]
  },
  {
   "cell_type": "markdown",
   "id": "5ba7037b",
   "metadata": {},
   "source": [
    "## Outliers"
   ]
  },
  {
   "cell_type": "code",
   "execution_count": 75,
   "id": "568c571c",
   "metadata": {},
   "outputs": [
    {
     "data": {
      "text/html": [
       "<div>\n",
       "<style scoped>\n",
       "    .dataframe tbody tr th:only-of-type {\n",
       "        vertical-align: middle;\n",
       "    }\n",
       "\n",
       "    .dataframe tbody tr th {\n",
       "        vertical-align: top;\n",
       "    }\n",
       "\n",
       "    .dataframe thead th {\n",
       "        text-align: right;\n",
       "    }\n",
       "</style>\n",
       "<table border=\"1\" class=\"dataframe\">\n",
       "  <thead>\n",
       "    <tr style=\"text-align: right;\">\n",
       "      <th></th>\n",
       "      <th>TRANSACTION_ID</th>\n",
       "      <th>QUANTITY</th>\n",
       "      <th>PRICE</th>\n",
       "      <th>TOTAL_SALES</th>\n",
       "      <th>OPENDATE</th>\n",
       "      <th>CLOSEDATE</th>\n",
       "      <th>INITIAL_TICKET_PRICE</th>\n",
       "      <th>BASE_PRICE</th>\n",
       "      <th>COSTOS</th>\n",
       "    </tr>\n",
       "  </thead>\n",
       "  <tbody>\n",
       "    <tr>\n",
       "      <th>count</th>\n",
       "      <td>19159425.00</td>\n",
       "      <td>19159425.00</td>\n",
       "      <td>19159425.00</td>\n",
       "      <td>19159425.00</td>\n",
       "      <td>19159425</td>\n",
       "      <td>19159425</td>\n",
       "      <td>19159425.00</td>\n",
       "      <td>19159425.00</td>\n",
       "      <td>19159425.00</td>\n",
       "    </tr>\n",
       "    <tr>\n",
       "      <th>mean</th>\n",
       "      <td>9502506.90</td>\n",
       "      <td>1.43</td>\n",
       "      <td>68.84</td>\n",
       "      <td>97.58</td>\n",
       "      <td>2015-08-13 13:58:48.432632832</td>\n",
       "      <td>2026-07-13 15:31:23.542142464</td>\n",
       "      <td>84.20</td>\n",
       "      <td>70.23</td>\n",
       "      <td>44.10</td>\n",
       "    </tr>\n",
       "    <tr>\n",
       "      <th>min</th>\n",
       "      <td>1.00</td>\n",
       "      <td>1.00</td>\n",
       "      <td>4.02</td>\n",
       "      <td>4.02</td>\n",
       "      <td>2001-08-29 00:00:00</td>\n",
       "      <td>2023-11-01 00:00:00</td>\n",
       "      <td>8.88</td>\n",
       "      <td>8.02</td>\n",
       "      <td>5.76</td>\n",
       "    </tr>\n",
       "    <tr>\n",
       "      <th>25%</th>\n",
       "      <td>4751389.00</td>\n",
       "      <td>1.00</td>\n",
       "      <td>23.07</td>\n",
       "      <td>25.64</td>\n",
       "      <td>2012-05-29 00:00:00</td>\n",
       "      <td>2026-07-28 00:00:00</td>\n",
       "      <td>28.32</td>\n",
       "      <td>24.03</td>\n",
       "      <td>11.16</td>\n",
       "    </tr>\n",
       "    <tr>\n",
       "      <th>50%</th>\n",
       "      <td>9502476.00</td>\n",
       "      <td>1.00</td>\n",
       "      <td>41.57</td>\n",
       "      <td>48.39</td>\n",
       "      <td>2016-02-26 00:00:00</td>\n",
       "      <td>2026-07-28 00:00:00</td>\n",
       "      <td>50.12</td>\n",
       "      <td>42.58</td>\n",
       "      <td>19.70</td>\n",
       "    </tr>\n",
       "    <tr>\n",
       "      <th>75%</th>\n",
       "      <td>14253732.00</td>\n",
       "      <td>2.00</td>\n",
       "      <td>75.16</td>\n",
       "      <td>93.48</td>\n",
       "      <td>2019-10-14 00:00:00</td>\n",
       "      <td>2026-07-28 00:00:00</td>\n",
       "      <td>93.26</td>\n",
       "      <td>77.90</td>\n",
       "      <td>45.74</td>\n",
       "    </tr>\n",
       "    <tr>\n",
       "      <th>max</th>\n",
       "      <td>19004759.00</td>\n",
       "      <td>85.00</td>\n",
       "      <td>431.87</td>\n",
       "      <td>8369.26</td>\n",
       "      <td>2023-10-14 00:00:00</td>\n",
       "      <td>2026-07-28 00:00:00</td>\n",
       "      <td>452.69</td>\n",
       "      <td>358.79</td>\n",
       "      <td>281.26</td>\n",
       "    </tr>\n",
       "    <tr>\n",
       "      <th>std</th>\n",
       "      <td>5486267.37</td>\n",
       "      <td>1.00</td>\n",
       "      <td>83.74</td>\n",
       "      <td>155.44</td>\n",
       "      <td>NaN</td>\n",
       "      <td>NaN</td>\n",
       "      <td>101.88</td>\n",
       "      <td>84.80</td>\n",
       "      <td>63.15</td>\n",
       "    </tr>\n",
       "  </tbody>\n",
       "</table>\n",
       "</div>"
      ],
      "text/plain": [
       "       TRANSACTION_ID     QUANTITY        PRICE  TOTAL_SALES  \\\n",
       "count     19159425.00  19159425.00  19159425.00  19159425.00   \n",
       "mean       9502506.90         1.43        68.84        97.58   \n",
       "min              1.00         1.00         4.02         4.02   \n",
       "25%        4751389.00         1.00        23.07        25.64   \n",
       "50%        9502476.00         1.00        41.57        48.39   \n",
       "75%       14253732.00         2.00        75.16        93.48   \n",
       "max       19004759.00        85.00       431.87      8369.26   \n",
       "std        5486267.37         1.00        83.74       155.44   \n",
       "\n",
       "                            OPENDATE                      CLOSEDATE  \\\n",
       "count                       19159425                       19159425   \n",
       "mean   2015-08-13 13:58:48.432632832  2026-07-13 15:31:23.542142464   \n",
       "min              2001-08-29 00:00:00            2023-11-01 00:00:00   \n",
       "25%              2012-05-29 00:00:00            2026-07-28 00:00:00   \n",
       "50%              2016-02-26 00:00:00            2026-07-28 00:00:00   \n",
       "75%              2019-10-14 00:00:00            2026-07-28 00:00:00   \n",
       "max              2023-10-14 00:00:00            2026-07-28 00:00:00   \n",
       "std                              NaN                            NaN   \n",
       "\n",
       "       INITIAL_TICKET_PRICE   BASE_PRICE       COSTOS  \n",
       "count           19159425.00  19159425.00  19159425.00  \n",
       "mean                  84.20        70.23        44.10  \n",
       "min                    8.88         8.02         5.76  \n",
       "25%                   28.32        24.03        11.16  \n",
       "50%                   50.12        42.58        19.70  \n",
       "75%                   93.26        77.90        45.74  \n",
       "max                  452.69       358.79       281.26  \n",
       "std                  101.88        84.80        63.15  "
      ]
     },
     "execution_count": 75,
     "metadata": {},
     "output_type": "execute_result"
    }
   ],
   "source": [
    "datos_unidos.describe().round(2)"
   ]
  },
  {
   "cell_type": "code",
   "execution_count": 78,
   "id": "fe870ea0",
   "metadata": {},
   "outputs": [
    {
     "data": {
      "text/plain": [
       "np.float64(10.0)"
      ]
     },
     "execution_count": 78,
     "metadata": {},
     "output_type": "execute_result"
    }
   ],
   "source": [
    "datos_unidos.QUANTITY.quantile(0.999)"
   ]
  },
  {
   "cell_type": "code",
   "execution_count": 62,
   "id": "17c4a219",
   "metadata": {},
   "outputs": [],
   "source": [
    "# Eliminamos los outliers de la columna QUANTITY, aquellos que superen el 99.9%\n",
    "datos_unidos = datos_unidos[datos_unidos.QUANTITY <= datos_unidos.QUANTITY.quantile(0.999)]"
   ]
  },
  {
   "cell_type": "code",
   "execution_count": 65,
   "id": "942c5863",
   "metadata": {},
   "outputs": [],
   "source": [
    "# Lo mismo con PRICE y TOTAL SALES\n",
    "datos_unidos = datos_unidos[datos_unidos.PRICE <= datos_unidos.PRICE.quantile(0.999)]\n",
    "datos_unidos = datos_unidos[datos_unidos.TOTAL_SALES <= datos_unidos.TOTAL_SALES.quantile(0.999)]"
   ]
  },
  {
   "cell_type": "code",
   "execution_count": 66,
   "id": "5dfd04ce",
   "metadata": {},
   "outputs": [
    {
     "data": {
      "application/vnd.microsoft.datawrangler.viewer.v0+json": {
       "columns": [
        {
         "name": "index",
         "rawType": "object",
         "type": "string"
        },
        {
         "name": "DATE",
         "rawType": "object",
         "type": "unknown"
        },
        {
         "name": "PRICE",
         "rawType": "float64",
         "type": "float"
        },
        {
         "name": "QUANTITY",
         "rawType": "float64",
         "type": "float"
        },
        {
         "name": "TOTAL_SALES",
         "rawType": "float64",
         "type": "float"
        },
        {
         "name": "OPENDATE",
         "rawType": "object",
         "type": "unknown"
        },
        {
         "name": "CLOSEDATE",
         "rawType": "object",
         "type": "unknown"
        },
        {
         "name": "INITIAL_TICKET_PRICE",
         "rawType": "float64",
         "type": "float"
        },
        {
         "name": "BASE_PRICE",
         "rawType": "float64",
         "type": "float"
        },
        {
         "name": "COSTOS",
         "rawType": "float64",
         "type": "float"
        },
        {
         "name": "YEAR",
         "rawType": "float64",
         "type": "float"
        },
        {
         "name": "MONTH",
         "rawType": "float64",
         "type": "float"
        },
        {
         "name": "DAY",
         "rawType": "float64",
         "type": "float"
        },
        {
         "name": "WEEK",
         "rawType": "Float64",
         "type": "float"
        }
       ],
       "ref": "9250f7fa-178c-48e2-865a-953cdb8298b8",
       "rows": [
        [
         "count",
         "6832782",
         "6832782.0",
         "6832782.0",
         "6832782.0",
         "6832782",
         "6832782",
         "6832782.0",
         "6832782.0",
         "6832782.0",
         "6832782.0",
         "6832782.0",
         "6832782.0",
         "6832782.0"
        ],
        [
         "mean",
         "2022-07-01 22:21:46.998175488",
         "68.82",
         "3.97",
         "265.1",
         "2015-08-13 14:19:16.966165504",
         "2026-07-22 11:53:56.863113472",
         "83.8",
         "69.9",
         "43.88",
         "2022.0",
         "6.55",
         "15.71",
         "26.67"
        ],
        [
         "min",
         "2021-01-01 00:00:00",
         "4.02",
         "1.0",
         "4.75",
         "2001-08-29 00:00:00",
         "2023-11-01 00:00:00",
         "8.88",
         "8.02",
         "5.76",
         "2021.0",
         "1.0",
         "1.0",
         "1.0"
        ],
        [
         "25%",
         "2021-10-01 00:00:00",
         "23.24",
         "2.0",
         "60.12",
         "2012-05-29 00:00:00",
         "2026-08-06 00:00:00",
         "28.32",
         "24.03",
         "11.16",
         "2021.0",
         "4.0",
         "8.0",
         "14.0"
        ],
        [
         "50%",
         "2022-07-02 00:00:00",
         "41.71",
         "4.0",
         "136.68",
         "2016-02-26 00:00:00",
         "2026-08-06 00:00:00",
         "50.12",
         "42.58",
         "19.7",
         "2022.0",
         "7.0",
         "16.0",
         "27.0"
        ],
        [
         "75%",
         "2023-04-01 00:00:00",
         "74.26",
         "5.0",
         "281.48",
         "2019-10-14 00:00:00",
         "2026-08-06 00:00:00",
         "92.11",
         "77.39",
         "44.63",
         "2023.0",
         "10.0",
         "23.0",
         "40.0"
        ],
        [
         "max",
         "2023-12-31 00:00:00",
         "375.9",
         "22.0",
         "3421.87",
         "2023-10-14 00:00:00",
         "2026-08-06 00:00:00",
         "452.69",
         "358.79",
         "281.26",
         "2023.0",
         "12.0",
         "31.0",
         "53.0"
        ],
        [
         "std",
         null,
         "83.62",
         "2.37",
         "380.77",
         null,
         null,
         "101.59",
         "84.58",
         "62.97",
         "0.82",
         "3.45",
         "8.8",
         "15.05"
        ]
       ],
       "shape": {
        "columns": 13,
        "rows": 8
       }
      },
      "text/html": [
       "<div>\n",
       "<style scoped>\n",
       "    .dataframe tbody tr th:only-of-type {\n",
       "        vertical-align: middle;\n",
       "    }\n",
       "\n",
       "    .dataframe tbody tr th {\n",
       "        vertical-align: top;\n",
       "    }\n",
       "\n",
       "    .dataframe thead th {\n",
       "        text-align: right;\n",
       "    }\n",
       "</style>\n",
       "<table border=\"1\" class=\"dataframe\">\n",
       "  <thead>\n",
       "    <tr style=\"text-align: right;\">\n",
       "      <th></th>\n",
       "      <th>DATE</th>\n",
       "      <th>PRICE</th>\n",
       "      <th>QUANTITY</th>\n",
       "      <th>TOTAL_SALES</th>\n",
       "      <th>OPENDATE</th>\n",
       "      <th>CLOSEDATE</th>\n",
       "      <th>INITIAL_TICKET_PRICE</th>\n",
       "      <th>BASE_PRICE</th>\n",
       "      <th>COSTOS</th>\n",
       "      <th>YEAR</th>\n",
       "      <th>MONTH</th>\n",
       "      <th>DAY</th>\n",
       "      <th>WEEK</th>\n",
       "    </tr>\n",
       "  </thead>\n",
       "  <tbody>\n",
       "    <tr>\n",
       "      <th>count</th>\n",
       "      <td>6832782</td>\n",
       "      <td>6832782.00</td>\n",
       "      <td>6832782.00</td>\n",
       "      <td>6832782.00</td>\n",
       "      <td>6832782</td>\n",
       "      <td>6832782</td>\n",
       "      <td>6832782.00</td>\n",
       "      <td>6832782.00</td>\n",
       "      <td>6832782.00</td>\n",
       "      <td>6832782.00</td>\n",
       "      <td>6832782.00</td>\n",
       "      <td>6832782.00</td>\n",
       "      <td>6832782.0</td>\n",
       "    </tr>\n",
       "    <tr>\n",
       "      <th>mean</th>\n",
       "      <td>2022-07-01 22:21:46.998175488</td>\n",
       "      <td>68.82</td>\n",
       "      <td>3.97</td>\n",
       "      <td>265.10</td>\n",
       "      <td>2015-08-13 14:19:16.966165504</td>\n",
       "      <td>2026-07-22 11:53:56.863113472</td>\n",
       "      <td>83.80</td>\n",
       "      <td>69.90</td>\n",
       "      <td>43.88</td>\n",
       "      <td>2022.00</td>\n",
       "      <td>6.55</td>\n",
       "      <td>15.71</td>\n",
       "      <td>26.67</td>\n",
       "    </tr>\n",
       "    <tr>\n",
       "      <th>min</th>\n",
       "      <td>2021-01-01 00:00:00</td>\n",
       "      <td>4.02</td>\n",
       "      <td>1.00</td>\n",
       "      <td>4.75</td>\n",
       "      <td>2001-08-29 00:00:00</td>\n",
       "      <td>2023-11-01 00:00:00</td>\n",
       "      <td>8.88</td>\n",
       "      <td>8.02</td>\n",
       "      <td>5.76</td>\n",
       "      <td>2021.00</td>\n",
       "      <td>1.00</td>\n",
       "      <td>1.00</td>\n",
       "      <td>1.0</td>\n",
       "    </tr>\n",
       "    <tr>\n",
       "      <th>25%</th>\n",
       "      <td>2021-10-01 00:00:00</td>\n",
       "      <td>23.24</td>\n",
       "      <td>2.00</td>\n",
       "      <td>60.12</td>\n",
       "      <td>2012-05-29 00:00:00</td>\n",
       "      <td>2026-08-06 00:00:00</td>\n",
       "      <td>28.32</td>\n",
       "      <td>24.03</td>\n",
       "      <td>11.16</td>\n",
       "      <td>2021.00</td>\n",
       "      <td>4.00</td>\n",
       "      <td>8.00</td>\n",
       "      <td>14.0</td>\n",
       "    </tr>\n",
       "    <tr>\n",
       "      <th>50%</th>\n",
       "      <td>2022-07-02 00:00:00</td>\n",
       "      <td>41.71</td>\n",
       "      <td>4.00</td>\n",
       "      <td>136.68</td>\n",
       "      <td>2016-02-26 00:00:00</td>\n",
       "      <td>2026-08-06 00:00:00</td>\n",
       "      <td>50.12</td>\n",
       "      <td>42.58</td>\n",
       "      <td>19.70</td>\n",
       "      <td>2022.00</td>\n",
       "      <td>7.00</td>\n",
       "      <td>16.00</td>\n",
       "      <td>27.0</td>\n",
       "    </tr>\n",
       "    <tr>\n",
       "      <th>75%</th>\n",
       "      <td>2023-04-01 00:00:00</td>\n",
       "      <td>74.26</td>\n",
       "      <td>5.00</td>\n",
       "      <td>281.48</td>\n",
       "      <td>2019-10-14 00:00:00</td>\n",
       "      <td>2026-08-06 00:00:00</td>\n",
       "      <td>92.11</td>\n",
       "      <td>77.39</td>\n",
       "      <td>44.63</td>\n",
       "      <td>2023.00</td>\n",
       "      <td>10.00</td>\n",
       "      <td>23.00</td>\n",
       "      <td>40.0</td>\n",
       "    </tr>\n",
       "    <tr>\n",
       "      <th>max</th>\n",
       "      <td>2023-12-31 00:00:00</td>\n",
       "      <td>375.90</td>\n",
       "      <td>22.00</td>\n",
       "      <td>3421.87</td>\n",
       "      <td>2023-10-14 00:00:00</td>\n",
       "      <td>2026-08-06 00:00:00</td>\n",
       "      <td>452.69</td>\n",
       "      <td>358.79</td>\n",
       "      <td>281.26</td>\n",
       "      <td>2023.00</td>\n",
       "      <td>12.00</td>\n",
       "      <td>31.00</td>\n",
       "      <td>53.0</td>\n",
       "    </tr>\n",
       "    <tr>\n",
       "      <th>std</th>\n",
       "      <td>NaN</td>\n",
       "      <td>83.62</td>\n",
       "      <td>2.37</td>\n",
       "      <td>380.77</td>\n",
       "      <td>NaN</td>\n",
       "      <td>NaN</td>\n",
       "      <td>101.59</td>\n",
       "      <td>84.58</td>\n",
       "      <td>62.97</td>\n",
       "      <td>0.82</td>\n",
       "      <td>3.45</td>\n",
       "      <td>8.80</td>\n",
       "      <td>15.05</td>\n",
       "    </tr>\n",
       "  </tbody>\n",
       "</table>\n",
       "</div>"
      ],
      "text/plain": [
       "                                DATE       PRICE    QUANTITY  TOTAL_SALES  \\\n",
       "count                        6832782  6832782.00  6832782.00   6832782.00   \n",
       "mean   2022-07-01 22:21:46.998175488       68.82        3.97       265.10   \n",
       "min              2021-01-01 00:00:00        4.02        1.00         4.75   \n",
       "25%              2021-10-01 00:00:00       23.24        2.00        60.12   \n",
       "50%              2022-07-02 00:00:00       41.71        4.00       136.68   \n",
       "75%              2023-04-01 00:00:00       74.26        5.00       281.48   \n",
       "max              2023-12-31 00:00:00      375.90       22.00      3421.87   \n",
       "std                              NaN       83.62        2.37       380.77   \n",
       "\n",
       "                            OPENDATE                      CLOSEDATE  \\\n",
       "count                        6832782                        6832782   \n",
       "mean   2015-08-13 14:19:16.966165504  2026-07-22 11:53:56.863113472   \n",
       "min              2001-08-29 00:00:00            2023-11-01 00:00:00   \n",
       "25%              2012-05-29 00:00:00            2026-08-06 00:00:00   \n",
       "50%              2016-02-26 00:00:00            2026-08-06 00:00:00   \n",
       "75%              2019-10-14 00:00:00            2026-08-06 00:00:00   \n",
       "max              2023-10-14 00:00:00            2026-08-06 00:00:00   \n",
       "std                              NaN                            NaN   \n",
       "\n",
       "       INITIAL_TICKET_PRICE  BASE_PRICE      COSTOS        YEAR       MONTH  \\\n",
       "count            6832782.00  6832782.00  6832782.00  6832782.00  6832782.00   \n",
       "mean                  83.80       69.90       43.88     2022.00        6.55   \n",
       "min                    8.88        8.02        5.76     2021.00        1.00   \n",
       "25%                   28.32       24.03       11.16     2021.00        4.00   \n",
       "50%                   50.12       42.58       19.70     2022.00        7.00   \n",
       "75%                   92.11       77.39       44.63     2023.00       10.00   \n",
       "max                  452.69      358.79      281.26     2023.00       12.00   \n",
       "std                  101.59       84.58       62.97        0.82        3.45   \n",
       "\n",
       "              DAY       WEEK  \n",
       "count  6832782.00  6832782.0  \n",
       "mean        15.71      26.67  \n",
       "min          1.00        1.0  \n",
       "25%          8.00       14.0  \n",
       "50%         16.00       27.0  \n",
       "75%         23.00       40.0  \n",
       "max         31.00       53.0  \n",
       "std          8.80      15.05  "
      ]
     },
     "execution_count": 66,
     "metadata": {},
     "output_type": "execute_result"
    }
   ],
   "source": [
    "datos_unidos.describe().round(2)"
   ]
  },
  {
   "cell_type": "code",
   "execution_count": 74,
   "id": "1e8b00ae",
   "metadata": {},
   "outputs": [],
   "source": [
    "# Guardamos los datos\n",
    "datos_unidos.to_csv(\"../data/procesados/datos_unidos.csv\", index=False)"
   ]
  },
  {
   "cell_type": "markdown",
   "id": "368d7617",
   "metadata": {},
   "source": [
    "## Tests"
   ]
  },
  {
   "cell_type": "markdown",
   "id": "94d62148",
   "metadata": {},
   "source": [
    "Rellenamos los dias en los que no se realizaron transacciones en cada tienda con 0 en cantidad y ventas totales, preservando el resto de features"
   ]
  },
  {
   "cell_type": "code",
   "execution_count": 105,
   "id": "0bfe6548",
   "metadata": {},
   "outputs": [],
   "source": [
    "todas_las_fechas = pd.date_range(datos_unidos['DATE'].min(), datos_unidos['DATE'].max(), freq='D')\n",
    "todos_los_skus = datos_unidos['SKU'].unique()\n",
    "todas_las_tiendas = datos_unidos['STORE_ID'].unique()\n",
    "\n",
    "combinaciones = pd.MultiIndex.from_product(\n",
    "    [todos_los_skus, todas_las_tiendas, todas_las_fechas],\n",
    "    names=['SKU', 'STORE_ID', 'DATE']\n",
    ").to_frame(index=False)"
   ]
  },
  {
   "cell_type": "code",
   "execution_count": 108,
   "id": "31a6177e",
   "metadata": {},
   "outputs": [
    {
     "data": {
      "text/plain": [
       "142139760"
      ]
     },
     "execution_count": 108,
     "metadata": {},
     "output_type": "execute_result"
    }
   ],
   "source": [
    "len(combinaciones)"
   ]
  },
  {
   "cell_type": "code",
   "execution_count": 107,
   "id": "47056a30",
   "metadata": {},
   "outputs": [
    {
     "ename": "MemoryError",
     "evalue": "Unable to allocate 12.7 GiB for an array with shape (12, 142139760) and data type object",
     "output_type": "error",
     "traceback": [
      "\u001b[31m---------------------------------------------------------------------------\u001b[39m",
      "\u001b[31mMemoryError\u001b[39m                               Traceback (most recent call last)",
      "\u001b[36mCell\u001b[39m\u001b[36m \u001b[39m\u001b[32mIn[107]\u001b[39m\u001b[32m, line 1\u001b[39m\n\u001b[32m----> \u001b[39m\u001b[32m1\u001b[39m datos_unidos = pd.merge(combinaciones, datos_unidos, on=[\u001b[33m'\u001b[39m\u001b[33mSKU\u001b[39m\u001b[33m'\u001b[39m, \u001b[33m'\u001b[39m\u001b[33mSTORE_ID\u001b[39m\u001b[33m'\u001b[39m, \u001b[33m'\u001b[39m\u001b[33mDATE\u001b[39m\u001b[33m'\u001b[39m], how=\u001b[33m'\u001b[39m\u001b[33mleft\u001b[39m\u001b[33m'\u001b[39m)\n\u001b[32m      2\u001b[39m datos_unidos[\u001b[33m'\u001b[39m\u001b[33mQUANTITY\u001b[39m\u001b[33m'\u001b[39m] = datos_unidos[\u001b[33m'\u001b[39m\u001b[33mQUANTITY\u001b[39m\u001b[33m'\u001b[39m].fillna(\u001b[32m0\u001b[39m)\n\u001b[32m      3\u001b[39m datos_unidos[\u001b[33m'\u001b[39m\u001b[33mTOTAL_SALES\u001b[39m\u001b[33m'\u001b[39m] = datos_unidos[\u001b[33m'\u001b[39m\u001b[33mTOTAL_SALES\u001b[39m\u001b[33m'\u001b[39m].fillna(\u001b[32m0\u001b[39m)\n",
      "\u001b[36mFile \u001b[39m\u001b[32mc:\\Users\\Juan Cruz\\Desktop\\GitHub\\AlixPartners-Competencia\\alix_env\\Lib\\site-packages\\pandas\\core\\reshape\\merge.py:184\u001b[39m, in \u001b[36mmerge\u001b[39m\u001b[34m(left, right, how, on, left_on, right_on, left_index, right_index, sort, suffixes, copy, indicator, validate)\u001b[39m\n\u001b[32m    169\u001b[39m \u001b[38;5;28;01melse\u001b[39;00m:\n\u001b[32m    170\u001b[39m     op = _MergeOperation(\n\u001b[32m    171\u001b[39m         left_df,\n\u001b[32m    172\u001b[39m         right_df,\n\u001b[32m   (...)\u001b[39m\u001b[32m    182\u001b[39m         validate=validate,\n\u001b[32m    183\u001b[39m     )\n\u001b[32m--> \u001b[39m\u001b[32m184\u001b[39m     \u001b[38;5;28;01mreturn\u001b[39;00m op.get_result(copy=copy)\n",
      "\u001b[36mFile \u001b[39m\u001b[32mc:\\Users\\Juan Cruz\\Desktop\\GitHub\\AlixPartners-Competencia\\alix_env\\Lib\\site-packages\\pandas\\core\\reshape\\merge.py:888\u001b[39m, in \u001b[36m_MergeOperation.get_result\u001b[39m\u001b[34m(self, copy)\u001b[39m\n\u001b[32m    884\u001b[39m     \u001b[38;5;28mself\u001b[39m.left, \u001b[38;5;28mself\u001b[39m.right = \u001b[38;5;28mself\u001b[39m._indicator_pre_merge(\u001b[38;5;28mself\u001b[39m.left, \u001b[38;5;28mself\u001b[39m.right)\n\u001b[32m    886\u001b[39m join_index, left_indexer, right_indexer = \u001b[38;5;28mself\u001b[39m._get_join_info()\n\u001b[32m--> \u001b[39m\u001b[32m888\u001b[39m result = \u001b[38;5;28mself\u001b[39m._reindex_and_concat(\n\u001b[32m    889\u001b[39m     join_index, left_indexer, right_indexer, copy=copy\n\u001b[32m    890\u001b[39m )\n\u001b[32m    891\u001b[39m result = result.__finalize__(\u001b[38;5;28mself\u001b[39m, method=\u001b[38;5;28mself\u001b[39m._merge_type)\n\u001b[32m    893\u001b[39m \u001b[38;5;28;01mif\u001b[39;00m \u001b[38;5;28mself\u001b[39m.indicator:\n",
      "\u001b[36mFile \u001b[39m\u001b[32mc:\\Users\\Juan Cruz\\Desktop\\GitHub\\AlixPartners-Competencia\\alix_env\\Lib\\site-packages\\pandas\\core\\reshape\\merge.py:879\u001b[39m, in \u001b[36m_MergeOperation._reindex_and_concat\u001b[39m\u001b[34m(self, join_index, left_indexer, right_indexer, copy)\u001b[39m\n\u001b[32m    877\u001b[39m left.columns = llabels\n\u001b[32m    878\u001b[39m right.columns = rlabels\n\u001b[32m--> \u001b[39m\u001b[32m879\u001b[39m result = concat([left, right], axis=\u001b[32m1\u001b[39m, copy=copy)\n\u001b[32m    880\u001b[39m \u001b[38;5;28;01mreturn\u001b[39;00m result\n",
      "\u001b[36mFile \u001b[39m\u001b[32mc:\\Users\\Juan Cruz\\Desktop\\GitHub\\AlixPartners-Competencia\\alix_env\\Lib\\site-packages\\pandas\\core\\reshape\\concat.py:395\u001b[39m, in \u001b[36mconcat\u001b[39m\u001b[34m(objs, axis, join, ignore_index, keys, levels, names, verify_integrity, sort, copy)\u001b[39m\n\u001b[32m    380\u001b[39m     copy = \u001b[38;5;28;01mFalse\u001b[39;00m\n\u001b[32m    382\u001b[39m op = _Concatenator(\n\u001b[32m    383\u001b[39m     objs,\n\u001b[32m    384\u001b[39m     axis=axis,\n\u001b[32m   (...)\u001b[39m\u001b[32m    392\u001b[39m     sort=sort,\n\u001b[32m    393\u001b[39m )\n\u001b[32m--> \u001b[39m\u001b[32m395\u001b[39m \u001b[38;5;28;01mreturn\u001b[39;00m op.get_result()\n",
      "\u001b[36mFile \u001b[39m\u001b[32mc:\\Users\\Juan Cruz\\Desktop\\GitHub\\AlixPartners-Competencia\\alix_env\\Lib\\site-packages\\pandas\\core\\reshape\\concat.py:684\u001b[39m, in \u001b[36m_Concatenator.get_result\u001b[39m\u001b[34m(self)\u001b[39m\n\u001b[32m    680\u001b[39m             indexers[ax] = obj_labels.get_indexer(new_labels)\n\u001b[32m    682\u001b[39m     mgrs_indexers.append((obj._mgr, indexers))\n\u001b[32m--> \u001b[39m\u001b[32m684\u001b[39m new_data = concatenate_managers(\n\u001b[32m    685\u001b[39m     mgrs_indexers, \u001b[38;5;28mself\u001b[39m.new_axes, concat_axis=\u001b[38;5;28mself\u001b[39m.bm_axis, copy=\u001b[38;5;28mself\u001b[39m.copy\n\u001b[32m    686\u001b[39m )\n\u001b[32m    687\u001b[39m \u001b[38;5;28;01mif\u001b[39;00m \u001b[38;5;129;01mnot\u001b[39;00m \u001b[38;5;28mself\u001b[39m.copy \u001b[38;5;129;01mand\u001b[39;00m \u001b[38;5;129;01mnot\u001b[39;00m using_copy_on_write():\n\u001b[32m    688\u001b[39m     new_data._consolidate_inplace()\n",
      "\u001b[36mFile \u001b[39m\u001b[32mc:\\Users\\Juan Cruz\\Desktop\\GitHub\\AlixPartners-Competencia\\alix_env\\Lib\\site-packages\\pandas\\core\\internals\\concat.py:131\u001b[39m, in \u001b[36mconcatenate_managers\u001b[39m\u001b[34m(mgrs_indexers, axes, concat_axis, copy)\u001b[39m\n\u001b[32m    124\u001b[39m \u001b[38;5;66;03m# Assertions disabled for performance\u001b[39;00m\n\u001b[32m    125\u001b[39m \u001b[38;5;66;03m# for tup in mgrs_indexers:\u001b[39;00m\n\u001b[32m    126\u001b[39m \u001b[38;5;66;03m#    # caller is responsible for ensuring this\u001b[39;00m\n\u001b[32m    127\u001b[39m \u001b[38;5;66;03m#    indexers = tup[1]\u001b[39;00m\n\u001b[32m    128\u001b[39m \u001b[38;5;66;03m#    assert concat_axis not in indexers\u001b[39;00m\n\u001b[32m    130\u001b[39m \u001b[38;5;28;01mif\u001b[39;00m concat_axis == \u001b[32m0\u001b[39m:\n\u001b[32m--> \u001b[39m\u001b[32m131\u001b[39m     mgrs = _maybe_reindex_columns_na_proxy(axes, mgrs_indexers, needs_copy)\n\u001b[32m    132\u001b[39m     \u001b[38;5;28;01mreturn\u001b[39;00m mgrs[\u001b[32m0\u001b[39m].concat_horizontal(mgrs, axes)\n\u001b[32m    134\u001b[39m \u001b[38;5;28;01mif\u001b[39;00m \u001b[38;5;28mlen\u001b[39m(mgrs_indexers) > \u001b[32m0\u001b[39m \u001b[38;5;129;01mand\u001b[39;00m mgrs_indexers[\u001b[32m0\u001b[39m][\u001b[32m0\u001b[39m].nblocks > \u001b[32m0\u001b[39m:\n",
      "\u001b[36mFile \u001b[39m\u001b[32mc:\\Users\\Juan Cruz\\Desktop\\GitHub\\AlixPartners-Competencia\\alix_env\\Lib\\site-packages\\pandas\\core\\internals\\concat.py:230\u001b[39m, in \u001b[36m_maybe_reindex_columns_na_proxy\u001b[39m\u001b[34m(axes, mgrs_indexers, needs_copy)\u001b[39m\n\u001b[32m    220\u001b[39m         mgr = mgr.reindex_indexer(\n\u001b[32m    221\u001b[39m             axes[i],\n\u001b[32m    222\u001b[39m             indexers[i],\n\u001b[32m   (...)\u001b[39m\u001b[32m    227\u001b[39m             use_na_proxy=\u001b[38;5;28;01mTrue\u001b[39;00m,  \u001b[38;5;66;03m# only relevant for i==0\u001b[39;00m\n\u001b[32m    228\u001b[39m         )\n\u001b[32m    229\u001b[39m     \u001b[38;5;28;01mif\u001b[39;00m needs_copy \u001b[38;5;129;01mand\u001b[39;00m \u001b[38;5;129;01mnot\u001b[39;00m indexers:\n\u001b[32m--> \u001b[39m\u001b[32m230\u001b[39m         mgr = mgr.copy()\n\u001b[32m    232\u001b[39m     new_mgrs.append(mgr)\n\u001b[32m    233\u001b[39m \u001b[38;5;28;01mreturn\u001b[39;00m new_mgrs\n",
      "\u001b[36mFile \u001b[39m\u001b[32mc:\\Users\\Juan Cruz\\Desktop\\GitHub\\AlixPartners-Competencia\\alix_env\\Lib\\site-packages\\pandas\\core\\internals\\managers.py:593\u001b[39m, in \u001b[36mBaseBlockManager.copy\u001b[39m\u001b[34m(self, deep)\u001b[39m\n\u001b[32m    590\u001b[39m     \u001b[38;5;28;01melse\u001b[39;00m:\n\u001b[32m    591\u001b[39m         new_axes = \u001b[38;5;28mlist\u001b[39m(\u001b[38;5;28mself\u001b[39m.axes)\n\u001b[32m--> \u001b[39m\u001b[32m593\u001b[39m res = \u001b[38;5;28mself\u001b[39m.apply(\u001b[33m\"\u001b[39m\u001b[33mcopy\u001b[39m\u001b[33m\"\u001b[39m, deep=deep)\n\u001b[32m    594\u001b[39m res.axes = new_axes\n\u001b[32m    596\u001b[39m \u001b[38;5;28;01mif\u001b[39;00m \u001b[38;5;28mself\u001b[39m.ndim > \u001b[32m1\u001b[39m:\n\u001b[32m    597\u001b[39m     \u001b[38;5;66;03m# Avoid needing to re-compute these\u001b[39;00m\n",
      "\u001b[36mFile \u001b[39m\u001b[32mc:\\Users\\Juan Cruz\\Desktop\\GitHub\\AlixPartners-Competencia\\alix_env\\Lib\\site-packages\\pandas\\core\\internals\\managers.py:363\u001b[39m, in \u001b[36mBaseBlockManager.apply\u001b[39m\u001b[34m(self, f, align_keys, **kwargs)\u001b[39m\n\u001b[32m    361\u001b[39m         applied = b.apply(f, **kwargs)\n\u001b[32m    362\u001b[39m     \u001b[38;5;28;01melse\u001b[39;00m:\n\u001b[32m--> \u001b[39m\u001b[32m363\u001b[39m         applied = \u001b[38;5;28mgetattr\u001b[39m(b, f)(**kwargs)\n\u001b[32m    364\u001b[39m     result_blocks = extend_blocks(applied, result_blocks)\n\u001b[32m    366\u001b[39m out = \u001b[38;5;28mtype\u001b[39m(\u001b[38;5;28mself\u001b[39m).from_blocks(result_blocks, \u001b[38;5;28mself\u001b[39m.axes)\n",
      "\u001b[36mFile \u001b[39m\u001b[32mc:\\Users\\Juan Cruz\\Desktop\\GitHub\\AlixPartners-Competencia\\alix_env\\Lib\\site-packages\\pandas\\core\\internals\\blocks.py:822\u001b[39m, in \u001b[36mBlock.copy\u001b[39m\u001b[34m(self, deep)\u001b[39m\n\u001b[32m    820\u001b[39m refs: BlockValuesRefs | \u001b[38;5;28;01mNone\u001b[39;00m\n\u001b[32m    821\u001b[39m \u001b[38;5;28;01mif\u001b[39;00m deep:\n\u001b[32m--> \u001b[39m\u001b[32m822\u001b[39m     values = values.copy()\n\u001b[32m    823\u001b[39m     refs = \u001b[38;5;28;01mNone\u001b[39;00m\n\u001b[32m    824\u001b[39m \u001b[38;5;28;01melse\u001b[39;00m:\n",
      "\u001b[31mMemoryError\u001b[39m: Unable to allocate 12.7 GiB for an array with shape (12, 142139760) and data type object"
     ]
    }
   ],
   "source": [
    "datos_unidos = pd.merge(combinaciones, datos_unidos, on=['SKU', 'STORE_ID', 'DATE'], how='left')\n",
    "datos_unidos['QUANTITY'] = datos_unidos['QUANTITY'].fillna(0)\n",
    "datos_unidos['TOTAL_SALES'] = datos_unidos['TOTAL_SALES'].fillna(0)"
   ]
  },
  {
   "cell_type": "code",
   "execution_count": 109,
   "id": "b63bddff",
   "metadata": {},
   "outputs": [
    {
     "data": {
      "text/plain": [
       "6859693"
      ]
     },
     "execution_count": 109,
     "metadata": {},
     "output_type": "execute_result"
    }
   ],
   "source": [
    "len(datos_unidos)"
   ]
  },
  {
   "cell_type": "code",
   "execution_count": null,
   "id": "6e437d7b",
   "metadata": {},
   "outputs": [],
   "source": [
    "for col in otras_cols+[\"PRICE\"]:\n",
    "    datos_unidos[col] = datos_unidos.groupby(['SKU'])[col].transform(lambda x : x.ffill()).bfill()"
   ]
  },
  {
   "cell_type": "code",
   "execution_count": 48,
   "id": "52ed854a",
   "metadata": {},
   "outputs": [],
   "source": [
    "def rolling_features(df, group_col, windows = [7,30, 90, 180]):\n",
    "    ventas_diarias = df.groupby([group_col, 'DATE']).agg(\n",
    "        total_cantidad_diaria=('QUANTITY', 'sum')).reset_index()\n",
    "    \n",
    "    ventas_diarias = ventas_diarias.sort_values(by='DATE')\n",
    "    \n",
    "    for window in windows:\n",
    "        ventas_diarias[f\"{group_col}_mean_{window}D\"] = ventas_diarias.groupby(group_col)[\"total_cantidad_diaria\"].rolling(window=window, min_periods=1).mean().reset_index(level=0, drop=True)\n",
    "        ventas_diarias[f\"{group_col}_mean_{window}D\"] = ventas_diarias.groupby(group_col)[\"total_cantidad_diaria\"].rolling(window=window, min_periods=1).std().reset_index(level=0, drop=True)\n",
    "\n",
    "    df = pd.merge(\n",
    "        df,\n",
    "        ventas_diarias[[group_col, 'DATE'] + [f\"{group_col}_mean_{window}D\" for window in windows]],\n",
    "        on=[group_col, 'DATE'],\n",
    "        how='left'\n",
    "    )\n",
    "\n",
    "    return df"
   ]
  },
  {
   "cell_type": "code",
   "execution_count": 181,
   "id": "0839c24d",
   "metadata": {},
   "outputs": [],
   "source": [
    "datos_unidos = rolling_features(datos_unidos, 'SKU')"
   ]
  },
  {
   "cell_type": "code",
   "execution_count": null,
   "id": "82622e3c",
   "metadata": {},
   "outputs": [],
   "source": [
    "datos_unidos = rolling_features(datos_unidos, 'STORE_ID')"
   ]
  }
 ],
 "metadata": {
  "kernelspec": {
   "display_name": "Python 3",
   "language": "python",
   "name": "python3"
  },
  "language_info": {
   "codemirror_mode": {
    "name": "ipython",
    "version": 3
   },
   "file_extension": ".py",
   "mimetype": "text/x-python",
   "name": "python",
   "nbconvert_exporter": "python",
   "pygments_lexer": "ipython3",
   "version": "3.12.11"
  }
 },
 "nbformat": 4,
 "nbformat_minor": 5
}
